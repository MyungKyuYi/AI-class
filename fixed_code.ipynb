{
 "cells": [
  {
   "cell_type": "code",
   "execution_count": 1,
   "id": "b8580f1b-43a0-4384-a37f-ce9fcb4652cc",
   "metadata": {},
   "outputs": [],
   "source": [
    "import pandas as pd\n",
    "from sklearn.model_selection import StratifiedShuffleSplit\n",
    "from scipy.stats import skew\n",
    "import os\n",
    "import csv\n",
    "import pandas as pd\n",
    "from tqdm import tqdm"
   ]
  },
  {
   "cell_type": "code",
   "execution_count": 2,
   "id": "c8c2e459-e785-4038-892a-85abbce833a3",
   "metadata": {},
   "outputs": [],
   "source": [
    "df = pd.read_csv(\"E:/dataset/HAR/DSADS/DSA_features.csv\")"
   ]
  },
  {
   "cell_type": "code",
   "execution_count": 3,
   "id": "6dcdec6c-3020-4293-9063-12c9699b7da3",
   "metadata": {},
   "outputs": [
    {
     "data": {
      "text/html": [
       "<div>\n",
       "<style scoped>\n",
       "    .dataframe tbody tr th:only-of-type {\n",
       "        vertical-align: middle;\n",
       "    }\n",
       "\n",
       "    .dataframe tbody tr th {\n",
       "        vertical-align: top;\n",
       "    }\n",
       "\n",
       "    .dataframe thead th {\n",
       "        text-align: right;\n",
       "    }\n",
       "</style>\n",
       "<table border=\"1\" class=\"dataframe\">\n",
       "  <thead>\n",
       "    <tr style=\"text-align: right;\">\n",
       "      <th></th>\n",
       "      <th>T_xacc_mean</th>\n",
       "      <th>T_xacc_max</th>\n",
       "      <th>T_xacc_min</th>\n",
       "      <th>T_xacc_var</th>\n",
       "      <th>T_xacc_std</th>\n",
       "      <th>T_xacc_skew</th>\n",
       "      <th>T_yacc_mean</th>\n",
       "      <th>T_yacc_max</th>\n",
       "      <th>T_yacc_min</th>\n",
       "      <th>T_yacc_var</th>\n",
       "      <th>...</th>\n",
       "      <th>LL_ymag_std</th>\n",
       "      <th>LL_ymag_skew</th>\n",
       "      <th>LL_zmag_mean</th>\n",
       "      <th>LL_zmag_max</th>\n",
       "      <th>LL_zmag_min</th>\n",
       "      <th>LL_zmag_var</th>\n",
       "      <th>LL_zmag_std</th>\n",
       "      <th>LL_zmag_skew</th>\n",
       "      <th>activity</th>\n",
       "      <th>people</th>\n",
       "    </tr>\n",
       "  </thead>\n",
       "  <tbody>\n",
       "    <tr>\n",
       "      <th>0</th>\n",
       "      <td>7.975714</td>\n",
       "      <td>8.1605</td>\n",
       "      <td>7.6823</td>\n",
       "      <td>0.014395</td>\n",
       "      <td>0.119981</td>\n",
       "      <td>-0.023319</td>\n",
       "      <td>1.083150</td>\n",
       "      <td>1.1832</td>\n",
       "      <td>0.99744</td>\n",
       "      <td>0.002208</td>\n",
       "      <td>...</td>\n",
       "      <td>0.000792</td>\n",
       "      <td>0.177075</td>\n",
       "      <td>-0.057119</td>\n",
       "      <td>-0.054963</td>\n",
       "      <td>-0.059241</td>\n",
       "      <td>6.778722e-07</td>\n",
       "      <td>0.000823</td>\n",
       "      <td>0.036729</td>\n",
       "      <td>sitting</td>\n",
       "      <td>p1</td>\n",
       "    </tr>\n",
       "    <tr>\n",
       "      <th>1</th>\n",
       "      <td>7.978250</td>\n",
       "      <td>8.1763</td>\n",
       "      <td>7.8472</td>\n",
       "      <td>0.007551</td>\n",
       "      <td>0.086896</td>\n",
       "      <td>0.552416</td>\n",
       "      <td>1.140865</td>\n",
       "      <td>1.2129</td>\n",
       "      <td>1.05810</td>\n",
       "      <td>0.000784</td>\n",
       "      <td>...</td>\n",
       "      <td>0.000860</td>\n",
       "      <td>-0.286918</td>\n",
       "      <td>-0.057268</td>\n",
       "      <td>-0.054945</td>\n",
       "      <td>-0.059589</td>\n",
       "      <td>7.032302e-07</td>\n",
       "      <td>0.000839</td>\n",
       "      <td>0.347471</td>\n",
       "      <td>sitting</td>\n",
       "      <td>p1</td>\n",
       "    </tr>\n",
       "    <tr>\n",
       "      <th>2</th>\n",
       "      <td>7.970894</td>\n",
       "      <td>8.0860</td>\n",
       "      <td>7.8470</td>\n",
       "      <td>0.003092</td>\n",
       "      <td>0.055603</td>\n",
       "      <td>0.100538</td>\n",
       "      <td>1.140962</td>\n",
       "      <td>1.2128</td>\n",
       "      <td>1.07960</td>\n",
       "      <td>0.000508</td>\n",
       "      <td>...</td>\n",
       "      <td>0.000762</td>\n",
       "      <td>-0.134430</td>\n",
       "      <td>-0.057068</td>\n",
       "      <td>-0.054711</td>\n",
       "      <td>-0.059065</td>\n",
       "      <td>6.268222e-07</td>\n",
       "      <td>0.000792</td>\n",
       "      <td>0.045579</td>\n",
       "      <td>sitting</td>\n",
       "      <td>p1</td>\n",
       "    </tr>\n",
       "    <tr>\n",
       "      <th>3</th>\n",
       "      <td>7.938412</td>\n",
       "      <td>8.1083</td>\n",
       "      <td>7.6901</td>\n",
       "      <td>0.003763</td>\n",
       "      <td>0.061343</td>\n",
       "      <td>-0.231914</td>\n",
       "      <td>1.165260</td>\n",
       "      <td>1.3170</td>\n",
       "      <td>1.07870</td>\n",
       "      <td>0.002173</td>\n",
       "      <td>...</td>\n",
       "      <td>0.000735</td>\n",
       "      <td>0.021485</td>\n",
       "      <td>-0.056422</td>\n",
       "      <td>-0.053670</td>\n",
       "      <td>-0.058310</td>\n",
       "      <td>8.011245e-07</td>\n",
       "      <td>0.000895</td>\n",
       "      <td>0.240690</td>\n",
       "      <td>sitting</td>\n",
       "      <td>p1</td>\n",
       "    </tr>\n",
       "    <tr>\n",
       "      <th>4</th>\n",
       "      <td>7.908930</td>\n",
       "      <td>8.1305</td>\n",
       "      <td>7.8322</td>\n",
       "      <td>0.001741</td>\n",
       "      <td>0.041731</td>\n",
       "      <td>2.042285</td>\n",
       "      <td>1.187504</td>\n",
       "      <td>1.2574</td>\n",
       "      <td>1.09450</td>\n",
       "      <td>0.000662</td>\n",
       "      <td>...</td>\n",
       "      <td>0.000824</td>\n",
       "      <td>-0.148229</td>\n",
       "      <td>-0.055801</td>\n",
       "      <td>-0.053313</td>\n",
       "      <td>-0.057815</td>\n",
       "      <td>6.853423e-07</td>\n",
       "      <td>0.000828</td>\n",
       "      <td>0.258429</td>\n",
       "      <td>sitting</td>\n",
       "      <td>p1</td>\n",
       "    </tr>\n",
       "    <tr>\n",
       "      <th>...</th>\n",
       "      <td>...</td>\n",
       "      <td>...</td>\n",
       "      <td>...</td>\n",
       "      <td>...</td>\n",
       "      <td>...</td>\n",
       "      <td>...</td>\n",
       "      <td>...</td>\n",
       "      <td>...</td>\n",
       "      <td>...</td>\n",
       "      <td>...</td>\n",
       "      <td>...</td>\n",
       "      <td>...</td>\n",
       "      <td>...</td>\n",
       "      <td>...</td>\n",
       "      <td>...</td>\n",
       "      <td>...</td>\n",
       "      <td>...</td>\n",
       "      <td>...</td>\n",
       "      <td>...</td>\n",
       "      <td>...</td>\n",
       "      <td>...</td>\n",
       "    </tr>\n",
       "    <tr>\n",
       "      <th>9115</th>\n",
       "      <td>8.280854</td>\n",
       "      <td>34.1980</td>\n",
       "      <td>-2.9038</td>\n",
       "      <td>28.080803</td>\n",
       "      <td>5.299132</td>\n",
       "      <td>1.350075</td>\n",
       "      <td>-1.491537</td>\n",
       "      <td>11.2240</td>\n",
       "      <td>-11.65100</td>\n",
       "      <td>14.670334</td>\n",
       "      <td>...</td>\n",
       "      <td>0.200829</td>\n",
       "      <td>-0.040701</td>\n",
       "      <td>0.297666</td>\n",
       "      <td>0.708480</td>\n",
       "      <td>-0.117430</td>\n",
       "      <td>4.135451e-02</td>\n",
       "      <td>0.203358</td>\n",
       "      <td>-0.310022</td>\n",
       "      <td>basketBall</td>\n",
       "      <td>p8</td>\n",
       "    </tr>\n",
       "    <tr>\n",
       "      <th>9116</th>\n",
       "      <td>9.591118</td>\n",
       "      <td>51.6970</td>\n",
       "      <td>-3.4129</td>\n",
       "      <td>35.722025</td>\n",
       "      <td>5.976791</td>\n",
       "      <td>2.981144</td>\n",
       "      <td>0.086304</td>\n",
       "      <td>6.9951</td>\n",
       "      <td>-11.76400</td>\n",
       "      <td>5.329897</td>\n",
       "      <td>...</td>\n",
       "      <td>0.148745</td>\n",
       "      <td>-0.266377</td>\n",
       "      <td>0.224716</td>\n",
       "      <td>0.554670</td>\n",
       "      <td>-0.250950</td>\n",
       "      <td>3.355704e-02</td>\n",
       "      <td>0.183186</td>\n",
       "      <td>-0.736410</td>\n",
       "      <td>basketBall</td>\n",
       "      <td>p8</td>\n",
       "    </tr>\n",
       "    <tr>\n",
       "      <th>9117</th>\n",
       "      <td>9.599113</td>\n",
       "      <td>27.9300</td>\n",
       "      <td>-1.0765</td>\n",
       "      <td>48.850886</td>\n",
       "      <td>6.989341</td>\n",
       "      <td>0.449237</td>\n",
       "      <td>-0.728367</td>\n",
       "      <td>3.7801</td>\n",
       "      <td>-8.36910</td>\n",
       "      <td>5.683022</td>\n",
       "      <td>...</td>\n",
       "      <td>0.310748</td>\n",
       "      <td>-0.009505</td>\n",
       "      <td>-0.237786</td>\n",
       "      <td>0.088854</td>\n",
       "      <td>-0.477260</td>\n",
       "      <td>2.026107e-02</td>\n",
       "      <td>0.142341</td>\n",
       "      <td>0.668438</td>\n",
       "      <td>basketBall</td>\n",
       "      <td>p8</td>\n",
       "    </tr>\n",
       "    <tr>\n",
       "      <th>9118</th>\n",
       "      <td>9.692482</td>\n",
       "      <td>72.7820</td>\n",
       "      <td>-2.6734</td>\n",
       "      <td>59.378336</td>\n",
       "      <td>7.705734</td>\n",
       "      <td>4.491114</td>\n",
       "      <td>-0.582724</td>\n",
       "      <td>6.1216</td>\n",
       "      <td>-8.85710</td>\n",
       "      <td>4.162963</td>\n",
       "      <td>...</td>\n",
       "      <td>0.156493</td>\n",
       "      <td>0.050624</td>\n",
       "      <td>0.533023</td>\n",
       "      <td>0.677800</td>\n",
       "      <td>0.055941</td>\n",
       "      <td>1.356379e-02</td>\n",
       "      <td>0.116464</td>\n",
       "      <td>-1.482489</td>\n",
       "      <td>basketBall</td>\n",
       "      <td>p8</td>\n",
       "    </tr>\n",
       "    <tr>\n",
       "      <th>9119</th>\n",
       "      <td>9.380641</td>\n",
       "      <td>45.0090</td>\n",
       "      <td>-3.5938</td>\n",
       "      <td>40.459334</td>\n",
       "      <td>6.360765</td>\n",
       "      <td>1.688626</td>\n",
       "      <td>-0.266325</td>\n",
       "      <td>5.8603</td>\n",
       "      <td>-6.91970</td>\n",
       "      <td>4.017098</td>\n",
       "      <td>...</td>\n",
       "      <td>0.229154</td>\n",
       "      <td>-0.342228</td>\n",
       "      <td>0.491919</td>\n",
       "      <td>0.707920</td>\n",
       "      <td>0.251280</td>\n",
       "      <td>9.358254e-03</td>\n",
       "      <td>0.096738</td>\n",
       "      <td>-0.223302</td>\n",
       "      <td>basketBall</td>\n",
       "      <td>p8</td>\n",
       "    </tr>\n",
       "  </tbody>\n",
       "</table>\n",
       "<p>9120 rows × 272 columns</p>\n",
       "</div>"
      ],
      "text/plain": [
       "      T_xacc_mean  T_xacc_max  T_xacc_min  T_xacc_var  T_xacc_std  \\\n",
       "0        7.975714      8.1605      7.6823    0.014395    0.119981   \n",
       "1        7.978250      8.1763      7.8472    0.007551    0.086896   \n",
       "2        7.970894      8.0860      7.8470    0.003092    0.055603   \n",
       "3        7.938412      8.1083      7.6901    0.003763    0.061343   \n",
       "4        7.908930      8.1305      7.8322    0.001741    0.041731   \n",
       "...           ...         ...         ...         ...         ...   \n",
       "9115     8.280854     34.1980     -2.9038   28.080803    5.299132   \n",
       "9116     9.591118     51.6970     -3.4129   35.722025    5.976791   \n",
       "9117     9.599113     27.9300     -1.0765   48.850886    6.989341   \n",
       "9118     9.692482     72.7820     -2.6734   59.378336    7.705734   \n",
       "9119     9.380641     45.0090     -3.5938   40.459334    6.360765   \n",
       "\n",
       "      T_xacc_skew  T_yacc_mean  T_yacc_max  T_yacc_min  T_yacc_var  ...  \\\n",
       "0       -0.023319     1.083150      1.1832     0.99744    0.002208  ...   \n",
       "1        0.552416     1.140865      1.2129     1.05810    0.000784  ...   \n",
       "2        0.100538     1.140962      1.2128     1.07960    0.000508  ...   \n",
       "3       -0.231914     1.165260      1.3170     1.07870    0.002173  ...   \n",
       "4        2.042285     1.187504      1.2574     1.09450    0.000662  ...   \n",
       "...           ...          ...         ...         ...         ...  ...   \n",
       "9115     1.350075    -1.491537     11.2240   -11.65100   14.670334  ...   \n",
       "9116     2.981144     0.086304      6.9951   -11.76400    5.329897  ...   \n",
       "9117     0.449237    -0.728367      3.7801    -8.36910    5.683022  ...   \n",
       "9118     4.491114    -0.582724      6.1216    -8.85710    4.162963  ...   \n",
       "9119     1.688626    -0.266325      5.8603    -6.91970    4.017098  ...   \n",
       "\n",
       "      LL_ymag_std  LL_ymag_skew  LL_zmag_mean  LL_zmag_max  LL_zmag_min  \\\n",
       "0        0.000792      0.177075     -0.057119    -0.054963    -0.059241   \n",
       "1        0.000860     -0.286918     -0.057268    -0.054945    -0.059589   \n",
       "2        0.000762     -0.134430     -0.057068    -0.054711    -0.059065   \n",
       "3        0.000735      0.021485     -0.056422    -0.053670    -0.058310   \n",
       "4        0.000824     -0.148229     -0.055801    -0.053313    -0.057815   \n",
       "...           ...           ...           ...          ...          ...   \n",
       "9115     0.200829     -0.040701      0.297666     0.708480    -0.117430   \n",
       "9116     0.148745     -0.266377      0.224716     0.554670    -0.250950   \n",
       "9117     0.310748     -0.009505     -0.237786     0.088854    -0.477260   \n",
       "9118     0.156493      0.050624      0.533023     0.677800     0.055941   \n",
       "9119     0.229154     -0.342228      0.491919     0.707920     0.251280   \n",
       "\n",
       "       LL_zmag_var  LL_zmag_std  LL_zmag_skew    activity  people  \n",
       "0     6.778722e-07     0.000823      0.036729     sitting      p1  \n",
       "1     7.032302e-07     0.000839      0.347471     sitting      p1  \n",
       "2     6.268222e-07     0.000792      0.045579     sitting      p1  \n",
       "3     8.011245e-07     0.000895      0.240690     sitting      p1  \n",
       "4     6.853423e-07     0.000828      0.258429     sitting      p1  \n",
       "...            ...          ...           ...         ...     ...  \n",
       "9115  4.135451e-02     0.203358     -0.310022  basketBall      p8  \n",
       "9116  3.355704e-02     0.183186     -0.736410  basketBall      p8  \n",
       "9117  2.026107e-02     0.142341      0.668438  basketBall      p8  \n",
       "9118  1.356379e-02     0.116464     -1.482489  basketBall      p8  \n",
       "9119  9.358254e-03     0.096738     -0.223302  basketBall      p8  \n",
       "\n",
       "[9120 rows x 272 columns]"
      ]
     },
     "execution_count": 3,
     "metadata": {},
     "output_type": "execute_result"
    }
   ],
   "source": [
    "df"
   ]
  },
  {
   "cell_type": "code",
   "execution_count": 4,
   "id": "57678a1d-edf4-452e-a74b-2d5bdd99b4e4",
   "metadata": {},
   "outputs": [
    {
     "data": {
      "text/plain": [
       "Index(['T_xacc_mean', 'T_xacc_max', 'T_xacc_min', 'T_xacc_var', 'T_xacc_std',\n",
       "       'T_xacc_skew', 'T_yacc_mean', 'T_yacc_max', 'T_yacc_min', 'T_yacc_var',\n",
       "       ...\n",
       "       'LL_ymag_std', 'LL_ymag_skew', 'LL_zmag_mean', 'LL_zmag_max',\n",
       "       'LL_zmag_min', 'LL_zmag_var', 'LL_zmag_std', 'LL_zmag_skew', 'activity',\n",
       "       'people'],\n",
       "      dtype='object', length=272)"
      ]
     },
     "execution_count": 4,
     "metadata": {},
     "output_type": "execute_result"
    }
   ],
   "source": [
    "df.columns"
   ]
  },
  {
   "cell_type": "code",
   "execution_count": 5,
   "id": "38411933-9583-4c41-9c31-132726380aac",
   "metadata": {},
   "outputs": [
    {
     "data": {
      "text/plain": [
       "activity\n",
       "sitting                    480\n",
       "walkingTreadmillIncline    480\n",
       "jumping                    480\n",
       "rowing                     480\n",
       "cyclingVertical            480\n",
       "cyclingHorizontal          480\n",
       "crossTrainer               480\n",
       "stepper                    480\n",
       "runningTreadmill           480\n",
       "walkingTreadmillFlat       480\n",
       "standing                   480\n",
       "walkingLot                 480\n",
       "movingInElevator           480\n",
       "standingInElevatorStill    480\n",
       "decendingStairs            480\n",
       "ascendingStairs            480\n",
       "lyingRigh                  480\n",
       "lyingBack                  480\n",
       "basketBall                 480\n",
       "Name: count, dtype: int64"
      ]
     },
     "execution_count": 5,
     "metadata": {},
     "output_type": "execute_result"
    }
   ],
   "source": [
    "df['activity'].value_counts()"
   ]
  },
  {
   "cell_type": "code",
   "execution_count": 6,
   "id": "74251e61-5810-40d8-ad4a-09a8467e9641",
   "metadata": {},
   "outputs": [
    {
     "data": {
      "text/plain": [
       "Text(0, 0.5, 'Count')"
      ]
     },
     "execution_count": 6,
     "metadata": {},
     "output_type": "execute_result"
    },
    {
     "data": {
      "image/png": "[encoded data removed]",
      "text/plain": [
       "<Figure size 640x480 with 1 Axes>"
      ]
     },
     "metadata": {},
     "output_type": "display_data"
    }
   ],
   "source": [
    "import pandas as pd\n",
    "import matplotlib.pyplot as plt\n",
    "\n",
    "# 레이블별 갯수 확인\n",
    "label_counts = df['activity'].value_counts()\n",
    "\n",
    "# 바 그래프 그리기\n",
    "label_counts.plot(kind='bar')\n",
    "\n",
    "# 그래프 제목 및 라벨 설정\n",
    "plt.title('Label Count')\n",
    "plt.xlabel('Labels')\n",
    "plt.ylabel('Count')"
   ]
  },
  {
   "cell_type": "code",
   "execution_count": 7,
   "id": "0a3a4f0c-0bfa-4023-a651-f3527d565816",
   "metadata": {},
   "outputs": [],
   "source": [
    "df_RA = df.filter(regex='RA_') \n",
    "df_LA = df.filter(regex='LA_') "
   ]
  },
  {
   "cell_type": "code",
   "execution_count": 8,
   "id": "dc2ef173-a028-41b8-9629-64b484a6524c",
   "metadata": {},
   "outputs": [],
   "source": [
    "df_RA.insert(3, 'activity', df['activity'])"
   ]
  },
  {
   "cell_type": "code",
   "execution_count": 9,
   "id": "7e18cf92-ffa1-4a4c-bd91-47d40a80158a",
   "metadata": {},
   "outputs": [],
   "source": [
    "df_LA.insert(3, 'activity', df['activity'])"
   ]
  },
  {
   "cell_type": "code",
   "execution_count": 10,
   "id": "9b1e83e2-08c8-494a-8734-211bc479596f",
   "metadata": {},
   "outputs": [
    {
     "data": {
      "text/html": [
       "<div>\n",
       "<style scoped>\n",
       "    .dataframe tbody tr th:only-of-type {\n",
       "        vertical-align: middle;\n",
       "    }\n",
       "\n",
       "    .dataframe tbody tr th {\n",
       "        vertical-align: top;\n",
       "    }\n",
       "\n",
       "    .dataframe thead th {\n",
       "        text-align: right;\n",
       "    }\n",
       "</style>\n",
       "<table border=\"1\" class=\"dataframe\">\n",
       "  <thead>\n",
       "    <tr style=\"text-align: right;\">\n",
       "      <th></th>\n",
       "      <th>RA_xacc_mean</th>\n",
       "      <th>RA_xacc_max</th>\n",
       "      <th>RA_xacc_min</th>\n",
       "      <th>activity</th>\n",
       "      <th>RA_xacc_var</th>\n",
       "      <th>RA_xacc_std</th>\n",
       "      <th>RA_xacc_skew</th>\n",
       "      <th>RA_yacc_mean</th>\n",
       "      <th>RA_yacc_max</th>\n",
       "      <th>RA_yacc_min</th>\n",
       "      <th>...</th>\n",
       "      <th>RA_ymag_min</th>\n",
       "      <th>RA_ymag_var</th>\n",
       "      <th>RA_ymag_std</th>\n",
       "      <th>RA_ymag_skew</th>\n",
       "      <th>RA_zmag_mean</th>\n",
       "      <th>RA_zmag_max</th>\n",
       "      <th>RA_zmag_min</th>\n",
       "      <th>RA_zmag_var</th>\n",
       "      <th>RA_zmag_std</th>\n",
       "      <th>RA_zmag_skew</th>\n",
       "    </tr>\n",
       "  </thead>\n",
       "  <tbody>\n",
       "    <tr>\n",
       "      <th>0</th>\n",
       "      <td>0.679134</td>\n",
       "      <td>0.75930</td>\n",
       "      <td>0.58542</td>\n",
       "      <td>sitting</td>\n",
       "      <td>0.001546</td>\n",
       "      <td>0.039324</td>\n",
       "      <td>-0.415694</td>\n",
       "      <td>5.713088</td>\n",
       "      <td>5.8483</td>\n",
       "      <td>5.5956</td>\n",
       "      <td>...</td>\n",
       "      <td>-0.57428</td>\n",
       "      <td>0.000012</td>\n",
       "      <td>0.003401</td>\n",
       "      <td>-0.052190</td>\n",
       "      <td>-0.211136</td>\n",
       "      <td>-0.18401</td>\n",
       "      <td>-0.24523</td>\n",
       "      <td>0.000044</td>\n",
       "      <td>0.006638</td>\n",
       "      <td>-1.153902</td>\n",
       "    </tr>\n",
       "    <tr>\n",
       "      <th>1</th>\n",
       "      <td>0.644964</td>\n",
       "      <td>0.73158</td>\n",
       "      <td>0.53064</td>\n",
       "      <td>sitting</td>\n",
       "      <td>0.001333</td>\n",
       "      <td>0.036508</td>\n",
       "      <td>0.410625</td>\n",
       "      <td>5.795154</td>\n",
       "      <td>5.9546</td>\n",
       "      <td>5.6687</td>\n",
       "      <td>...</td>\n",
       "      <td>-0.57398</td>\n",
       "      <td>0.000005</td>\n",
       "      <td>0.002216</td>\n",
       "      <td>0.222740</td>\n",
       "      <td>-0.206431</td>\n",
       "      <td>-0.18054</td>\n",
       "      <td>-0.23624</td>\n",
       "      <td>0.000032</td>\n",
       "      <td>0.005660</td>\n",
       "      <td>0.458427</td>\n",
       "    </tr>\n",
       "    <tr>\n",
       "      <th>2</th>\n",
       "      <td>0.608212</td>\n",
       "      <td>0.67737</td>\n",
       "      <td>0.53546</td>\n",
       "      <td>sitting</td>\n",
       "      <td>0.000637</td>\n",
       "      <td>0.025244</td>\n",
       "      <td>0.153302</td>\n",
       "      <td>5.833086</td>\n",
       "      <td>5.8918</td>\n",
       "      <td>5.7656</td>\n",
       "      <td>...</td>\n",
       "      <td>-0.57563</td>\n",
       "      <td>0.000004</td>\n",
       "      <td>0.001954</td>\n",
       "      <td>-0.221765</td>\n",
       "      <td>-0.205648</td>\n",
       "      <td>-0.18342</td>\n",
       "      <td>-0.22933</td>\n",
       "      <td>0.000024</td>\n",
       "      <td>0.004868</td>\n",
       "      <td>-0.984915</td>\n",
       "    </tr>\n",
       "    <tr>\n",
       "      <th>3</th>\n",
       "      <td>0.591138</td>\n",
       "      <td>0.71177</td>\n",
       "      <td>0.51524</td>\n",
       "      <td>sitting</td>\n",
       "      <td>0.001349</td>\n",
       "      <td>0.036731</td>\n",
       "      <td>0.525019</td>\n",
       "      <td>5.863846</td>\n",
       "      <td>5.9645</td>\n",
       "      <td>5.7556</td>\n",
       "      <td>...</td>\n",
       "      <td>-0.57858</td>\n",
       "      <td>0.000007</td>\n",
       "      <td>0.002688</td>\n",
       "      <td>0.075011</td>\n",
       "      <td>-0.203739</td>\n",
       "      <td>-0.17999</td>\n",
       "      <td>-0.22958</td>\n",
       "      <td>0.000026</td>\n",
       "      <td>0.005099</td>\n",
       "      <td>0.185634</td>\n",
       "    </tr>\n",
       "    <tr>\n",
       "      <th>4</th>\n",
       "      <td>0.558168</td>\n",
       "      <td>0.67190</td>\n",
       "      <td>0.50535</td>\n",
       "      <td>sitting</td>\n",
       "      <td>0.000626</td>\n",
       "      <td>0.025020</td>\n",
       "      <td>1.076782</td>\n",
       "      <td>5.884745</td>\n",
       "      <td>5.9401</td>\n",
       "      <td>5.8384</td>\n",
       "      <td>...</td>\n",
       "      <td>-0.57996</td>\n",
       "      <td>0.000005</td>\n",
       "      <td>0.002278</td>\n",
       "      <td>-0.219440</td>\n",
       "      <td>-0.203684</td>\n",
       "      <td>-0.17904</td>\n",
       "      <td>-0.22924</td>\n",
       "      <td>0.000027</td>\n",
       "      <td>0.005175</td>\n",
       "      <td>-0.820907</td>\n",
       "    </tr>\n",
       "    <tr>\n",
       "      <th>...</th>\n",
       "      <td>...</td>\n",
       "      <td>...</td>\n",
       "      <td>...</td>\n",
       "      <td>...</td>\n",
       "      <td>...</td>\n",
       "      <td>...</td>\n",
       "      <td>...</td>\n",
       "      <td>...</td>\n",
       "      <td>...</td>\n",
       "      <td>...</td>\n",
       "      <td>...</td>\n",
       "      <td>...</td>\n",
       "      <td>...</td>\n",
       "      <td>...</td>\n",
       "      <td>...</td>\n",
       "      <td>...</td>\n",
       "      <td>...</td>\n",
       "      <td>...</td>\n",
       "      <td>...</td>\n",
       "      <td>...</td>\n",
       "      <td>...</td>\n",
       "    </tr>\n",
       "    <tr>\n",
       "      <th>9115</th>\n",
       "      <td>8.690373</td>\n",
       "      <td>30.46300</td>\n",
       "      <td>-4.90150</td>\n",
       "      <td>basketBall</td>\n",
       "      <td>47.192912</td>\n",
       "      <td>6.869710</td>\n",
       "      <td>0.650080</td>\n",
       "      <td>2.187710</td>\n",
       "      <td>41.3410</td>\n",
       "      <td>-10.1410</td>\n",
       "      <td>...</td>\n",
       "      <td>-0.89670</td>\n",
       "      <td>0.177217</td>\n",
       "      <td>0.420971</td>\n",
       "      <td>1.232819</td>\n",
       "      <td>-0.120793</td>\n",
       "      <td>0.58641</td>\n",
       "      <td>-0.61373</td>\n",
       "      <td>0.077901</td>\n",
       "      <td>0.279107</td>\n",
       "      <td>0.611462</td>\n",
       "    </tr>\n",
       "    <tr>\n",
       "      <th>9116</th>\n",
       "      <td>6.477090</td>\n",
       "      <td>48.54700</td>\n",
       "      <td>-9.96820</td>\n",
       "      <td>basketBall</td>\n",
       "      <td>44.135927</td>\n",
       "      <td>6.643488</td>\n",
       "      <td>1.675812</td>\n",
       "      <td>5.845459</td>\n",
       "      <td>33.7910</td>\n",
       "      <td>-48.3200</td>\n",
       "      <td>...</td>\n",
       "      <td>-0.85305</td>\n",
       "      <td>0.158099</td>\n",
       "      <td>0.397617</td>\n",
       "      <td>1.560701</td>\n",
       "      <td>-0.133269</td>\n",
       "      <td>0.51707</td>\n",
       "      <td>-0.52776</td>\n",
       "      <td>0.058400</td>\n",
       "      <td>0.241661</td>\n",
       "      <td>0.574120</td>\n",
       "    </tr>\n",
       "    <tr>\n",
       "      <th>9117</th>\n",
       "      <td>6.309986</td>\n",
       "      <td>27.29900</td>\n",
       "      <td>-8.43140</td>\n",
       "      <td>basketBall</td>\n",
       "      <td>57.018917</td>\n",
       "      <td>7.551087</td>\n",
       "      <td>0.108921</td>\n",
       "      <td>6.342772</td>\n",
       "      <td>27.0570</td>\n",
       "      <td>-6.6706</td>\n",
       "      <td>...</td>\n",
       "      <td>-0.83512</td>\n",
       "      <td>0.126188</td>\n",
       "      <td>0.355229</td>\n",
       "      <td>1.598340</td>\n",
       "      <td>-0.567238</td>\n",
       "      <td>-0.14483</td>\n",
       "      <td>-0.82409</td>\n",
       "      <td>0.023408</td>\n",
       "      <td>0.152998</td>\n",
       "      <td>0.598665</td>\n",
       "    </tr>\n",
       "    <tr>\n",
       "      <th>9118</th>\n",
       "      <td>5.020496</td>\n",
       "      <td>30.16600</td>\n",
       "      <td>-20.25100</td>\n",
       "      <td>basketBall</td>\n",
       "      <td>67.001032</td>\n",
       "      <td>8.185416</td>\n",
       "      <td>0.157547</td>\n",
       "      <td>5.824265</td>\n",
       "      <td>27.6300</td>\n",
       "      <td>-19.8830</td>\n",
       "      <td>...</td>\n",
       "      <td>-0.87361</td>\n",
       "      <td>0.174494</td>\n",
       "      <td>0.417725</td>\n",
       "      <td>0.758435</td>\n",
       "      <td>0.211566</td>\n",
       "      <td>0.67931</td>\n",
       "      <td>-0.22328</td>\n",
       "      <td>0.060114</td>\n",
       "      <td>0.245181</td>\n",
       "      <td>0.316989</td>\n",
       "    </tr>\n",
       "    <tr>\n",
       "      <th>9119</th>\n",
       "      <td>4.293377</td>\n",
       "      <td>31.57000</td>\n",
       "      <td>-22.85700</td>\n",
       "      <td>basketBall</td>\n",
       "      <td>105.947639</td>\n",
       "      <td>10.293087</td>\n",
       "      <td>0.223835</td>\n",
       "      <td>5.504619</td>\n",
       "      <td>27.3490</td>\n",
       "      <td>-13.7600</td>\n",
       "      <td>...</td>\n",
       "      <td>-0.88818</td>\n",
       "      <td>0.144466</td>\n",
       "      <td>0.380087</td>\n",
       "      <td>0.359933</td>\n",
       "      <td>0.146602</td>\n",
       "      <td>0.62601</td>\n",
       "      <td>-0.28631</td>\n",
       "      <td>0.055074</td>\n",
       "      <td>0.234679</td>\n",
       "      <td>0.123701</td>\n",
       "    </tr>\n",
       "  </tbody>\n",
       "</table>\n",
       "<p>9120 rows × 55 columns</p>\n",
       "</div>"
      ],
      "text/plain": [
       "      RA_xacc_mean  RA_xacc_max  RA_xacc_min    activity  RA_xacc_var  \\\n",
       "0         0.679134      0.75930      0.58542     sitting     0.001546   \n",
       "1         0.644964      0.73158      0.53064     sitting     0.001333   \n",
       "2         0.608212      0.67737      0.53546     sitting     0.000637   \n",
       "3         0.591138      0.71177      0.51524     sitting     0.001349   \n",
       "4         0.558168      0.67190      0.50535     sitting     0.000626   \n",
       "...            ...          ...          ...         ...          ...   \n",
       "9115      8.690373     30.46300     -4.90150  basketBall    47.192912   \n",
       "9116      6.477090     48.54700     -9.96820  basketBall    44.135927   \n",
       "9117      6.309986     27.29900     -8.43140  basketBall    57.018917   \n",
       "9118      5.020496     30.16600    -20.25100  basketBall    67.001032   \n",
       "9119      4.293377     31.57000    -22.85700  basketBall   105.947639   \n",
       "\n",
       "      RA_xacc_std  RA_xacc_skew  RA_yacc_mean  RA_yacc_max  RA_yacc_min  ...  \\\n",
       "0        0.039324     -0.415694      5.713088       5.8483       5.5956  ...   \n",
       "1        0.036508      0.410625      5.795154       5.9546       5.6687  ...   \n",
       "2        0.025244      0.153302      5.833086       5.8918       5.7656  ...   \n",
       "3        0.036731      0.525019      5.863846       5.9645       5.7556  ...   \n",
       "4        0.025020      1.076782      5.884745       5.9401       5.8384  ...   \n",
       "...           ...           ...           ...          ...          ...  ...   \n",
       "9115     6.869710      0.650080      2.187710      41.3410     -10.1410  ...   \n",
       "9116     6.643488      1.675812      5.845459      33.7910     -48.3200  ...   \n",
       "9117     7.551087      0.108921      6.342772      27.0570      -6.6706  ...   \n",
       "9118     8.185416      0.157547      5.824265      27.6300     -19.8830  ...   \n",
       "9119    10.293087      0.223835      5.504619      27.3490     -13.7600  ...   \n",
       "\n",
       "      RA_ymag_min  RA_ymag_var  RA_ymag_std  RA_ymag_skew  RA_zmag_mean  \\\n",
       "0        -0.57428     0.000012     0.003401     -0.052190     -0.211136   \n",
       "1        -0.57398     0.000005     0.002216      0.222740     -0.206431   \n",
       "2        -0.57563     0.000004     0.001954     -0.221765     -0.205648   \n",
       "3        -0.57858     0.000007     0.002688      0.075011     -0.203739   \n",
       "4        -0.57996     0.000005     0.002278     -0.219440     -0.203684   \n",
       "...           ...          ...          ...           ...           ...   \n",
       "9115     -0.89670     0.177217     0.420971      1.232819     -0.120793   \n",
       "9116     -0.85305     0.158099     0.397617      1.560701     -0.133269   \n",
       "9117     -0.83512     0.126188     0.355229      1.598340     -0.567238   \n",
       "9118     -0.87361     0.174494     0.417725      0.758435      0.211566   \n",
       "9119     -0.88818     0.144466     0.380087      0.359933      0.146602   \n",
       "\n",
       "      RA_zmag_max  RA_zmag_min  RA_zmag_var  RA_zmag_std  RA_zmag_skew  \n",
       "0        -0.18401     -0.24523     0.000044     0.006638     -1.153902  \n",
       "1        -0.18054     -0.23624     0.000032     0.005660      0.458427  \n",
       "2        -0.18342     -0.22933     0.000024     0.004868     -0.984915  \n",
       "3        -0.17999     -0.22958     0.000026     0.005099      0.185634  \n",
       "4        -0.17904     -0.22924     0.000027     0.005175     -0.820907  \n",
       "...           ...          ...          ...          ...           ...  \n",
       "9115      0.58641     -0.61373     0.077901     0.279107      0.611462  \n",
       "9116      0.51707     -0.52776     0.058400     0.241661      0.574120  \n",
       "9117     -0.14483     -0.82409     0.023408     0.152998      0.598665  \n",
       "9118      0.67931     -0.22328     0.060114     0.245181      0.316989  \n",
       "9119      0.62601     -0.28631     0.055074     0.234679      0.123701  \n",
       "\n",
       "[9120 rows x 55 columns]"
      ]
     },
     "execution_count": 10,
     "metadata": {},
     "output_type": "execute_result"
    }
   ],
   "source": [
    "df_RA"
   ]
  },
  {
   "cell_type": "code",
   "execution_count": 11,
   "id": "2b854f47-1920-40e9-9af7-eba0b359f0dc",
   "metadata": {},
   "outputs": [
    {
     "data": {
      "text/html": [
       "<div>\n",
       "<style scoped>\n",
       "    .dataframe tbody tr th:only-of-type {\n",
       "        vertical-align: middle;\n",
       "    }\n",
       "\n",
       "    .dataframe tbody tr th {\n",
       "        vertical-align: top;\n",
       "    }\n",
       "\n",
       "    .dataframe thead th {\n",
       "        text-align: right;\n",
       "    }\n",
       "</style>\n",
       "<table border=\"1\" class=\"dataframe\">\n",
       "  <thead>\n",
       "    <tr style=\"text-align: right;\">\n",
       "      <th></th>\n",
       "      <th>LA_xacc_mean</th>\n",
       "      <th>LA_xacc_max</th>\n",
       "      <th>LA_xacc_min</th>\n",
       "      <th>activity</th>\n",
       "      <th>LA_xacc_var</th>\n",
       "      <th>LA_xacc_std</th>\n",
       "      <th>LA_xacc_skew</th>\n",
       "      <th>LA_yacc_mean</th>\n",
       "      <th>LA_yacc_max</th>\n",
       "      <th>LA_yacc_min</th>\n",
       "      <th>...</th>\n",
       "      <th>LA_ymag_min</th>\n",
       "      <th>LA_ymag_var</th>\n",
       "      <th>LA_ymag_std</th>\n",
       "      <th>LA_ymag_skew</th>\n",
       "      <th>LA_zmag_mean</th>\n",
       "      <th>LA_zmag_max</th>\n",
       "      <th>LA_zmag_min</th>\n",
       "      <th>LA_zmag_var</th>\n",
       "      <th>LA_zmag_std</th>\n",
       "      <th>LA_zmag_skew</th>\n",
       "    </tr>\n",
       "  </thead>\n",
       "  <tbody>\n",
       "    <tr>\n",
       "      <th>0</th>\n",
       "      <td>3.403317</td>\n",
       "      <td>3.4875</td>\n",
       "      <td>3.2682</td>\n",
       "      <td>sitting</td>\n",
       "      <td>0.001583</td>\n",
       "      <td>0.039790</td>\n",
       "      <td>-0.744647</td>\n",
       "      <td>-8.375713</td>\n",
       "      <td>-8.2927</td>\n",
       "      <td>-8.4821</td>\n",
       "      <td>...</td>\n",
       "      <td>0.33748</td>\n",
       "      <td>0.000003</td>\n",
       "      <td>0.001810</td>\n",
       "      <td>-0.215069</td>\n",
       "      <td>0.072273</td>\n",
       "      <td>0.076374</td>\n",
       "      <td>0.067940</td>\n",
       "      <td>0.000004</td>\n",
       "      <td>0.001910</td>\n",
       "      <td>-0.166015</td>\n",
       "    </tr>\n",
       "    <tr>\n",
       "      <th>1</th>\n",
       "      <td>3.427302</td>\n",
       "      <td>3.6630</td>\n",
       "      <td>3.3168</td>\n",
       "      <td>sitting</td>\n",
       "      <td>0.004305</td>\n",
       "      <td>0.065614</td>\n",
       "      <td>1.000107</td>\n",
       "      <td>-8.397591</td>\n",
       "      <td>-8.3118</td>\n",
       "      <td>-8.5017</td>\n",
       "      <td>...</td>\n",
       "      <td>0.33000</td>\n",
       "      <td>0.000017</td>\n",
       "      <td>0.004159</td>\n",
       "      <td>-0.611251</td>\n",
       "      <td>0.074557</td>\n",
       "      <td>0.085184</td>\n",
       "      <td>0.068169</td>\n",
       "      <td>0.000022</td>\n",
       "      <td>0.004643</td>\n",
       "      <td>0.717286</td>\n",
       "    </tr>\n",
       "    <tr>\n",
       "      <th>2</th>\n",
       "      <td>3.400870</td>\n",
       "      <td>3.5168</td>\n",
       "      <td>3.3315</td>\n",
       "      <td>sitting</td>\n",
       "      <td>0.001007</td>\n",
       "      <td>0.031732</td>\n",
       "      <td>0.978319</td>\n",
       "      <td>-8.439138</td>\n",
       "      <td>-8.3599</td>\n",
       "      <td>-8.5204</td>\n",
       "      <td>...</td>\n",
       "      <td>0.33307</td>\n",
       "      <td>0.000002</td>\n",
       "      <td>0.001316</td>\n",
       "      <td>-0.506255</td>\n",
       "      <td>0.075852</td>\n",
       "      <td>0.083227</td>\n",
       "      <td>0.072507</td>\n",
       "      <td>0.000004</td>\n",
       "      <td>0.002106</td>\n",
       "      <td>1.043919</td>\n",
       "    </tr>\n",
       "    <tr>\n",
       "      <th>3</th>\n",
       "      <td>3.391002</td>\n",
       "      <td>3.5311</td>\n",
       "      <td>3.2608</td>\n",
       "      <td>sitting</td>\n",
       "      <td>0.001792</td>\n",
       "      <td>0.042328</td>\n",
       "      <td>0.117935</td>\n",
       "      <td>-8.441421</td>\n",
       "      <td>-8.3207</td>\n",
       "      <td>-8.5446</td>\n",
       "      <td>...</td>\n",
       "      <td>0.33431</td>\n",
       "      <td>0.000002</td>\n",
       "      <td>0.001395</td>\n",
       "      <td>0.155251</td>\n",
       "      <td>0.074878</td>\n",
       "      <td>0.080059</td>\n",
       "      <td>0.069942</td>\n",
       "      <td>0.000006</td>\n",
       "      <td>0.002414</td>\n",
       "      <td>0.242524</td>\n",
       "    </tr>\n",
       "    <tr>\n",
       "      <th>4</th>\n",
       "      <td>3.359974</td>\n",
       "      <td>3.4434</td>\n",
       "      <td>3.3069</td>\n",
       "      <td>sitting</td>\n",
       "      <td>0.000633</td>\n",
       "      <td>0.025160</td>\n",
       "      <td>1.051627</td>\n",
       "      <td>-8.454854</td>\n",
       "      <td>-8.3202</td>\n",
       "      <td>-8.5561</td>\n",
       "      <td>...</td>\n",
       "      <td>0.33631</td>\n",
       "      <td>0.000001</td>\n",
       "      <td>0.001005</td>\n",
       "      <td>-0.299017</td>\n",
       "      <td>0.073398</td>\n",
       "      <td>0.077461</td>\n",
       "      <td>0.070175</td>\n",
       "      <td>0.000002</td>\n",
       "      <td>0.001482</td>\n",
       "      <td>0.606258</td>\n",
       "    </tr>\n",
       "    <tr>\n",
       "      <th>...</th>\n",
       "      <td>...</td>\n",
       "      <td>...</td>\n",
       "      <td>...</td>\n",
       "      <td>...</td>\n",
       "      <td>...</td>\n",
       "      <td>...</td>\n",
       "      <td>...</td>\n",
       "      <td>...</td>\n",
       "      <td>...</td>\n",
       "      <td>...</td>\n",
       "      <td>...</td>\n",
       "      <td>...</td>\n",
       "      <td>...</td>\n",
       "      <td>...</td>\n",
       "      <td>...</td>\n",
       "      <td>...</td>\n",
       "      <td>...</td>\n",
       "      <td>...</td>\n",
       "      <td>...</td>\n",
       "      <td>...</td>\n",
       "      <td>...</td>\n",
       "    </tr>\n",
       "    <tr>\n",
       "      <th>9115</th>\n",
       "      <td>8.834459</td>\n",
       "      <td>40.1640</td>\n",
       "      <td>-15.3980</td>\n",
       "      <td>basketBall</td>\n",
       "      <td>140.063928</td>\n",
       "      <td>11.834861</td>\n",
       "      <td>0.486128</td>\n",
       "      <td>-3.441297</td>\n",
       "      <td>39.7590</td>\n",
       "      <td>-53.6520</td>\n",
       "      <td>...</td>\n",
       "      <td>-0.87575</td>\n",
       "      <td>0.210911</td>\n",
       "      <td>0.459250</td>\n",
       "      <td>-0.421162</td>\n",
       "      <td>-0.529403</td>\n",
       "      <td>0.653000</td>\n",
       "      <td>-0.879310</td>\n",
       "      <td>0.123917</td>\n",
       "      <td>0.352018</td>\n",
       "      <td>1.813520</td>\n",
       "    </tr>\n",
       "    <tr>\n",
       "      <th>9116</th>\n",
       "      <td>6.647402</td>\n",
       "      <td>43.9160</td>\n",
       "      <td>-22.3060</td>\n",
       "      <td>basketBall</td>\n",
       "      <td>65.655140</td>\n",
       "      <td>8.102786</td>\n",
       "      <td>0.067916</td>\n",
       "      <td>-5.140474</td>\n",
       "      <td>26.7770</td>\n",
       "      <td>-41.9160</td>\n",
       "      <td>...</td>\n",
       "      <td>-0.77618</td>\n",
       "      <td>0.143162</td>\n",
       "      <td>0.378368</td>\n",
       "      <td>-1.307983</td>\n",
       "      <td>-0.466066</td>\n",
       "      <td>0.659650</td>\n",
       "      <td>-0.835960</td>\n",
       "      <td>0.167255</td>\n",
       "      <td>0.408968</td>\n",
       "      <td>1.483683</td>\n",
       "    </tr>\n",
       "    <tr>\n",
       "      <th>9117</th>\n",
       "      <td>3.108810</td>\n",
       "      <td>40.2770</td>\n",
       "      <td>-10.9500</td>\n",
       "      <td>basketBall</td>\n",
       "      <td>84.701543</td>\n",
       "      <td>9.203344</td>\n",
       "      <td>1.178224</td>\n",
       "      <td>-4.881662</td>\n",
       "      <td>43.4020</td>\n",
       "      <td>-27.3490</td>\n",
       "      <td>...</td>\n",
       "      <td>0.16648</td>\n",
       "      <td>0.035696</td>\n",
       "      <td>0.188933</td>\n",
       "      <td>-0.736037</td>\n",
       "      <td>-0.286489</td>\n",
       "      <td>0.632420</td>\n",
       "      <td>-0.837640</td>\n",
       "      <td>0.109532</td>\n",
       "      <td>0.330956</td>\n",
       "      <td>0.502392</td>\n",
       "    </tr>\n",
       "    <tr>\n",
       "      <th>9118</th>\n",
       "      <td>5.141190</td>\n",
       "      <td>68.5920</td>\n",
       "      <td>-43.1120</td>\n",
       "      <td>basketBall</td>\n",
       "      <td>137.860050</td>\n",
       "      <td>11.741382</td>\n",
       "      <td>1.219670</td>\n",
       "      <td>-3.365847</td>\n",
       "      <td>23.6960</td>\n",
       "      <td>-34.5820</td>\n",
       "      <td>...</td>\n",
       "      <td>-0.85130</td>\n",
       "      <td>0.205452</td>\n",
       "      <td>0.453268</td>\n",
       "      <td>0.171353</td>\n",
       "      <td>-0.567578</td>\n",
       "      <td>0.264780</td>\n",
       "      <td>-0.854420</td>\n",
       "      <td>0.059971</td>\n",
       "      <td>0.244890</td>\n",
       "      <td>1.467799</td>\n",
       "    </tr>\n",
       "    <tr>\n",
       "      <th>9119</th>\n",
       "      <td>3.479606</td>\n",
       "      <td>65.9370</td>\n",
       "      <td>-36.2990</td>\n",
       "      <td>basketBall</td>\n",
       "      <td>181.700701</td>\n",
       "      <td>13.479640</td>\n",
       "      <td>1.245403</td>\n",
       "      <td>-3.535975</td>\n",
       "      <td>43.4110</td>\n",
       "      <td>-28.5330</td>\n",
       "      <td>...</td>\n",
       "      <td>-0.84444</td>\n",
       "      <td>0.273957</td>\n",
       "      <td>0.523409</td>\n",
       "      <td>0.275649</td>\n",
       "      <td>-0.415991</td>\n",
       "      <td>0.267410</td>\n",
       "      <td>-0.849240</td>\n",
       "      <td>0.076105</td>\n",
       "      <td>0.275871</td>\n",
       "      <td>0.349721</td>\n",
       "    </tr>\n",
       "  </tbody>\n",
       "</table>\n",
       "<p>9120 rows × 55 columns</p>\n",
       "</div>"
      ],
      "text/plain": [
       "      LA_xacc_mean  LA_xacc_max  LA_xacc_min    activity  LA_xacc_var  \\\n",
       "0         3.403317       3.4875       3.2682     sitting     0.001583   \n",
       "1         3.427302       3.6630       3.3168     sitting     0.004305   \n",
       "2         3.400870       3.5168       3.3315     sitting     0.001007   \n",
       "3         3.391002       3.5311       3.2608     sitting     0.001792   \n",
       "4         3.359974       3.4434       3.3069     sitting     0.000633   \n",
       "...            ...          ...          ...         ...          ...   \n",
       "9115      8.834459      40.1640     -15.3980  basketBall   140.063928   \n",
       "9116      6.647402      43.9160     -22.3060  basketBall    65.655140   \n",
       "9117      3.108810      40.2770     -10.9500  basketBall    84.701543   \n",
       "9118      5.141190      68.5920     -43.1120  basketBall   137.860050   \n",
       "9119      3.479606      65.9370     -36.2990  basketBall   181.700701   \n",
       "\n",
       "      LA_xacc_std  LA_xacc_skew  LA_yacc_mean  LA_yacc_max  LA_yacc_min  ...  \\\n",
       "0        0.039790     -0.744647     -8.375713      -8.2927      -8.4821  ...   \n",
       "1        0.065614      1.000107     -8.397591      -8.3118      -8.5017  ...   \n",
       "2        0.031732      0.978319     -8.439138      -8.3599      -8.5204  ...   \n",
       "3        0.042328      0.117935     -8.441421      -8.3207      -8.5446  ...   \n",
       "4        0.025160      1.051627     -8.454854      -8.3202      -8.5561  ...   \n",
       "...           ...           ...           ...          ...          ...  ...   \n",
       "9115    11.834861      0.486128     -3.441297      39.7590     -53.6520  ...   \n",
       "9116     8.102786      0.067916     -5.140474      26.7770     -41.9160  ...   \n",
       "9117     9.203344      1.178224     -4.881662      43.4020     -27.3490  ...   \n",
       "9118    11.741382      1.219670     -3.365847      23.6960     -34.5820  ...   \n",
       "9119    13.479640      1.245403     -3.535975      43.4110     -28.5330  ...   \n",
       "\n",
       "      LA_ymag_min  LA_ymag_var  LA_ymag_std  LA_ymag_skew  LA_zmag_mean  \\\n",
       "0         0.33748     0.000003     0.001810     -0.215069      0.072273   \n",
       "1         0.33000     0.000017     0.004159     -0.611251      0.074557   \n",
       "2         0.33307     0.000002     0.001316     -0.506255      0.075852   \n",
       "3         0.33431     0.000002     0.001395      0.155251      0.074878   \n",
       "4         0.33631     0.000001     0.001005     -0.299017      0.073398   \n",
       "...           ...          ...          ...           ...           ...   \n",
       "9115     -0.87575     0.210911     0.459250     -0.421162     -0.529403   \n",
       "9116     -0.77618     0.143162     0.378368     -1.307983     -0.466066   \n",
       "9117      0.16648     0.035696     0.188933     -0.736037     -0.286489   \n",
       "9118     -0.85130     0.205452     0.453268      0.171353     -0.567578   \n",
       "9119     -0.84444     0.273957     0.523409      0.275649     -0.415991   \n",
       "\n",
       "      LA_zmag_max  LA_zmag_min  LA_zmag_var  LA_zmag_std  LA_zmag_skew  \n",
       "0        0.076374     0.067940     0.000004     0.001910     -0.166015  \n",
       "1        0.085184     0.068169     0.000022     0.004643      0.717286  \n",
       "2        0.083227     0.072507     0.000004     0.002106      1.043919  \n",
       "3        0.080059     0.069942     0.000006     0.002414      0.242524  \n",
       "4        0.077461     0.070175     0.000002     0.001482      0.606258  \n",
       "...           ...          ...          ...          ...           ...  \n",
       "9115     0.653000    -0.879310     0.123917     0.352018      1.813520  \n",
       "9116     0.659650    -0.835960     0.167255     0.408968      1.483683  \n",
       "9117     0.632420    -0.837640     0.109532     0.330956      0.502392  \n",
       "9118     0.264780    -0.854420     0.059971     0.244890      1.467799  \n",
       "9119     0.267410    -0.849240     0.076105     0.275871      0.349721  \n",
       "\n",
       "[9120 rows x 55 columns]"
      ]
     },
     "execution_count": 11,
     "metadata": {},
     "output_type": "execute_result"
    }
   ],
   "source": [
    "df_LA"
   ]
  },
  {
   "cell_type": "code",
   "execution_count": 12,
   "id": "1e5e30c7-d820-4d6a-9ca3-d6c1ed967d3b",
   "metadata": {},
   "outputs": [
    {
     "data": {
      "text/plain": [
       "activity\n",
       "sitting                    480\n",
       "walkingTreadmillIncline    480\n",
       "jumping                    480\n",
       "rowing                     480\n",
       "cyclingVertical            480\n",
       "cyclingHorizontal          480\n",
       "crossTrainer               480\n",
       "stepper                    480\n",
       "runningTreadmill           480\n",
       "walkingTreadmillFlat       480\n",
       "standing                   480\n",
       "walkingLot                 480\n",
       "movingInElevator           480\n",
       "standingInElevatorStill    480\n",
       "decendingStairs            480\n",
       "ascendingStairs            480\n",
       "lyingRigh                  480\n",
       "lyingBack                  480\n",
       "basketBall                 480\n",
       "Name: count, dtype: int64"
      ]
     },
     "execution_count": 12,
     "metadata": {},
     "output_type": "execute_result"
    }
   ],
   "source": [
    "df_LA['activity'].value_counts()"
   ]
  },
  {
   "cell_type": "code",
   "execution_count": 13,
   "id": "be33c166-257d-47ae-a2a2-b043ed76cddc",
   "metadata": {},
   "outputs": [
    {
     "data": {
      "text/plain": [
       "activity\n",
       "sitting                    480\n",
       "walkingTreadmillIncline    480\n",
       "jumping                    480\n",
       "rowing                     480\n",
       "cyclingVertical            480\n",
       "cyclingHorizontal          480\n",
       "crossTrainer               480\n",
       "stepper                    480\n",
       "runningTreadmill           480\n",
       "walkingTreadmillFlat       480\n",
       "standing                   480\n",
       "walkingLot                 480\n",
       "movingInElevator           480\n",
       "standingInElevatorStill    480\n",
       "decendingStairs            480\n",
       "ascendingStairs            480\n",
       "lyingRigh                  480\n",
       "lyingBack                  480\n",
       "basketBall                 480\n",
       "Name: count, dtype: int64"
      ]
     },
     "execution_count": 13,
     "metadata": {},
     "output_type": "execute_result"
    }
   ],
   "source": [
    "df_RA['activity'].value_counts()"
   ]
  },
  {
   "cell_type": "code",
   "execution_count": 14,
   "id": "fe9dcafc-d195-4bd9-bdad-7ebdb1d52155",
   "metadata": {},
   "outputs": [
    {
     "name": "stderr",
     "output_type": "stream",
     "text": [
      "C:\\Users\\SUHlab\\AppData\\Local\\Temp\\ipykernel_12844\\3441972880.py:7: SettingWithCopyWarning: \n",
      "A value is trying to be set on a copy of a slice from a DataFrame.\n",
      "Try using .loc[row_indexer,col_indexer] = value instead\n",
      "\n",
      "See the caveats in the documentation: https://pandas.pydata.org/pandas-docs/stable/user_guide/indexing.html#returning-a-view-versus-a-copy\n",
      "  df_RA['activity'] = label_encoder.fit_transform(df_RA['activity'])\n",
      "C:\\Users\\SUHlab\\AppData\\Local\\Temp\\ipykernel_12844\\3441972880.py:12: SettingWithCopyWarning: \n",
      "A value is trying to be set on a copy of a slice from a DataFrame.\n",
      "Try using .loc[row_indexer,col_indexer] = value instead\n",
      "\n",
      "See the caveats in the documentation: https://pandas.pydata.org/pandas-docs/stable/user_guide/indexing.html#returning-a-view-versus-a-copy\n",
      "  df_LA['activity'] = label_encoder.fit_transform(df_LA['activity'])\n"
     ]
    }
   ],
   "source": [
    "from sklearn.preprocessing import LabelEncoder\n",
    "\n",
    "# LabelEncoder 객체 생성\n",
    "label_encoder = LabelEncoder()\n",
    "\n",
    "# 'label' 컬럼을 숫자로 변환\n",
    "df_RA['activity'] = label_encoder.fit_transform(df_RA['activity'])\n",
    "\n",
    "# LabelEncoder 객체 생성\n",
    "label_encoder = LabelEncoder()\n",
    "# 'label' 컬럼을 숫자로 변환\n",
    "df_LA['activity'] = label_encoder.fit_transform(df_LA['activity'])"
   ]
  },
  {
   "cell_type": "code",
   "execution_count": 15,
   "id": "900ab546-1cac-4a15-80bd-470c47e742b3",
   "metadata": {},
   "outputs": [
    {
     "data": {
      "text/plain": [
       "activity\n",
       "12    480\n",
       "18    480\n",
       "6     480\n",
       "10    480\n",
       "4     480\n",
       "3     480\n",
       "2     480\n",
       "15    480\n",
       "11    480\n",
       "17    480\n",
       "13    480\n",
       "16    480\n",
       "9     480\n",
       "14    480\n",
       "5     480\n",
       "0     480\n",
       "8     480\n",
       "7     480\n",
       "1     480\n",
       "Name: count, dtype: int64"
      ]
     },
     "execution_count": 15,
     "metadata": {},
     "output_type": "execute_result"
    }
   ],
   "source": [
    "df_LA['activity'].value_counts()"
   ]
  },
  {
   "cell_type": "code",
   "execution_count": 16,
   "id": "75751092-1d7b-4693-a35c-c0eee24ce13b",
   "metadata": {},
   "outputs": [
    {
     "data": {
      "text/plain": [
       "activity\n",
       "12    480\n",
       "18    480\n",
       "6     480\n",
       "10    480\n",
       "4     480\n",
       "3     480\n",
       "2     480\n",
       "15    480\n",
       "11    480\n",
       "17    480\n",
       "13    480\n",
       "16    480\n",
       "9     480\n",
       "14    480\n",
       "5     480\n",
       "0     480\n",
       "8     480\n",
       "7     480\n",
       "1     480\n",
       "Name: count, dtype: int64"
      ]
     },
     "execution_count": 16,
     "metadata": {},
     "output_type": "execute_result"
    }
   ],
   "source": [
    "df_RA['activity'].value_counts()"
   ]
  },
  {
   "cell_type": "code",
   "execution_count": 17,
   "id": "e9ccf081-680d-43d6-9595-71d4dd1e9c42",
   "metadata": {},
   "outputs": [],
   "source": [
    "df_RA_Y=df_RA['activity']"
   ]
  },
  {
   "cell_type": "code",
   "execution_count": 18,
   "id": "95ef2bbb-1f10-49e8-9dce-056bed862a94",
   "metadata": {},
   "outputs": [
    {
     "data": {
      "text/html": [
       "<div>\n",
       "<style scoped>\n",
       "    .dataframe tbody tr th:only-of-type {\n",
       "        vertical-align: middle;\n",
       "    }\n",
       "\n",
       "    .dataframe tbody tr th {\n",
       "        vertical-align: top;\n",
       "    }\n",
       "\n",
       "    .dataframe thead th {\n",
       "        text-align: right;\n",
       "    }\n",
       "</style>\n",
       "<table border=\"1\" class=\"dataframe\">\n",
       "  <thead>\n",
       "    <tr style=\"text-align: right;\">\n",
       "      <th></th>\n",
       "      <th>RA_xacc_mean</th>\n",
       "      <th>RA_xacc_max</th>\n",
       "      <th>RA_xacc_min</th>\n",
       "      <th>RA_xacc_var</th>\n",
       "      <th>RA_xacc_std</th>\n",
       "      <th>RA_xacc_skew</th>\n",
       "      <th>RA_yacc_mean</th>\n",
       "      <th>RA_yacc_max</th>\n",
       "      <th>RA_yacc_min</th>\n",
       "      <th>RA_yacc_var</th>\n",
       "      <th>...</th>\n",
       "      <th>RA_ymag_min</th>\n",
       "      <th>RA_ymag_var</th>\n",
       "      <th>RA_ymag_std</th>\n",
       "      <th>RA_ymag_skew</th>\n",
       "      <th>RA_zmag_mean</th>\n",
       "      <th>RA_zmag_max</th>\n",
       "      <th>RA_zmag_min</th>\n",
       "      <th>RA_zmag_var</th>\n",
       "      <th>RA_zmag_std</th>\n",
       "      <th>RA_zmag_skew</th>\n",
       "    </tr>\n",
       "  </thead>\n",
       "  <tbody>\n",
       "    <tr>\n",
       "      <th>0</th>\n",
       "      <td>0.679134</td>\n",
       "      <td>0.75930</td>\n",
       "      <td>0.58542</td>\n",
       "      <td>0.001546</td>\n",
       "      <td>0.039324</td>\n",
       "      <td>-0.415694</td>\n",
       "      <td>5.713088</td>\n",
       "      <td>5.8483</td>\n",
       "      <td>5.5956</td>\n",
       "      <td>0.003779</td>\n",
       "      <td>...</td>\n",
       "      <td>-0.57428</td>\n",
       "      <td>0.000012</td>\n",
       "      <td>0.003401</td>\n",
       "      <td>-0.052190</td>\n",
       "      <td>-0.211136</td>\n",
       "      <td>-0.18401</td>\n",
       "      <td>-0.24523</td>\n",
       "      <td>0.000044</td>\n",
       "      <td>0.006638</td>\n",
       "      <td>-1.153902</td>\n",
       "    </tr>\n",
       "    <tr>\n",
       "      <th>1</th>\n",
       "      <td>0.644964</td>\n",
       "      <td>0.73158</td>\n",
       "      <td>0.53064</td>\n",
       "      <td>0.001333</td>\n",
       "      <td>0.036508</td>\n",
       "      <td>0.410625</td>\n",
       "      <td>5.795154</td>\n",
       "      <td>5.9546</td>\n",
       "      <td>5.6687</td>\n",
       "      <td>0.001132</td>\n",
       "      <td>...</td>\n",
       "      <td>-0.57398</td>\n",
       "      <td>0.000005</td>\n",
       "      <td>0.002216</td>\n",
       "      <td>0.222740</td>\n",
       "      <td>-0.206431</td>\n",
       "      <td>-0.18054</td>\n",
       "      <td>-0.23624</td>\n",
       "      <td>0.000032</td>\n",
       "      <td>0.005660</td>\n",
       "      <td>0.458427</td>\n",
       "    </tr>\n",
       "    <tr>\n",
       "      <th>2</th>\n",
       "      <td>0.608212</td>\n",
       "      <td>0.67737</td>\n",
       "      <td>0.53546</td>\n",
       "      <td>0.000637</td>\n",
       "      <td>0.025244</td>\n",
       "      <td>0.153302</td>\n",
       "      <td>5.833086</td>\n",
       "      <td>5.8918</td>\n",
       "      <td>5.7656</td>\n",
       "      <td>0.000488</td>\n",
       "      <td>...</td>\n",
       "      <td>-0.57563</td>\n",
       "      <td>0.000004</td>\n",
       "      <td>0.001954</td>\n",
       "      <td>-0.221765</td>\n",
       "      <td>-0.205648</td>\n",
       "      <td>-0.18342</td>\n",
       "      <td>-0.22933</td>\n",
       "      <td>0.000024</td>\n",
       "      <td>0.004868</td>\n",
       "      <td>-0.984915</td>\n",
       "    </tr>\n",
       "    <tr>\n",
       "      <th>3</th>\n",
       "      <td>0.591138</td>\n",
       "      <td>0.71177</td>\n",
       "      <td>0.51524</td>\n",
       "      <td>0.001349</td>\n",
       "      <td>0.036731</td>\n",
       "      <td>0.525019</td>\n",
       "      <td>5.863846</td>\n",
       "      <td>5.9645</td>\n",
       "      <td>5.7556</td>\n",
       "      <td>0.001423</td>\n",
       "      <td>...</td>\n",
       "      <td>-0.57858</td>\n",
       "      <td>0.000007</td>\n",
       "      <td>0.002688</td>\n",
       "      <td>0.075011</td>\n",
       "      <td>-0.203739</td>\n",
       "      <td>-0.17999</td>\n",
       "      <td>-0.22958</td>\n",
       "      <td>0.000026</td>\n",
       "      <td>0.005099</td>\n",
       "      <td>0.185634</td>\n",
       "    </tr>\n",
       "    <tr>\n",
       "      <th>4</th>\n",
       "      <td>0.558168</td>\n",
       "      <td>0.67190</td>\n",
       "      <td>0.50535</td>\n",
       "      <td>0.000626</td>\n",
       "      <td>0.025020</td>\n",
       "      <td>1.076782</td>\n",
       "      <td>5.884745</td>\n",
       "      <td>5.9401</td>\n",
       "      <td>5.8384</td>\n",
       "      <td>0.000471</td>\n",
       "      <td>...</td>\n",
       "      <td>-0.57996</td>\n",
       "      <td>0.000005</td>\n",
       "      <td>0.002278</td>\n",
       "      <td>-0.219440</td>\n",
       "      <td>-0.203684</td>\n",
       "      <td>-0.17904</td>\n",
       "      <td>-0.22924</td>\n",
       "      <td>0.000027</td>\n",
       "      <td>0.005175</td>\n",
       "      <td>-0.820907</td>\n",
       "    </tr>\n",
       "  </tbody>\n",
       "</table>\n",
       "<p>5 rows × 54 columns</p>\n",
       "</div>"
      ],
      "text/plain": [
       "   RA_xacc_mean  RA_xacc_max  RA_xacc_min  RA_xacc_var  RA_xacc_std  \\\n",
       "0      0.679134      0.75930      0.58542     0.001546     0.039324   \n",
       "1      0.644964      0.73158      0.53064     0.001333     0.036508   \n",
       "2      0.608212      0.67737      0.53546     0.000637     0.025244   \n",
       "3      0.591138      0.71177      0.51524     0.001349     0.036731   \n",
       "4      0.558168      0.67190      0.50535     0.000626     0.025020   \n",
       "\n",
       "   RA_xacc_skew  RA_yacc_mean  RA_yacc_max  RA_yacc_min  RA_yacc_var  ...  \\\n",
       "0     -0.415694      5.713088       5.8483       5.5956     0.003779  ...   \n",
       "1      0.410625      5.795154       5.9546       5.6687     0.001132  ...   \n",
       "2      0.153302      5.833086       5.8918       5.7656     0.000488  ...   \n",
       "3      0.525019      5.863846       5.9645       5.7556     0.001423  ...   \n",
       "4      1.076782      5.884745       5.9401       5.8384     0.000471  ...   \n",
       "\n",
       "   RA_ymag_min  RA_ymag_var  RA_ymag_std  RA_ymag_skew  RA_zmag_mean  \\\n",
       "0     -0.57428     0.000012     0.003401     -0.052190     -0.211136   \n",
       "1     -0.57398     0.000005     0.002216      0.222740     -0.206431   \n",
       "2     -0.57563     0.000004     0.001954     -0.221765     -0.205648   \n",
       "3     -0.57858     0.000007     0.002688      0.075011     -0.203739   \n",
       "4     -0.57996     0.000005     0.002278     -0.219440     -0.203684   \n",
       "\n",
       "   RA_zmag_max  RA_zmag_min  RA_zmag_var  RA_zmag_std  RA_zmag_skew  \n",
       "0     -0.18401     -0.24523     0.000044     0.006638     -1.153902  \n",
       "1     -0.18054     -0.23624     0.000032     0.005660      0.458427  \n",
       "2     -0.18342     -0.22933     0.000024     0.004868     -0.984915  \n",
       "3     -0.17999     -0.22958     0.000026     0.005099      0.185634  \n",
       "4     -0.17904     -0.22924     0.000027     0.005175     -0.820907  \n",
       "\n",
       "[5 rows x 54 columns]"
      ]
     },
     "execution_count": 18,
     "metadata": {},
     "output_type": "execute_result"
    }
   ],
   "source": [
    "df_RA_X=df_RA.drop('activity',axis=1)\n",
    "df_RA_X.head()"
   ]
  },
  {
   "cell_type": "code",
   "execution_count": 19,
   "id": "93ba7006-7268-47db-b7a2-46e9405e546b",
   "metadata": {},
   "outputs": [],
   "source": [
    "from sklearn.model_selection import train_test_split\n",
    "\n",
    "X_train_RA, X_test_RA, y_train_RA, y_test_RA = train_test_split(df_RA_X, \n",
    "                                                    df_RA_Y,\n",
    "                                                    test_size = 0.25, \n",
    "                                                    random_state = 21)"
   ]
  },
  {
   "cell_type": "code",
   "execution_count": 20,
   "id": "c185616e-a4f5-478a-9c7f-2cf67fde55c4",
   "metadata": {},
   "outputs": [
    {
     "data": {
      "text/plain": [
       "0    12\n",
       "1    12\n",
       "2    12\n",
       "3    12\n",
       "4    12\n",
       "Name: activity, dtype: int32"
      ]
     },
     "execution_count": 20,
     "metadata": {},
     "output_type": "execute_result"
    }
   ],
   "source": [
    "df_LA_Y = df_LA['activity']\n",
    "df_LA_Y.head()"
   ]
  },
  {
   "cell_type": "code",
   "execution_count": 21,
   "id": "a69b01ba-76a2-42d2-b42f-224278fae9fb",
   "metadata": {},
   "outputs": [
    {
     "data": {
      "text/html": [
       "<div>\n",
       "<style scoped>\n",
       "    .dataframe tbody tr th:only-of-type {\n",
       "        vertical-align: middle;\n",
       "    }\n",
       "\n",
       "    .dataframe tbody tr th {\n",
       "        vertical-align: top;\n",
       "    }\n",
       "\n",
       "    .dataframe thead th {\n",
       "        text-align: right;\n",
       "    }\n",
       "</style>\n",
       "<table border=\"1\" class=\"dataframe\">\n",
       "  <thead>\n",
       "    <tr style=\"text-align: right;\">\n",
       "      <th></th>\n",
       "      <th>LA_xacc_mean</th>\n",
       "      <th>LA_xacc_max</th>\n",
       "      <th>LA_xacc_min</th>\n",
       "      <th>LA_xacc_var</th>\n",
       "      <th>LA_xacc_std</th>\n",
       "      <th>LA_xacc_skew</th>\n",
       "      <th>LA_yacc_mean</th>\n",
       "      <th>LA_yacc_max</th>\n",
       "      <th>LA_yacc_min</th>\n",
       "      <th>LA_yacc_var</th>\n",
       "      <th>...</th>\n",
       "      <th>LA_ymag_min</th>\n",
       "      <th>LA_ymag_var</th>\n",
       "      <th>LA_ymag_std</th>\n",
       "      <th>LA_ymag_skew</th>\n",
       "      <th>LA_zmag_mean</th>\n",
       "      <th>LA_zmag_max</th>\n",
       "      <th>LA_zmag_min</th>\n",
       "      <th>LA_zmag_var</th>\n",
       "      <th>LA_zmag_std</th>\n",
       "      <th>LA_zmag_skew</th>\n",
       "    </tr>\n",
       "  </thead>\n",
       "  <tbody>\n",
       "    <tr>\n",
       "      <th>0</th>\n",
       "      <td>3.403317</td>\n",
       "      <td>3.4875</td>\n",
       "      <td>3.2682</td>\n",
       "      <td>0.001583</td>\n",
       "      <td>0.039790</td>\n",
       "      <td>-0.744647</td>\n",
       "      <td>-8.375713</td>\n",
       "      <td>-8.2927</td>\n",
       "      <td>-8.4821</td>\n",
       "      <td>0.001178</td>\n",
       "      <td>...</td>\n",
       "      <td>0.33748</td>\n",
       "      <td>0.000003</td>\n",
       "      <td>0.001810</td>\n",
       "      <td>-0.215069</td>\n",
       "      <td>0.072273</td>\n",
       "      <td>0.076374</td>\n",
       "      <td>0.067940</td>\n",
       "      <td>0.000004</td>\n",
       "      <td>0.001910</td>\n",
       "      <td>-0.166015</td>\n",
       "    </tr>\n",
       "    <tr>\n",
       "      <th>1</th>\n",
       "      <td>3.427302</td>\n",
       "      <td>3.6630</td>\n",
       "      <td>3.3168</td>\n",
       "      <td>0.004305</td>\n",
       "      <td>0.065614</td>\n",
       "      <td>1.000107</td>\n",
       "      <td>-8.397591</td>\n",
       "      <td>-8.3118</td>\n",
       "      <td>-8.5017</td>\n",
       "      <td>0.001098</td>\n",
       "      <td>...</td>\n",
       "      <td>0.33000</td>\n",
       "      <td>0.000017</td>\n",
       "      <td>0.004159</td>\n",
       "      <td>-0.611251</td>\n",
       "      <td>0.074557</td>\n",
       "      <td>0.085184</td>\n",
       "      <td>0.068169</td>\n",
       "      <td>0.000022</td>\n",
       "      <td>0.004643</td>\n",
       "      <td>0.717286</td>\n",
       "    </tr>\n",
       "    <tr>\n",
       "      <th>2</th>\n",
       "      <td>3.400870</td>\n",
       "      <td>3.5168</td>\n",
       "      <td>3.3315</td>\n",
       "      <td>0.001007</td>\n",
       "      <td>0.031732</td>\n",
       "      <td>0.978319</td>\n",
       "      <td>-8.439138</td>\n",
       "      <td>-8.3599</td>\n",
       "      <td>-8.5204</td>\n",
       "      <td>0.000684</td>\n",
       "      <td>...</td>\n",
       "      <td>0.33307</td>\n",
       "      <td>0.000002</td>\n",
       "      <td>0.001316</td>\n",
       "      <td>-0.506255</td>\n",
       "      <td>0.075852</td>\n",
       "      <td>0.083227</td>\n",
       "      <td>0.072507</td>\n",
       "      <td>0.000004</td>\n",
       "      <td>0.002106</td>\n",
       "      <td>1.043919</td>\n",
       "    </tr>\n",
       "    <tr>\n",
       "      <th>3</th>\n",
       "      <td>3.391002</td>\n",
       "      <td>3.5311</td>\n",
       "      <td>3.2608</td>\n",
       "      <td>0.001792</td>\n",
       "      <td>0.042328</td>\n",
       "      <td>0.117935</td>\n",
       "      <td>-8.441421</td>\n",
       "      <td>-8.3207</td>\n",
       "      <td>-8.5446</td>\n",
       "      <td>0.001862</td>\n",
       "      <td>...</td>\n",
       "      <td>0.33431</td>\n",
       "      <td>0.000002</td>\n",
       "      <td>0.001395</td>\n",
       "      <td>0.155251</td>\n",
       "      <td>0.074878</td>\n",
       "      <td>0.080059</td>\n",
       "      <td>0.069942</td>\n",
       "      <td>0.000006</td>\n",
       "      <td>0.002414</td>\n",
       "      <td>0.242524</td>\n",
       "    </tr>\n",
       "    <tr>\n",
       "      <th>4</th>\n",
       "      <td>3.359974</td>\n",
       "      <td>3.4434</td>\n",
       "      <td>3.3069</td>\n",
       "      <td>0.000633</td>\n",
       "      <td>0.025160</td>\n",
       "      <td>1.051627</td>\n",
       "      <td>-8.454854</td>\n",
       "      <td>-8.3202</td>\n",
       "      <td>-8.5561</td>\n",
       "      <td>0.001061</td>\n",
       "      <td>...</td>\n",
       "      <td>0.33631</td>\n",
       "      <td>0.000001</td>\n",
       "      <td>0.001005</td>\n",
       "      <td>-0.299017</td>\n",
       "      <td>0.073398</td>\n",
       "      <td>0.077461</td>\n",
       "      <td>0.070175</td>\n",
       "      <td>0.000002</td>\n",
       "      <td>0.001482</td>\n",
       "      <td>0.606258</td>\n",
       "    </tr>\n",
       "  </tbody>\n",
       "</table>\n",
       "<p>5 rows × 54 columns</p>\n",
       "</div>"
      ],
      "text/plain": [
       "   LA_xacc_mean  LA_xacc_max  LA_xacc_min  LA_xacc_var  LA_xacc_std  \\\n",
       "0      3.403317       3.4875       3.2682     0.001583     0.039790   \n",
       "1      3.427302       3.6630       3.3168     0.004305     0.065614   \n",
       "2      3.400870       3.5168       3.3315     0.001007     0.031732   \n",
       "3      3.391002       3.5311       3.2608     0.001792     0.042328   \n",
       "4      3.359974       3.4434       3.3069     0.000633     0.025160   \n",
       "\n",
       "   LA_xacc_skew  LA_yacc_mean  LA_yacc_max  LA_yacc_min  LA_yacc_var  ...  \\\n",
       "0     -0.744647     -8.375713      -8.2927      -8.4821     0.001178  ...   \n",
       "1      1.000107     -8.397591      -8.3118      -8.5017     0.001098  ...   \n",
       "2      0.978319     -8.439138      -8.3599      -8.5204     0.000684  ...   \n",
       "3      0.117935     -8.441421      -8.3207      -8.5446     0.001862  ...   \n",
       "4      1.051627     -8.454854      -8.3202      -8.5561     0.001061  ...   \n",
       "\n",
       "   LA_ymag_min  LA_ymag_var  LA_ymag_std  LA_ymag_skew  LA_zmag_mean  \\\n",
       "0      0.33748     0.000003     0.001810     -0.215069      0.072273   \n",
       "1      0.33000     0.000017     0.004159     -0.611251      0.074557   \n",
       "2      0.33307     0.000002     0.001316     -0.506255      0.075852   \n",
       "3      0.33431     0.000002     0.001395      0.155251      0.074878   \n",
       "4      0.33631     0.000001     0.001005     -0.299017      0.073398   \n",
       "\n",
       "   LA_zmag_max  LA_zmag_min  LA_zmag_var  LA_zmag_std  LA_zmag_skew  \n",
       "0     0.076374     0.067940     0.000004     0.001910     -0.166015  \n",
       "1     0.085184     0.068169     0.000022     0.004643      0.717286  \n",
       "2     0.083227     0.072507     0.000004     0.002106      1.043919  \n",
       "3     0.080059     0.069942     0.000006     0.002414      0.242524  \n",
       "4     0.077461     0.070175     0.000002     0.001482      0.606258  \n",
       "\n",
       "[5 rows x 54 columns]"
      ]
     },
     "execution_count": 21,
     "metadata": {},
     "output_type": "execute_result"
    }
   ],
   "source": [
    "df_LA_X=df_LA.drop('activity',axis=1)\n",
    "df_LA_X.head()"
   ]
  },
  {
   "cell_type": "code",
   "execution_count": 22,
   "id": "fff9dc0b-5f05-43e6-aca7-156c3800ea70",
   "metadata": {},
   "outputs": [],
   "source": [
    "from sklearn.model_selection import train_test_split\n",
    "\n",
    "X_train_LA, X_test_LA, y_train_LA, y_test_LA = train_test_split(df_LA_X, \n",
    "                                                    df_LA_Y,\n",
    "                                                    test_size = 0.25, \n",
    "                                                    random_state = 21)"
   ]
  },
  {
   "cell_type": "code",
   "execution_count": 23,
   "id": "6f8dffd2-1a2b-4971-b9e3-92d0d1fb093c",
   "metadata": {},
   "outputs": [
    {
     "data": {
      "text/plain": [
       "((6840, 54), (2280, 54), (6840,), (2280,))"
      ]
     },
     "execution_count": 23,
     "metadata": {},
     "output_type": "execute_result"
    }
   ],
   "source": [
    "X_train_RA.shape, X_test_RA.shape, y_train_RA.shape, y_test_RA.shape"
   ]
  },
  {
   "cell_type": "code",
   "execution_count": 24,
   "id": "6fe24793-2a13-4893-a6de-0ec00a371acf",
   "metadata": {},
   "outputs": [
    {
     "data": {
      "text/plain": [
       "((6840, 54), (2280, 54), (6840,), (2280,))"
      ]
     },
     "execution_count": 24,
     "metadata": {},
     "output_type": "execute_result"
    }
   ],
   "source": [
    "X_train_LA.shape, X_test_LA.shape, y_train_LA.shape, y_test_LA.shape"
   ]
  },
  {
   "cell_type": "code",
   "execution_count": 25,
   "id": "a0182a2c-977e-44aa-9364-3e2f362f3dcf",
   "metadata": {},
   "outputs": [],
   "source": [
    "from collections import Counter\n",
    "import numpy as np\n",
    "\n",
    "def split_sequences(sequences, n_steps):\n",
    "    X, y = list(), list()  # 빈 리스트를 생성하여 시퀀스 데이터와 레이블을 담을 공간을 만듦\n",
    "    for i in range(len(sequences)):  # 전체 시퀀스 데이터를 순회\n",
    "        # find the end of this pattern\n",
    "        end_ix = i + n_steps  # 현재 인덱스(i)에서 n_steps만큼 떨어진 시퀀스의 끝을 계산\n",
    "        # check if we are beyond the dataset\n",
    "        if end_ix > len(sequences):  # 시퀀스 끝이 데이터의 범위를 넘어서는지 확인\n",
    "            break  # 범위를 넘으면 루프 종료\n",
    "        # gather input (X) and output parts (y)\n",
    "        seq_x = sequences[i:end_ix, :-1]  # 입력 데이터 (특징 데이터)\n",
    "        seq_y_values = sequences[i:end_ix, -1]  # 시퀀스 동안의 출력 데이터 (레이블들)\n",
    "        \n",
    "        # 가장 빈번하게 나온 레이블 찾기\n",
    "        most_common_label = Counter(seq_y_values).most_common(1)[0][0]\n",
    "        \n",
    "        X.append(seq_x)  # 입력 데이터 추가\n",
    "        y.append(most_common_label)  # 가장 많이 나온 레이블 추가\n",
    "    \n",
    "    return np.array(X), np.array(y)  # 리스트를 numpy 배열로 변환하여 반환"
   ]
  },
  {
   "cell_type": "code",
   "execution_count": 26,
   "id": "a406dbc2-789e-49d5-a80b-ba5e75391599",
   "metadata": {},
   "outputs": [],
   "source": [
    "# Merge train and test X/y data to apply sequence transformation function\n",
    "y_train_array_RA = np.array(y_train_RA)\n",
    "train_set_RA = np.c_[X_train_RA, y_train_array_RA]\n",
    "\n",
    "y_test_array_RA = np.array(y_test_RA)\n",
    "test_set_RA = np.c_[X_test_RA, y_test_array_RA]"
   ]
  },
  {
   "cell_type": "code",
   "execution_count": 27,
   "id": "9d454f55-2d99-4845-866d-dcdfb68fc090",
   "metadata": {},
   "outputs": [
    {
     "name": "stdout",
     "output_type": "stream",
     "text": [
      "(6838, 3, 54) (6838,)\n",
      "(2278, 3, 54) (2278,)\n"
     ]
    }
   ],
   "source": [
    "n_step = 3 \n",
    "\n",
    "X_train_seq_RA, y_train_seq_RA = split_sequences(train_set_RA, n_step)\n",
    "print(X_train_seq_RA.shape, y_train_seq_RA.shape)\n",
    "\n",
    "X_test_seq_RA, y_test_seq_RA = split_sequences(test_set_RA, n_step)\n",
    "print(X_test_seq_RA.shape, y_test_seq_RA.shape)"
   ]
  },
  {
   "cell_type": "code",
   "execution_count": 28,
   "id": "39f1238e-cf49-45bb-b166-6c7dccd9002c",
   "metadata": {},
   "outputs": [],
   "source": [
    "# Merge train and test X/y data to apply sequence transformation function\n",
    "y_train_array_LA = np.array(y_train_LA)\n",
    "train_set_LA = np.c_[X_train_LA, y_train_array_LA]\n",
    "\n",
    "y_test_array_LA = np.array(y_test_LA)\n",
    "test_set_LA = np.c_[X_test_LA, y_test_array_LA]"
   ]
  },
  {
   "cell_type": "code",
   "execution_count": 29,
   "id": "83afb9c1-c2e7-495c-875c-86054aac2f46",
   "metadata": {},
   "outputs": [
    {
     "name": "stdout",
     "output_type": "stream",
     "text": [
      "(6838, 3, 54) (6838,)\n",
      "(2278, 3, 54) (2278,)\n"
     ]
    }
   ],
   "source": [
    "n_step = 3 \n",
    "\n",
    "X_train_seq_LA, y_train_seq_LA = split_sequences(train_set_LA, n_step)\n",
    "print(X_train_seq_LA.shape, y_train_seq_LA.shape)\n",
    "\n",
    "X_test_seq_LA, y_test_seq_LA = split_sequences(test_set_LA, n_step)\n",
    "print(X_test_seq_LA.shape, y_test_seq_LA.shape)"
   ]
  },
  {
   "cell_type": "code",
   "execution_count": 30,
   "id": "e5f57c73-eb25-48de-9074-30437b3855c7",
   "metadata": {},
   "outputs": [
    {
     "name": "stdout",
     "output_type": "stream",
     "text": [
      "(6838, 19)\n",
      "(2278, 19)\n"
     ]
    }
   ],
   "source": [
    "from keras.utils import to_categorical\n",
    "\n",
    "# Convert output variables to categorical for CNN\n",
    "y_train_seq_RA = to_categorical(y_train_seq_RA)\n",
    "print(y_train_seq_RA.shape)\n",
    "\n",
    "y_test_seq_RA = to_categorical(y_test_seq_RA)\n",
    "print(y_test_seq_RA.shape)"
   ]
  },
  {
   "cell_type": "code",
   "execution_count": 31,
   "id": "785b70ab-9e69-4430-9381-dd2d42766eac",
   "metadata": {},
   "outputs": [
    {
     "name": "stdout",
     "output_type": "stream",
     "text": [
      "(6838, 19)\n",
      "(2278, 19)\n"
     ]
    }
   ],
   "source": [
    "# Convert output variables to categorical for CNN\n",
    "y_train_seq_LA = to_categorical(y_train_seq_LA)\n",
    "print(y_train_seq_LA.shape)\n",
    "\n",
    "y_test_seq_LA = to_categorical(y_test_seq_LA)\n",
    "print(y_test_seq_LA.shape)"
   ]
  },
  {
   "cell_type": "code",
   "execution_count": 32,
   "id": "39dd9970-49f4-4e51-bdb6-09b778951732",
   "metadata": {},
   "outputs": [
    {
     "name": "stdout",
     "output_type": "stream",
     "text": [
      "3 54 19\n"
     ]
    }
   ],
   "source": [
    "# Produce variables for CNN input/output shape\n",
    "n_timesteps, n_features, n_outputs = X_train_seq_RA.shape[1], X_train_seq_RA.shape[2], y_train_seq_RA.shape[1]\n",
    "print(n_timesteps, n_features, n_outputs)"
   ]
  },
  {
   "cell_type": "code",
   "execution_count": 33,
   "id": "401b80ba-f5a9-4f9e-91f8-824139c4d849",
   "metadata": {},
   "outputs": [],
   "source": [
    "import tensorflow as tf\n",
    "from tensorflow import keras\n",
    "from tensorflow.keras import layers\n",
    "\n",
    "# cnn model vary kernel size\n",
    "from numpy import mean\n",
    "from numpy import std\n",
    "from numpy import dstack\n",
    "from pandas import read_csv\n",
    "from matplotlib import pyplot\n",
    "from tensorflow.keras.models import Sequential\n",
    "from tensorflow.keras.layers import Dense\n",
    "from tensorflow.keras.layers import Flatten\n",
    "from tensorflow.keras.layers import Dropout\n",
    "from keras.utils import to_categorical\n",
    "\n",
    "import tensorflow.keras\n",
    "from tensorflow.keras.models import Sequential\n",
    "from tensorflow.keras.layers import Dense, Dropout, Flatten, Reshape, LSTM, Conv1D, MaxPooling1D\n",
    "from tensorflow.keras.layers import TimeDistributed, Conv1D, MaxPooling1D\n"
   ]
  },
  {
   "cell_type": "code",
   "execution_count": 34,
   "id": "a4b64fc4-c126-4b17-8fb1-9c9e2df4eadb",
   "metadata": {},
   "outputs": [
    {
     "name": "stderr",
     "output_type": "stream",
     "text": [
      "C:\\Users\\SUHlab\\anaconda3\\Lib\\site-packages\\keras\\src\\layers\\rnn\\rnn.py:204: UserWarning: Do not pass an `input_shape`/`input_dim` argument to a layer. When using Sequential models, prefer using an `Input(shape)` object as the first layer in the model instead.\n",
      "  super().__init__(**kwargs)\n"
     ]
    }
   ],
   "source": [
    "# Build CNN model using keras. For model building suggestions, referenced:\n",
    "# https://machinelearningmastery.com/deep-learning-models-for-human-activity-recognition/\n",
    "# https://machinelearningmastery.com/how-to-choose-loss-functions-when-training-deep-learning-neural-networks/\n",
    "# https://machinelearningmastery.com/how-to-develop-convolutional-neural-network-models-for-time-series-forecasting/\n",
    "\n",
    "# Sequential model type\n",
    "model = Sequential()\n",
    "model.add(LSTM(units=128, input_shape = (n_timesteps,n_features)))\n",
    "model.add(Dense(128, activation='relu'))\n",
    "model.add(Dense(n_outputs, activation='softmax'))\n",
    "model.compile(optimizer='adam', metrics=['accuracy'], loss='categorical_crossentropy')"
   ]
  },
  {
   "cell_type": "code",
   "execution_count": 35,
   "id": "9e51a5c1-a7e6-49e9-9db8-c8b521b02dff",
   "metadata": {},
   "outputs": [
    {
     "data": {
      "text/html": [
       "<pre style=\"white-space:pre;overflow-x:auto;line-height:normal;font-family:Menlo,'DejaVu Sans Mono',consolas,'Courier New',monospace\"><span style=\"font-weight: bold\">Model: \"sequential\"</span>\n",
       "</pre>\n"
      ],
      "text/plain": [
       "\u001b[1mModel: \"sequential\"\u001b[0m\n"
      ]
     },
     "metadata": {},
     "output_type": "display_data"
    },
    {
     "data": {
      "text/html": [
       "<pre style=\"white-space:pre;overflow-x:auto;line-height:normal;font-family:Menlo,'DejaVu Sans Mono',consolas,'Courier New',monospace\">┏━━━━━━━━━━━━━━━━━━━━━━━━━━━━━━━━━━━━━━┳━━━━━━━━━━━━━━━━━━━━━━━━━━━━━┳━━━━━━━━━━━━━━━━━┓\n",
       "┃<span style=\"font-weight: bold\"> Layer (type)                         </span>┃<span style=\"font-weight: bold\"> Output Shape                </span>┃<span style=\"font-weight: bold\">         Param # </span>┃\n",
       "┡━━━━━━━━━━━━━━━━━━━━━━━━━━━━━━━━━━━━━━╇━━━━━━━━━━━━━━━━━━━━━━━━━━━━━╇━━━━━━━━━━━━━━━━━┩\n",
       "│ lstm (<span style=\"color: #0087ff; text-decoration-color: #0087ff\">LSTM</span>)                          │ (<span style=\"color: #00d7ff; text-decoration-color: #00d7ff\">None</span>, <span style=\"color: #00af00; text-decoration-color: #00af00\">128</span>)                 │          <span style=\"color: #00af00; text-decoration-color: #00af00\">93,696</span> │\n",
       "├──────────────────────────────────────┼─────────────────────────────┼─────────────────┤\n",
       "│ dense (<span style=\"color: #0087ff; text-decoration-color: #0087ff\">Dense</span>)                        │ (<span style=\"color: #00d7ff; text-decoration-color: #00d7ff\">None</span>, <span style=\"color: #00af00; text-decoration-color: #00af00\">128</span>)                 │          <span style=\"color: #00af00; text-decoration-color: #00af00\">16,512</span> │\n",
       "├──────────────────────────────────────┼─────────────────────────────┼─────────────────┤\n",
       "│ dense_1 (<span style=\"color: #0087ff; text-decoration-color: #0087ff\">Dense</span>)                      │ (<span style=\"color: #00d7ff; text-decoration-color: #00d7ff\">None</span>, <span style=\"color: #00af00; text-decoration-color: #00af00\">19</span>)                  │           <span style=\"color: #00af00; text-decoration-color: #00af00\">2,451</span> │\n",
       "└──────────────────────────────────────┴─────────────────────────────┴─────────────────┘\n",
       "</pre>\n"
      ],
      "text/plain": [
       "┏━━━━━━━━━━━━━━━━━━━━━━━━━━━━━━━━━━━━━━┳━━━━━━━━━━━━━━━━━━━━━━━━━━━━━┳━━━━━━━━━━━━━━━━━┓\n",
       "┃\u001b[1m \u001b[0m\u001b[1mLayer (type)                        \u001b[0m\u001b[1m \u001b[0m┃\u001b[1m \u001b[0m\u001b[1mOutput Shape               \u001b[0m\u001b[1m \u001b[0m┃\u001b[1m \u001b[0m\u001b[1m        Param #\u001b[0m\u001b[1m \u001b[0m┃\n",
       "┡━━━━━━━━━━━━━━━━━━━━━━━━━━━━━━━━━━━━━━╇━━━━━━━━━━━━━━━━━━━━━━━━━━━━━╇━━━━━━━━━━━━━━━━━┩\n",
       "│ lstm (\u001b[38;5;33mLSTM\u001b[0m)                          │ (\u001b[38;5;45mNone\u001b[0m, \u001b[38;5;34m128\u001b[0m)                 │          \u001b[38;5;34m93,696\u001b[0m │\n",
       "├──────────────────────────────────────┼─────────────────────────────┼─────────────────┤\n",
       "│ dense (\u001b[38;5;33mDense\u001b[0m)                        │ (\u001b[38;5;45mNone\u001b[0m, \u001b[38;5;34m128\u001b[0m)                 │          \u001b[38;5;34m16,512\u001b[0m │\n",
       "├──────────────────────────────────────┼─────────────────────────────┼─────────────────┤\n",
       "│ dense_1 (\u001b[38;5;33mDense\u001b[0m)                      │ (\u001b[38;5;45mNone\u001b[0m, \u001b[38;5;34m19\u001b[0m)                  │           \u001b[38;5;34m2,451\u001b[0m │\n",
       "└──────────────────────────────────────┴─────────────────────────────┴─────────────────┘\n"
      ]
     },
     "metadata": {},
     "output_type": "display_data"
    },
    {
     "data": {
      "text/html": [
       "<pre style=\"white-space:pre;overflow-x:auto;line-height:normal;font-family:Menlo,'DejaVu Sans Mono',consolas,'Courier New',monospace\"><span style=\"font-weight: bold\"> Total params: </span><span style=\"color: #00af00; text-decoration-color: #00af00\">112,659</span> (440.07 KB)\n",
       "</pre>\n"
      ],
      "text/plain": [
       "\u001b[1m Total params: \u001b[0m\u001b[38;5;34m112,659\u001b[0m (440.07 KB)\n"
      ]
     },
     "metadata": {},
     "output_type": "display_data"
    },
    {
     "data": {
      "text/html": [
       "<pre style=\"white-space:pre;overflow-x:auto;line-height:normal;font-family:Menlo,'DejaVu Sans Mono',consolas,'Courier New',monospace\"><span style=\"font-weight: bold\"> Trainable params: </span><span style=\"color: #00af00; text-decoration-color: #00af00\">112,659</span> (440.07 KB)\n",
       "</pre>\n"
      ],
      "text/plain": [
       "\u001b[1m Trainable params: \u001b[0m\u001b[38;5;34m112,659\u001b[0m (440.07 KB)\n"
      ]
     },
     "metadata": {},
     "output_type": "display_data"
    },
    {
     "data": {
      "text/html": [
       "<pre style=\"white-space:pre;overflow-x:auto;line-height:normal;font-family:Menlo,'DejaVu Sans Mono',consolas,'Courier New',monospace\"><span style=\"font-weight: bold\"> Non-trainable params: </span><span style=\"color: #00af00; text-decoration-color: #00af00\">0</span> (0.00 B)\n",
       "</pre>\n"
      ],
      "text/plain": [
       "\u001b[1m Non-trainable params: \u001b[0m\u001b[38;5;34m0\u001b[0m (0.00 B)\n"
      ]
     },
     "metadata": {},
     "output_type": "display_data"
    }
   ],
   "source": [
    "model.summary()"
   ]
  },
  {
   "cell_type": "code",
   "execution_count": 36,
   "id": "07785b85-9da6-4b33-b659-b39ee8730499",
   "metadata": {},
   "outputs": [
    {
     "name": "stdout",
     "output_type": "stream",
     "text": [
      "Epoch 1/20\n",
      "\u001b[1m193/193\u001b[0m \u001b[32m━━━━━━━━━━━━━━━━━━━━\u001b[0m\u001b[37m\u001b[0m \u001b[1m3s\u001b[0m 4ms/step - accuracy: 0.2131 - loss: 2.5313 - val_accuracy: 0.5453 - val_loss: 1.3934\n",
      "Epoch 2/20\n",
      "\u001b[1m193/193\u001b[0m \u001b[32m━━━━━━━━━━━━━━━━━━━━\u001b[0m\u001b[37m\u001b[0m \u001b[1m0s\u001b[0m 2ms/step - accuracy: 0.6148 - loss: 1.1908 - val_accuracy: 0.6886 - val_loss: 0.9857\n",
      "Epoch 3/20\n",
      "\u001b[1m193/193\u001b[0m \u001b[32m━━━━━━━━━━━━━━━━━━━━\u001b[0m\u001b[37m\u001b[0m \u001b[1m0s\u001b[0m 2ms/step - accuracy: 0.7536 - loss: 0.7950 - val_accuracy: 0.7515 - val_loss: 0.8742\n",
      "Epoch 4/20\n",
      "\u001b[1m193/193\u001b[0m \u001b[32m━━━━━━━━━━━━━━━━━━━━\u001b[0m\u001b[37m\u001b[0m \u001b[1m0s\u001b[0m 2ms/step - accuracy: 0.8115 - loss: 0.6065 - val_accuracy: 0.8041 - val_loss: 0.7158\n",
      "Epoch 5/20\n",
      "\u001b[1m193/193\u001b[0m \u001b[32m━━━━━━━━━━━━━━━━━━━━\u001b[0m\u001b[37m\u001b[0m \u001b[1m0s\u001b[0m 2ms/step - accuracy: 0.8538 - loss: 0.5000 - val_accuracy: 0.8275 - val_loss: 0.6569\n",
      "Epoch 6/20\n",
      "\u001b[1m193/193\u001b[0m \u001b[32m━━━━━━━━━━━━━━━━━━━━\u001b[0m\u001b[37m\u001b[0m \u001b[1m0s\u001b[0m 2ms/step - accuracy: 0.8890 - loss: 0.3858 - val_accuracy: 0.8377 - val_loss: 0.6111\n",
      "Epoch 7/20\n",
      "\u001b[1m193/193\u001b[0m \u001b[32m━━━━━━━━━━━━━━━━━━━━\u001b[0m\u001b[37m\u001b[0m \u001b[1m0s\u001b[0m 2ms/step - accuracy: 0.9082 - loss: 0.3197 - val_accuracy: 0.8363 - val_loss: 0.6140\n",
      "Epoch 8/20\n",
      "\u001b[1m193/193\u001b[0m \u001b[32m━━━━━━━━━━━━━━━━━━━━\u001b[0m\u001b[37m\u001b[0m \u001b[1m1s\u001b[0m 3ms/step - accuracy: 0.9259 - loss: 0.2591 - val_accuracy: 0.8392 - val_loss: 0.6186\n",
      "Epoch 9/20\n",
      "\u001b[1m193/193\u001b[0m \u001b[32m━━━━━━━━━━━━━━━━━━━━\u001b[0m\u001b[37m\u001b[0m \u001b[1m0s\u001b[0m 2ms/step - accuracy: 0.9260 - loss: 0.2438 - val_accuracy: 0.8553 - val_loss: 0.5562\n",
      "Epoch 10/20\n",
      "\u001b[1m193/193\u001b[0m \u001b[32m━━━━━━━━━━━━━━━━━━━━\u001b[0m\u001b[37m\u001b[0m \u001b[1m0s\u001b[0m 2ms/step - accuracy: 0.9484 - loss: 0.1747 - val_accuracy: 0.8538 - val_loss: 0.5638\n",
      "Epoch 11/20\n",
      "\u001b[1m193/193\u001b[0m \u001b[32m━━━━━━━━━━━━━━━━━━━━\u001b[0m\u001b[37m\u001b[0m \u001b[1m0s\u001b[0m 2ms/step - accuracy: 0.9567 - loss: 0.1490 - val_accuracy: 0.8626 - val_loss: 0.5829\n",
      "Epoch 12/20\n",
      "\u001b[1m193/193\u001b[0m \u001b[32m━━━━━━━━━━━━━━━━━━━━\u001b[0m\u001b[37m\u001b[0m \u001b[1m0s\u001b[0m 2ms/step - accuracy: 0.9612 - loss: 0.1275 - val_accuracy: 0.8611 - val_loss: 0.5696\n",
      "Epoch 13/20\n",
      "\u001b[1m193/193\u001b[0m \u001b[32m━━━━━━━━━━━━━━━━━━━━\u001b[0m\u001b[37m\u001b[0m \u001b[1m0s\u001b[0m 2ms/step - accuracy: 0.9736 - loss: 0.1014 - val_accuracy: 0.8596 - val_loss: 0.5992\n",
      "Epoch 14/20\n",
      "\u001b[1m193/193\u001b[0m \u001b[32m━━━━━━━━━━━━━━━━━━━━\u001b[0m\u001b[37m\u001b[0m \u001b[1m0s\u001b[0m 2ms/step - accuracy: 0.9827 - loss: 0.0753 - val_accuracy: 0.8670 - val_loss: 0.5729\n",
      "Epoch 15/20\n",
      "\u001b[1m193/193\u001b[0m \u001b[32m━━━━━━━━━━━━━━━━━━━━\u001b[0m\u001b[37m\u001b[0m \u001b[1m0s\u001b[0m 2ms/step - accuracy: 0.9881 - loss: 0.0654 - val_accuracy: 0.8728 - val_loss: 0.5865\n",
      "Epoch 16/20\n",
      "\u001b[1m193/193\u001b[0m \u001b[32m━━━━━━━━━━━━━━━━━━━━\u001b[0m\u001b[37m\u001b[0m \u001b[1m0s\u001b[0m 2ms/step - accuracy: 0.9910 - loss: 0.0514 - val_accuracy: 0.8699 - val_loss: 0.6291\n",
      "Epoch 17/20\n",
      "\u001b[1m193/193\u001b[0m \u001b[32m━━━━━━━━━━━━━━━━━━━━\u001b[0m\u001b[37m\u001b[0m \u001b[1m0s\u001b[0m 2ms/step - accuracy: 0.9917 - loss: 0.0438 - val_accuracy: 0.8567 - val_loss: 0.6584\n",
      "Epoch 18/20\n",
      "\u001b[1m193/193\u001b[0m \u001b[32m━━━━━━━━━━━━━━━━━━━━\u001b[0m\u001b[37m\u001b[0m \u001b[1m0s\u001b[0m 2ms/step - accuracy: 0.9937 - loss: 0.0365 - val_accuracy: 0.8596 - val_loss: 0.6503\n",
      "Epoch 19/20\n",
      "\u001b[1m193/193\u001b[0m \u001b[32m━━━━━━━━━━━━━━━━━━━━\u001b[0m\u001b[37m\u001b[0m \u001b[1m0s\u001b[0m 2ms/step - accuracy: 0.9891 - loss: 0.0408 - val_accuracy: 0.8421 - val_loss: 0.6820\n",
      "Epoch 20/20\n",
      "\u001b[1m193/193\u001b[0m \u001b[32m━━━━━━━━━━━━━━━━━━━━\u001b[0m\u001b[37m\u001b[0m \u001b[1m0s\u001b[0m 2ms/step - accuracy: 0.9955 - loss: 0.0289 - val_accuracy: 0.8582 - val_loss: 0.6825\n"
     ]
    }
   ],
   "source": [
    "history = model.fit(X_train_seq_RA, y_train_seq_RA, epochs = 20, batch_size = 32, validation_split = 0.1, shuffle = True)"
   ]
  },
  {
   "cell_type": "code",
   "execution_count": 37,
   "id": "8bb46bee-8a99-4a2d-bf5f-e98f67346521",
   "metadata": {},
   "outputs": [
    {
     "data": {
      "text/plain": [
       "<matplotlib.legend.Legend at 0x23f425c8620>"
      ]
     },
     "execution_count": 37,
     "metadata": {},
     "output_type": "execute_result"
    },
    {
     "data": {
      "image/png": "[encoded data removed]",
      "text/plain": [
       "<Figure size 640x480 with 1 Axes>"
      ]
     },
     "metadata": {},
     "output_type": "display_data"
    }
   ],
   "source": [
    "plt.plot(history.history[\"loss\"], label = \"train\")\n",
    "plt.plot(history.history[\"val_loss\"], label = \"test\")\n",
    "plt.legend()"
   ]
  },
  {
   "cell_type": "code",
   "execution_count": 38,
   "id": "b4946fa3-8678-4722-b4b5-e73549aed39c",
   "metadata": {},
   "outputs": [
    {
     "name": "stdout",
     "output_type": "stream",
     "text": [
      "\u001b[1m214/214\u001b[0m \u001b[32m━━━━━━━━━━━━━━━━━━━━\u001b[0m\u001b[37m\u001b[0m \u001b[1m0s\u001b[0m 1ms/step - accuracy: 0.9974 - loss: 0.0244\n"
     ]
    },
    {
     "data": {
      "text/plain": [
       "[0.08692631870508194, 0.9839134216308594]"
      ]
     },
     "execution_count": 38,
     "metadata": {},
     "output_type": "execute_result"
    }
   ],
   "source": [
    "model.evaluate(X_train_seq_RA, y_train_seq_RA)"
   ]
  },
  {
   "cell_type": "code",
   "execution_count": 39,
   "id": "bf976d03-e07e-4515-ae29-4efbc8c06449",
   "metadata": {},
   "outputs": [
    {
     "name": "stdout",
     "output_type": "stream",
     "text": [
      "\u001b[1m72/72\u001b[0m \u001b[32m━━━━━━━━━━━━━━━━━━━━\u001b[0m\u001b[37m\u001b[0m \u001b[1m0s\u001b[0m 1ms/step - accuracy: 0.8621 - loss: 0.6289\n"
     ]
    },
    {
     "data": {
      "text/plain": [
       "[0.6478346586227417, 0.8652326464653015]"
      ]
     },
     "execution_count": 39,
     "metadata": {},
     "output_type": "execute_result"
    }
   ],
   "source": [
    "model.evaluate(X_test_seq_RA, y_test_seq_RA)"
   ]
  },
  {
   "cell_type": "code",
   "execution_count": 40,
   "id": "835f54fb-5c7f-4222-9c4b-ddd55290dabd",
   "metadata": {},
   "outputs": [
    {
     "name": "stdout",
     "output_type": "stream",
     "text": [
      "\u001b[1m72/72\u001b[0m \u001b[32m━━━━━━━━━━━━━━━━━━━━\u001b[0m\u001b[37m\u001b[0m \u001b[1m0s\u001b[0m 3ms/step\n",
      "Confusion Matrix\n"
     ]
    },
    {
     "data": {
      "image/png": "[encoded data removed]",
      "text/plain": [
       "<Figure size 800x600 with 2 Axes>"
      ]
     },
     "metadata": {},
     "output_type": "display_data"
    }
   ],
   "source": [
    "import matplotlib.pyplot as plt\n",
    "import seaborn as sns\n",
    "from sklearn.metrics import confusion_matrix\n",
    "\n",
    "from sklearn.metrics import confusion_matrix,classification_report,accuracy_score\n",
    "\n",
    "y_test_arg=np.argmax(y_test_seq_RA, axis=1)\n",
    "Y_pred = np.argmax(model.predict(X_test_seq_RA),axis=1)\n",
    "print('Confusion Matrix')\n",
    "cm = confusion_matrix(y_test_arg, Y_pred)\n",
    "# 시각화\n",
    "plt.figure(figsize=(8, 6))  # 그래프 크기 조절 (너비 8, 높이 6)\n",
    "sns.heatmap(cm, annot=True, fmt=\"d\", cmap=\"Blues\")\n",
    "\n",
    "# 그래프 표시\n",
    "plt.show()"
   ]
  },
  {
   "cell_type": "code",
   "execution_count": 41,
   "id": "b57e484c-1f47-4cd6-829e-987790e66793",
   "metadata": {},
   "outputs": [
    {
     "name": "stdout",
     "output_type": "stream",
     "text": [
      "\u001b[1m72/72\u001b[0m \u001b[32m━━━━━━━━━━━━━━━━━━━━\u001b[0m\u001b[37m\u001b[0m \u001b[1m0s\u001b[0m 1ms/step - accuracy: 0.8621 - loss: 0.6289\n"
     ]
    },
    {
     "name": "stderr",
     "output_type": "stream",
     "text": [
      "WARNING:absl:You are saving your model as an HDF5 file via `model.save()` or `keras.saving.save_model(model)`. This file format is considered legacy. We recommend using instead the native Keras format, e.g. `model.save('my_model.keras')` or `keras.saving.save_model(model, 'my_model.keras')`. \n"
     ]
    },
    {
     "name": "stdout",
     "output_type": "stream",
     "text": [
      "model saved at  E:/dataset/HAR/DSADS/RA_Model.h5\n",
      "Accuracy >86.523265\n",
      "Base Loss >0.65\n"
     ]
    }
   ],
   "source": [
    "base_loss,base_accuracy=model.evaluate(X_test_seq_RA, y_test_seq_RA)\n",
    "\n",
    "model_file='E:/dataset/HAR/DSADS/RA_Model.h5'\n",
    "  \n",
    "tf.keras.models.save_model(model, model_file, include_optimizer=False)\n",
    "print('model saved at ', model_file)\n",
    "#score,keras_file=evaluate_model(trainX,trainy,testX,testy)\n",
    "score=base_accuracy*100\n",
    "print('Accuracy >{:f}'.format(score))\n",
    "print('Base Loss >{:.2f}'.format(base_loss))"
   ]
  },
  {
   "cell_type": "code",
   "execution_count": 42,
   "id": "95fa75e3-8e62-491f-97c9-b375696434e5",
   "metadata": {},
   "outputs": [
    {
     "name": "stderr",
     "output_type": "stream",
     "text": [
      "C:\\Users\\SUHlab\\anaconda3\\Lib\\site-packages\\keras\\src\\layers\\rnn\\rnn.py:204: UserWarning: Do not pass an `input_shape`/`input_dim` argument to a layer. When using Sequential models, prefer using an `Input(shape)` object as the first layer in the model instead.\n",
      "  super().__init__(**kwargs)\n"
     ]
    }
   ],
   "source": [
    "# Build CNN model using keras. For model building suggestions, referenced:\n",
    "# https://machinelearningmastery.com/deep-learning-models-for-human-activity-recognition/\n",
    "# https://machinelearningmastery.com/how-to-choose-loss-functions-when-training-deep-learning-neural-networks/\n",
    "# https://machinelearningmastery.com/how-to-develop-convolutional-neural-network-models-for-time-series-forecasting/\n",
    "\n",
    "# Sequential model type\n",
    "model2 = Sequential()\n",
    "model2.add(LSTM(units=128, input_shape = (n_timesteps,n_features)))\n",
    "model2.add(Dense(128, activation='relu'))\n",
    "model2.add(Dense(n_outputs, activation='softmax'))\n",
    "model2.compile(optimizer='adam', metrics=['accuracy'], loss='categorical_crossentropy')"
   ]
  },
  {
   "cell_type": "code",
   "execution_count": 43,
   "id": "e563b567-0cbc-4988-a008-cd0e0a95b462",
   "metadata": {},
   "outputs": [
    {
     "data": {
      "text/html": [
       "<pre style=\"white-space:pre;overflow-x:auto;line-height:normal;font-family:Menlo,'DejaVu Sans Mono',consolas,'Courier New',monospace\"><span style=\"font-weight: bold\">Model: \"sequential_1\"</span>\n",
       "</pre>\n"
      ],
      "text/plain": [
       "\u001b[1mModel: \"sequential_1\"\u001b[0m\n"
      ]
     },
     "metadata": {},
     "output_type": "display_data"
    },
    {
     "data": {
      "text/html": [
       "<pre style=\"white-space:pre;overflow-x:auto;line-height:normal;font-family:Menlo,'DejaVu Sans Mono',consolas,'Courier New',monospace\">┏━━━━━━━━━━━━━━━━━━━━━━━━━━━━━━━━━━━━━━┳━━━━━━━━━━━━━━━━━━━━━━━━━━━━━┳━━━━━━━━━━━━━━━━━┓\n",
       "┃<span style=\"font-weight: bold\"> Layer (type)                         </span>┃<span style=\"font-weight: bold\"> Output Shape                </span>┃<span style=\"font-weight: bold\">         Param # </span>┃\n",
       "┡━━━━━━━━━━━━━━━━━━━━━━━━━━━━━━━━━━━━━━╇━━━━━━━━━━━━━━━━━━━━━━━━━━━━━╇━━━━━━━━━━━━━━━━━┩\n",
       "│ lstm_1 (<span style=\"color: #0087ff; text-decoration-color: #0087ff\">LSTM</span>)                        │ (<span style=\"color: #00d7ff; text-decoration-color: #00d7ff\">None</span>, <span style=\"color: #00af00; text-decoration-color: #00af00\">128</span>)                 │          <span style=\"color: #00af00; text-decoration-color: #00af00\">93,696</span> │\n",
       "├──────────────────────────────────────┼─────────────────────────────┼─────────────────┤\n",
       "│ dense_2 (<span style=\"color: #0087ff; text-decoration-color: #0087ff\">Dense</span>)                      │ (<span style=\"color: #00d7ff; text-decoration-color: #00d7ff\">None</span>, <span style=\"color: #00af00; text-decoration-color: #00af00\">128</span>)                 │          <span style=\"color: #00af00; text-decoration-color: #00af00\">16,512</span> │\n",
       "├──────────────────────────────────────┼─────────────────────────────┼─────────────────┤\n",
       "│ dense_3 (<span style=\"color: #0087ff; text-decoration-color: #0087ff\">Dense</span>)                      │ (<span style=\"color: #00d7ff; text-decoration-color: #00d7ff\">None</span>, <span style=\"color: #00af00; text-decoration-color: #00af00\">19</span>)                  │           <span style=\"color: #00af00; text-decoration-color: #00af00\">2,451</span> │\n",
       "└──────────────────────────────────────┴─────────────────────────────┴─────────────────┘\n",
       "</pre>\n"
      ],
      "text/plain": [
       "┏━━━━━━━━━━━━━━━━━━━━━━━━━━━━━━━━━━━━━━┳━━━━━━━━━━━━━━━━━━━━━━━━━━━━━┳━━━━━━━━━━━━━━━━━┓\n",
       "┃\u001b[1m \u001b[0m\u001b[1mLayer (type)                        \u001b[0m\u001b[1m \u001b[0m┃\u001b[1m \u001b[0m\u001b[1mOutput Shape               \u001b[0m\u001b[1m \u001b[0m┃\u001b[1m \u001b[0m\u001b[1m        Param #\u001b[0m\u001b[1m \u001b[0m┃\n",
       "┡━━━━━━━━━━━━━━━━━━━━━━━━━━━━━━━━━━━━━━╇━━━━━━━━━━━━━━━━━━━━━━━━━━━━━╇━━━━━━━━━━━━━━━━━┩\n",
       "│ lstm_1 (\u001b[38;5;33mLSTM\u001b[0m)                        │ (\u001b[38;5;45mNone\u001b[0m, \u001b[38;5;34m128\u001b[0m)                 │          \u001b[38;5;34m93,696\u001b[0m │\n",
       "├──────────────────────────────────────┼─────────────────────────────┼─────────────────┤\n",
       "│ dense_2 (\u001b[38;5;33mDense\u001b[0m)                      │ (\u001b[38;5;45mNone\u001b[0m, \u001b[38;5;34m128\u001b[0m)                 │          \u001b[38;5;34m16,512\u001b[0m │\n",
       "├──────────────────────────────────────┼─────────────────────────────┼─────────────────┤\n",
       "│ dense_3 (\u001b[38;5;33mDense\u001b[0m)                      │ (\u001b[38;5;45mNone\u001b[0m, \u001b[38;5;34m19\u001b[0m)                  │           \u001b[38;5;34m2,451\u001b[0m │\n",
       "└──────────────────────────────────────┴─────────────────────────────┴─────────────────┘\n"
      ]
     },
     "metadata": {},
     "output_type": "display_data"
    },
    {
     "data": {
      "text/html": [
       "<pre style=\"white-space:pre;overflow-x:auto;line-height:normal;font-family:Menlo,'DejaVu Sans Mono',consolas,'Courier New',monospace\"><span style=\"font-weight: bold\"> Total params: </span><span style=\"color: #00af00; text-decoration-color: #00af00\">112,659</span> (440.07 KB)\n",
       "</pre>\n"
      ],
      "text/plain": [
       "\u001b[1m Total params: \u001b[0m\u001b[38;5;34m112,659\u001b[0m (440.07 KB)\n"
      ]
     },
     "metadata": {},
     "output_type": "display_data"
    },
    {
     "data": {
      "text/html": [
       "<pre style=\"white-space:pre;overflow-x:auto;line-height:normal;font-family:Menlo,'DejaVu Sans Mono',consolas,'Courier New',monospace\"><span style=\"font-weight: bold\"> Trainable params: </span><span style=\"color: #00af00; text-decoration-color: #00af00\">112,659</span> (440.07 KB)\n",
       "</pre>\n"
      ],
      "text/plain": [
       "\u001b[1m Trainable params: \u001b[0m\u001b[38;5;34m112,659\u001b[0m (440.07 KB)\n"
      ]
     },
     "metadata": {},
     "output_type": "display_data"
    },
    {
     "data": {
      "text/html": [
       "<pre style=\"white-space:pre;overflow-x:auto;line-height:normal;font-family:Menlo,'DejaVu Sans Mono',consolas,'Courier New',monospace\"><span style=\"font-weight: bold\"> Non-trainable params: </span><span style=\"color: #00af00; text-decoration-color: #00af00\">0</span> (0.00 B)\n",
       "</pre>\n"
      ],
      "text/plain": [
       "\u001b[1m Non-trainable params: \u001b[0m\u001b[38;5;34m0\u001b[0m (0.00 B)\n"
      ]
     },
     "metadata": {},
     "output_type": "display_data"
    }
   ],
   "source": [
    "model2.summary()"
   ]
  },
  {
   "cell_type": "code",
   "execution_count": 44,
   "id": "827df0ee-94fa-4a9e-bf79-859cde3375a9",
   "metadata": {},
   "outputs": [
    {
     "name": "stdout",
     "output_type": "stream",
     "text": [
      "Epoch 1/20\n",
      "\u001b[1m193/193\u001b[0m \u001b[32m━━━━━━━━━━━━━━━━━━━━\u001b[0m\u001b[37m\u001b[0m \u001b[1m3s\u001b[0m 4ms/step - accuracy: 0.2336 - loss: 2.4624 - val_accuracy: 0.5716 - val_loss: 1.2338\n",
      "Epoch 2/20\n",
      "\u001b[1m193/193\u001b[0m \u001b[32m━━━━━━━━━━━━━━━━━━━━\u001b[0m\u001b[37m\u001b[0m \u001b[1m0s\u001b[0m 2ms/step - accuracy: 0.6431 - loss: 1.0757 - val_accuracy: 0.7339 - val_loss: 0.9005\n",
      "Epoch 3/20\n",
      "\u001b[1m193/193\u001b[0m \u001b[32m━━━━━━━━━━━━━━━━━━━━\u001b[0m\u001b[37m\u001b[0m \u001b[1m0s\u001b[0m 2ms/step - accuracy: 0.7773 - loss: 0.7381 - val_accuracy: 0.7851 - val_loss: 0.6987\n",
      "Epoch 4/20\n",
      "\u001b[1m193/193\u001b[0m \u001b[32m━━━━━━━━━━━━━━━━━━━━\u001b[0m\u001b[37m\u001b[0m \u001b[1m0s\u001b[0m 2ms/step - accuracy: 0.8387 - loss: 0.5415 - val_accuracy: 0.8202 - val_loss: 0.6374\n",
      "Epoch 5/20\n",
      "\u001b[1m193/193\u001b[0m \u001b[32m━━━━━━━━━━━━━━━━━━━━\u001b[0m\u001b[37m\u001b[0m \u001b[1m0s\u001b[0m 2ms/step - accuracy: 0.8671 - loss: 0.4685 - val_accuracy: 0.8509 - val_loss: 0.5451\n",
      "Epoch 6/20\n",
      "\u001b[1m193/193\u001b[0m \u001b[32m━━━━━━━━━━━━━━━━━━━━\u001b[0m\u001b[37m\u001b[0m \u001b[1m0s\u001b[0m 2ms/step - accuracy: 0.8933 - loss: 0.3566 - val_accuracy: 0.8406 - val_loss: 0.5446\n",
      "Epoch 7/20\n",
      "\u001b[1m193/193\u001b[0m \u001b[32m━━━━━━━━━━━━━━━━━━━━\u001b[0m\u001b[37m\u001b[0m \u001b[1m0s\u001b[0m 2ms/step - accuracy: 0.9170 - loss: 0.2931 - val_accuracy: 0.8743 - val_loss: 0.5179\n",
      "Epoch 8/20\n",
      "\u001b[1m193/193\u001b[0m \u001b[32m━━━━━━━━━━━━━━━━━━━━\u001b[0m\u001b[37m\u001b[0m \u001b[1m0s\u001b[0m 2ms/step - accuracy: 0.9262 - loss: 0.2448 - val_accuracy: 0.8640 - val_loss: 0.4983\n",
      "Epoch 9/20\n",
      "\u001b[1m193/193\u001b[0m \u001b[32m━━━━━━━━━━━━━━━━━━━━\u001b[0m\u001b[37m\u001b[0m \u001b[1m0s\u001b[0m 2ms/step - accuracy: 0.9420 - loss: 0.1877 - val_accuracy: 0.8655 - val_loss: 0.4981\n",
      "Epoch 10/20\n",
      "\u001b[1m193/193\u001b[0m \u001b[32m━━━━━━━━━━━━━━━━━━━━\u001b[0m\u001b[37m\u001b[0m \u001b[1m0s\u001b[0m 2ms/step - accuracy: 0.9529 - loss: 0.1695 - val_accuracy: 0.8743 - val_loss: 0.5101\n",
      "Epoch 11/20\n",
      "\u001b[1m193/193\u001b[0m \u001b[32m━━━━━━━━━━━━━━━━━━━━\u001b[0m\u001b[37m\u001b[0m \u001b[1m0s\u001b[0m 2ms/step - accuracy: 0.9591 - loss: 0.1476 - val_accuracy: 0.8655 - val_loss: 0.5349\n",
      "Epoch 12/20\n",
      "\u001b[1m193/193\u001b[0m \u001b[32m━━━━━━━━━━━━━━━━━━━━\u001b[0m\u001b[37m\u001b[0m \u001b[1m0s\u001b[0m 2ms/step - accuracy: 0.9691 - loss: 0.1118 - val_accuracy: 0.8728 - val_loss: 0.5339\n",
      "Epoch 13/20\n",
      "\u001b[1m193/193\u001b[0m \u001b[32m━━━━━━━━━━━━━━━━━━━━\u001b[0m\u001b[37m\u001b[0m \u001b[1m0s\u001b[0m 2ms/step - accuracy: 0.9712 - loss: 0.1099 - val_accuracy: 0.8713 - val_loss: 0.5055\n",
      "Epoch 14/20\n",
      "\u001b[1m193/193\u001b[0m \u001b[32m━━━━━━━━━━━━━━━━━━━━\u001b[0m\u001b[37m\u001b[0m \u001b[1m0s\u001b[0m 2ms/step - accuracy: 0.9842 - loss: 0.0699 - val_accuracy: 0.8670 - val_loss: 0.5333\n",
      "Epoch 15/20\n",
      "\u001b[1m193/193\u001b[0m \u001b[32m━━━━━━━━━━━━━━━━━━━━\u001b[0m\u001b[37m\u001b[0m \u001b[1m0s\u001b[0m 2ms/step - accuracy: 0.9821 - loss: 0.0671 - val_accuracy: 0.8363 - val_loss: 0.6385\n",
      "Epoch 16/20\n",
      "\u001b[1m193/193\u001b[0m \u001b[32m━━━━━━━━━━━━━━━━━━━━\u001b[0m\u001b[37m\u001b[0m \u001b[1m0s\u001b[0m 2ms/step - accuracy: 0.9772 - loss: 0.0761 - val_accuracy: 0.8713 - val_loss: 0.5446\n",
      "Epoch 17/20\n",
      "\u001b[1m193/193\u001b[0m \u001b[32m━━━━━━━━━━━━━━━━━━━━\u001b[0m\u001b[37m\u001b[0m \u001b[1m0s\u001b[0m 2ms/step - accuracy: 0.9924 - loss: 0.0388 - val_accuracy: 0.8816 - val_loss: 0.5501\n",
      "Epoch 18/20\n",
      "\u001b[1m193/193\u001b[0m \u001b[32m━━━━━━━━━━━━━━━━━━━━\u001b[0m\u001b[37m\u001b[0m \u001b[1m0s\u001b[0m 2ms/step - accuracy: 0.9936 - loss: 0.0320 - val_accuracy: 0.8713 - val_loss: 0.6426\n",
      "Epoch 19/20\n",
      "\u001b[1m193/193\u001b[0m \u001b[32m━━━━━━━━━━━━━━━━━━━━\u001b[0m\u001b[37m\u001b[0m \u001b[1m0s\u001b[0m 2ms/step - accuracy: 0.9926 - loss: 0.0341 - val_accuracy: 0.8845 - val_loss: 0.6042\n",
      "Epoch 20/20\n",
      "\u001b[1m193/193\u001b[0m \u001b[32m━━━━━━━━━━━━━━━━━━━━\u001b[0m\u001b[37m\u001b[0m \u001b[1m1s\u001b[0m 3ms/step - accuracy: 0.9905 - loss: 0.0333 - val_accuracy: 0.8757 - val_loss: 0.6167\n"
     ]
    }
   ],
   "source": [
    "history2 = model2.fit(X_train_seq_LA, y_train_seq_LA, epochs = 20, batch_size = 32, validation_split = 0.1, shuffle = True)"
   ]
  },
  {
   "cell_type": "code",
   "execution_count": 45,
   "id": "eb604da0-693f-4904-affd-6119178d6c00",
   "metadata": {},
   "outputs": [
    {
     "data": {
      "text/plain": [
       "<matplotlib.legend.Legend at 0x23f481e3830>"
      ]
     },
     "execution_count": 45,
     "metadata": {},
     "output_type": "execute_result"
    },
    {
     "data": {
      "image/png": "[encoded data removed]",
      "text/plain": [
       "<Figure size 640x480 with 1 Axes>"
      ]
     },
     "metadata": {},
     "output_type": "display_data"
    }
   ],
   "source": [
    "plt.plot(history2.history[\"loss\"], label = \"train\")\n",
    "plt.plot(history2.history[\"val_loss\"], label = \"test\")\n",
    "plt.legend()"
   ]
  },
  {
   "cell_type": "code",
   "execution_count": 46,
   "id": "b3be0deb-c505-4785-a7c8-98f0132f1f45",
   "metadata": {},
   "outputs": [
    {
     "name": "stdout",
     "output_type": "stream",
     "text": [
      "\u001b[1m214/214\u001b[0m \u001b[32m━━━━━━━━━━━━━━━━━━━━\u001b[0m\u001b[37m\u001b[0m \u001b[1m0s\u001b[0m 1ms/step - accuracy: 0.9958 - loss: 0.0269\n"
     ]
    },
    {
     "data": {
      "text/plain": [
       "[0.08265414088964462, 0.9844983816146851]"
      ]
     },
     "execution_count": 46,
     "metadata": {},
     "output_type": "execute_result"
    }
   ],
   "source": [
    "model2.evaluate(X_train_seq_LA, y_train_seq_LA)"
   ]
  },
  {
   "cell_type": "code",
   "execution_count": 47,
   "id": "5438b514-54c2-4ac3-b799-cae87adaa1d3",
   "metadata": {},
   "outputs": [
    {
     "name": "stdout",
     "output_type": "stream",
     "text": [
      "\u001b[1m72/72\u001b[0m \u001b[32m━━━━━━━━━━━━━━━━━━━━\u001b[0m\u001b[37m\u001b[0m \u001b[1m0s\u001b[0m 1ms/step - accuracy: 0.8819 - loss: 0.5998\n"
     ]
    },
    {
     "data": {
      "text/plain": [
       "[0.6283895969390869, 0.8726953268051147]"
      ]
     },
     "execution_count": 47,
     "metadata": {},
     "output_type": "execute_result"
    }
   ],
   "source": [
    "model2.evaluate(X_test_seq_LA, y_test_seq_LA)"
   ]
  },
  {
   "cell_type": "code",
   "execution_count": 48,
   "id": "1c1e4305-040f-4331-b9f6-a34b8291b37e",
   "metadata": {},
   "outputs": [
    {
     "name": "stdout",
     "output_type": "stream",
     "text": [
      "\u001b[1m72/72\u001b[0m \u001b[32m━━━━━━━━━━━━━━━━━━━━\u001b[0m\u001b[37m\u001b[0m \u001b[1m0s\u001b[0m 3ms/step\n",
      "Confusion Matrix\n"
     ]
    },
    {
     "data": {
      "image/png": "[encoded data removed]",
      "text/plain": [
       "<Figure size 800x600 with 2 Axes>"
      ]
     },
     "metadata": {},
     "output_type": "display_data"
    }
   ],
   "source": [
    "import matplotlib.pyplot as plt\n",
    "import seaborn as sns\n",
    "from sklearn.metrics import confusion_matrix\n",
    "\n",
    "from sklearn.metrics import confusion_matrix,classification_report,accuracy_score\n",
    "\n",
    "y_test_arg=np.argmax(y_test_seq_LA, axis=1)\n",
    "Y_pred = np.argmax(model2.predict(X_test_seq_LA),axis=1)\n",
    "print('Confusion Matrix')\n",
    "cm = confusion_matrix(y_test_arg, Y_pred)\n",
    "# 시각화\n",
    "plt.figure(figsize=(8, 6))  # 그래프 크기 조절 (너비 8, 높이 6)\n",
    "sns.heatmap(cm, annot=True, fmt=\"d\", cmap=\"Greens\")\n",
    "\n",
    "# 그래프 표시\n",
    "plt.show()"
   ]
  },
  {
   "cell_type": "code",
   "execution_count": 49,
   "id": "aee6a09b-1acb-4303-964c-b97bbc80c79e",
   "metadata": {},
   "outputs": [
    {
     "name": "stdout",
     "output_type": "stream",
     "text": [
      "\u001b[1m72/72\u001b[0m \u001b[32m━━━━━━━━━━━━━━━━━━━━\u001b[0m\u001b[37m\u001b[0m \u001b[1m0s\u001b[0m 1ms/step - accuracy: 0.8819 - loss: 0.5998\n"
     ]
    },
    {
     "name": "stderr",
     "output_type": "stream",
     "text": [
      "WARNING:absl:You are saving your model as an HDF5 file via `model.save()` or `keras.saving.save_model(model)`. This file format is considered legacy. We recommend using instead the native Keras format, e.g. `model.save('my_model.keras')` or `keras.saving.save_model(model, 'my_model.keras')`. \n"
     ]
    },
    {
     "name": "stdout",
     "output_type": "stream",
     "text": [
      "model saved at  E:/dataset/HAR/DSADS/LA_Model.h5\n",
      "Accuracy >87.269533\n",
      "Base Loss >0.63\n"
     ]
    }
   ],
   "source": [
    "base_loss,base_accuracy=model2.evaluate(X_test_seq_LA, y_test_seq_LA)\n",
    "\n",
    "model_file2='E:/dataset/HAR/DSADS/LA_Model.h5'\n",
    "  \n",
    "tf.keras.models.save_model(model2, model_file2, include_optimizer=False)\n",
    "print('model saved at ', model_file2)\n",
    "score=base_accuracy*100\n",
    "print('Accuracy >{:f}'.format(score))\n",
    "print('Base Loss >{:.2f}'.format(base_loss))"
   ]
  },
  {
   "cell_type": "markdown",
   "id": "ed8b9701-06f4-4496-bb77-a4a4494af72d",
   "metadata": {},
   "source": [
    "<font size=\"7\">Pre-trained Model</font>"
   ]
  },
  {
   "cell_type": "code",
   "execution_count": 50,
   "id": "b5a73c46-ce32-4d16-803c-b1be78b5bfd8",
   "metadata": {},
   "outputs": [],
   "source": [
    "# https://www.tensorflow.org/guide/keras/transfer_learning?hl=ko"
   ]
  },
  {
   "cell_type": "code",
   "execution_count": 51,
   "id": "23a7ef66-32d2-42bd-a0c0-e40419e92378",
   "metadata": {},
   "outputs": [
    {
     "name": "stderr",
     "output_type": "stream",
     "text": [
      "WARNING:absl:No training configuration found in the save file, so the model was *not* compiled. Compile it manually.\n"
     ]
    }
   ],
   "source": [
    "# Base 모델을 로드 (LA_Model.h5)\n",
    "from tensorflow.keras.models import load_model\n",
    "\n",
    "base_model = load_model(model_file2)"
   ]
  },
  {
   "cell_type": "code",
   "execution_count": 52,
   "id": "1de27c49-762a-46fa-91cf-3de3fd0493eb",
   "metadata": {},
   "outputs": [
    {
     "name": "stdout",
     "output_type": "stream",
     "text": [
      "\u001b[1m72/72\u001b[0m \u001b[32m━━━━━━━━━━━━━━━━━━━━\u001b[0m\u001b[37m\u001b[0m \u001b[1m1s\u001b[0m 1ms/step - accuracy: 0.8819 - loss: 0.5998 \n"
     ]
    },
    {
     "data": {
      "text/plain": [
       "[0.6283895969390869, 0.8726953268051147]"
      ]
     },
     "execution_count": 52,
     "metadata": {},
     "output_type": "execute_result"
    }
   ],
   "source": [
    "base_model.compile(optimizer='adam', metrics=['accuracy'], loss='categorical_crossentropy')\n",
    "base_model.evaluate(X_test_seq_LA, y_test_seq_LA)"
   ]
  },
  {
   "cell_type": "code",
   "execution_count": 53,
   "id": "067f6c2d-d090-493c-948f-4109254ca5d6",
   "metadata": {},
   "outputs": [
    {
     "name": "stdout",
     "output_type": "stream",
     "text": [
      "\u001b[1m72/72\u001b[0m \u001b[32m━━━━━━━━━━━━━━━━━━━━\u001b[0m\u001b[37m\u001b[0m \u001b[1m0s\u001b[0m 1ms/step - accuracy: 0.2551 - loss: 4.9970\n"
     ]
    },
    {
     "data": {
      "text/plain": [
       "[4.952367305755615, 0.25241440534591675]"
      ]
     },
     "execution_count": 53,
     "metadata": {},
     "output_type": "execute_result"
    }
   ],
   "source": [
    "base_model.evaluate(X_test_seq_RA, y_test_seq_RA)"
   ]
  },
  {
   "cell_type": "code",
   "execution_count": 54,
   "id": "03cdbe17-2a5e-4a83-924f-2ebe3f686e4d",
   "metadata": {},
   "outputs": [
    {
     "name": "stdout",
     "output_type": "stream",
     "text": [
      "Number of layers in the base model:  3\n"
     ]
    }
   ],
   "source": [
    "print(\"Number of layers in the base model: \", len(base_model.layers))"
   ]
  },
  {
   "cell_type": "code",
   "execution_count": 58,
   "id": "49ada5c1-9d78-4622-87ae-a3963ecc7eb5",
   "metadata": {},
   "outputs": [],
   "source": [
    "# 기존 모델의 층을 동결 (학습되지 않도록 설정)\n",
    "base_model.trainable = False"
   ]
  },
  {
   "cell_type": "code",
   "execution_count": 59,
   "id": "78685f57-cc49-4dd3-8d50-d1104d193f6a",
   "metadata": {},
   "outputs": [
    {
     "data": {
      "text/html": [
       "<pre style=\"white-space:pre;overflow-x:auto;line-height:normal;font-family:Menlo,'DejaVu Sans Mono',consolas,'Courier New',monospace\"><span style=\"font-weight: bold\">Model: \"sequential_3\"</span>\n",
       "</pre>\n"
      ],
      "text/plain": [
       "\u001b[1mModel: \"sequential_3\"\u001b[0m\n"
      ]
     },
     "metadata": {},
     "output_type": "display_data"
    },
    {
     "data": {
      "text/html": [
       "<pre style=\"white-space:pre;overflow-x:auto;line-height:normal;font-family:Menlo,'DejaVu Sans Mono',consolas,'Courier New',monospace\">┏━━━━━━━━━━━━━━━━━━━━━━━━━━━━━━━━━━━━━━┳━━━━━━━━━━━━━━━━━━━━━━━━━━━━━┳━━━━━━━━━━━━━━━━━┓\n",
       "┃<span style=\"font-weight: bold\"> Layer (type)                         </span>┃<span style=\"font-weight: bold\"> Output Shape                </span>┃<span style=\"font-weight: bold\">         Param # </span>┃\n",
       "┡━━━━━━━━━━━━━━━━━━━━━━━━━━━━━━━━━━━━━━╇━━━━━━━━━━━━━━━━━━━━━━━━━━━━━╇━━━━━━━━━━━━━━━━━┩\n",
       "│ lstm_1 (<span style=\"color: #0087ff; text-decoration-color: #0087ff\">LSTM</span>)                        │ (<span style=\"color: #00d7ff; text-decoration-color: #00d7ff\">None</span>, <span style=\"color: #00af00; text-decoration-color: #00af00\">128</span>)                 │          <span style=\"color: #00af00; text-decoration-color: #00af00\">93,696</span> │\n",
       "├──────────────────────────────────────┼─────────────────────────────┼─────────────────┤\n",
       "│ dense_2 (<span style=\"color: #0087ff; text-decoration-color: #0087ff\">Dense</span>)                      │ (<span style=\"color: #00d7ff; text-decoration-color: #00d7ff\">None</span>, <span style=\"color: #00af00; text-decoration-color: #00af00\">128</span>)                 │          <span style=\"color: #00af00; text-decoration-color: #00af00\">16,512</span> │\n",
       "├──────────────────────────────────────┼─────────────────────────────┼─────────────────┤\n",
       "│ dense_6 (<span style=\"color: #0087ff; text-decoration-color: #0087ff\">Dense</span>)                      │ ?                           │     <span style=\"color: #00af00; text-decoration-color: #00af00\">0</span> (unbuilt) │\n",
       "├──────────────────────────────────────┼─────────────────────────────┼─────────────────┤\n",
       "│ dense_7 (<span style=\"color: #0087ff; text-decoration-color: #0087ff\">Dense</span>)                      │ ?                           │     <span style=\"color: #00af00; text-decoration-color: #00af00\">0</span> (unbuilt) │\n",
       "└──────────────────────────────────────┴─────────────────────────────┴─────────────────┘\n",
       "</pre>\n"
      ],
      "text/plain": [
       "┏━━━━━━━━━━━━━━━━━━━━━━━━━━━━━━━━━━━━━━┳━━━━━━━━━━━━━━━━━━━━━━━━━━━━━┳━━━━━━━━━━━━━━━━━┓\n",
       "┃\u001b[1m \u001b[0m\u001b[1mLayer (type)                        \u001b[0m\u001b[1m \u001b[0m┃\u001b[1m \u001b[0m\u001b[1mOutput Shape               \u001b[0m\u001b[1m \u001b[0m┃\u001b[1m \u001b[0m\u001b[1m        Param #\u001b[0m\u001b[1m \u001b[0m┃\n",
       "┡━━━━━━━━━━━━━━━━━━━━━━━━━━━━━━━━━━━━━━╇━━━━━━━━━━━━━━━━━━━━━━━━━━━━━╇━━━━━━━━━━━━━━━━━┩\n",
       "│ lstm_1 (\u001b[38;5;33mLSTM\u001b[0m)                        │ (\u001b[38;5;45mNone\u001b[0m, \u001b[38;5;34m128\u001b[0m)                 │          \u001b[38;5;34m93,696\u001b[0m │\n",
       "├──────────────────────────────────────┼─────────────────────────────┼─────────────────┤\n",
       "│ dense_2 (\u001b[38;5;33mDense\u001b[0m)                      │ (\u001b[38;5;45mNone\u001b[0m, \u001b[38;5;34m128\u001b[0m)                 │          \u001b[38;5;34m16,512\u001b[0m │\n",
       "├──────────────────────────────────────┼─────────────────────────────┼─────────────────┤\n",
       "│ dense_6 (\u001b[38;5;33mDense\u001b[0m)                      │ ?                           │     \u001b[38;5;34m0\u001b[0m (unbuilt) │\n",
       "├──────────────────────────────────────┼─────────────────────────────┼─────────────────┤\n",
       "│ dense_7 (\u001b[38;5;33mDense\u001b[0m)                      │ ?                           │     \u001b[38;5;34m0\u001b[0m (unbuilt) │\n",
       "└──────────────────────────────────────┴─────────────────────────────┴─────────────────┘\n"
      ]
     },
     "metadata": {},
     "output_type": "display_data"
    },
    {
     "data": {
      "text/html": [
       "<pre style=\"white-space:pre;overflow-x:auto;line-height:normal;font-family:Menlo,'DejaVu Sans Mono',consolas,'Courier New',monospace\"><span style=\"font-weight: bold\"> Total params: </span><span style=\"color: #00af00; text-decoration-color: #00af00\">110,208</span> (430.50 KB)\n",
       "</pre>\n"
      ],
      "text/plain": [
       "\u001b[1m Total params: \u001b[0m\u001b[38;5;34m110,208\u001b[0m (430.50 KB)\n"
      ]
     },
     "metadata": {},
     "output_type": "display_data"
    },
    {
     "data": {
      "text/html": [
       "<pre style=\"white-space:pre;overflow-x:auto;line-height:normal;font-family:Menlo,'DejaVu Sans Mono',consolas,'Courier New',monospace\"><span style=\"font-weight: bold\"> Trainable params: </span><span style=\"color: #00af00; text-decoration-color: #00af00\">0</span> (0.00 B)\n",
       "</pre>\n"
      ],
      "text/plain": [
       "\u001b[1m Trainable params: \u001b[0m\u001b[38;5;34m0\u001b[0m (0.00 B)\n"
      ]
     },
     "metadata": {},
     "output_type": "display_data"
    },
    {
     "data": {
      "text/html": [
       "<pre style=\"white-space:pre;overflow-x:auto;line-height:normal;font-family:Menlo,'DejaVu Sans Mono',consolas,'Courier New',monospace\"><span style=\"font-weight: bold\"> Non-trainable params: </span><span style=\"color: #00af00; text-decoration-color: #00af00\">110,208</span> (430.50 KB)\n",
       "</pre>\n"
      ],
      "text/plain": [
       "\u001b[1m Non-trainable params: \u001b[0m\u001b[38;5;34m110,208\u001b[0m (430.50 KB)\n"
      ]
     },
     "metadata": {},
     "output_type": "display_data"
    }
   ],
   "source": [
    "from tensorflow.keras.applications import VGG16\n",
    "from tensorflow.keras import layers, models\n",
    "\n",
    "def remove_last_layers(model, num_layers_to_remove):\n",
    "    # 모델의 레이어를 하나씩 슬라이스해서 앞의 레이어만 가져옴\n",
    "    model_layers = model.layers[:-num_layers_to_remove]  # 마지막 레이어부터 지정된 갯수만큼 제외\n",
    "    new_model = models.Sequential(model_layers)  # 새로운 모델에 해당 레이어들만 추가\n",
    "    return new_model\n",
    "\n",
    "\n",
    "# 출력층부터 1개의 레이어를 삭제\n",
    "new_model = remove_last_layers(base_model, 1)\n",
    "\n",
    "# 새로운 출력층 추가\n",
    "new_model.add(layers.Dense(256, activation='relu'))\n",
    "new_model.add(layers.Dense(19, activation='softmax'))  # 예: 10개의 클래스\n",
    "new_model.compile(optimizer='adam', metrics=['accuracy'], loss='categorical_crossentropy')\n",
    "\n",
    "# 모델 요약 출력\n",
    "new_model.summary()\n"
   ]
  },
  {
   "cell_type": "code",
   "execution_count": 56,
   "id": "70c7956d-3e3f-4eea-9ec9-3b892e5dc3e5",
   "metadata": {},
   "outputs": [
    {
     "ename": "NameError",
     "evalue": "name 'base_model2' is not defined",
     "output_type": "error",
     "traceback": [
      "\u001b[1;31m---------------------------------------------------------------------------\u001b[0m",
      "\u001b[1;31mNameError\u001b[0m                                 Traceback (most recent call last)",
      "Cell \u001b[1;32mIn[56], line 2\u001b[0m\n\u001b[0;32m      1\u001b[0m \u001b[38;5;66;03m# 기존 모델의 층을 동결 (학습되지 않도록 설정)\u001b[39;00m\n\u001b[1;32m----> 2\u001b[0m base_model2\u001b[38;5;241m.\u001b[39mtrainable \u001b[38;5;241m=\u001b[39m \u001b[38;5;28;01mFalse\u001b[39;00m\n",
      "\u001b[1;31mNameError\u001b[0m: name 'base_model2' is not defined"
     ]
    }
   ],
   "source": []
  },
  {
   "cell_type": "code",
   "execution_count": null,
   "id": "959a86e3-ccf3-4b3b-951e-90a5dba23c7d",
   "metadata": {},
   "outputs": [],
   "source": [
    "import pandas as pd\n",
    "display_layers = [(layer, layer.name, layer.trainable) for layer in new_model.layers]\n",
    "pd.DataFrame(display_layers, columns=['Layer Type', 'Layer Name', 'Layer Trainable'])"
   ]
  },
  {
   "cell_type": "code",
   "execution_count": null,
   "id": "84c2f87c-dedb-45d2-9f7c-f1dce162f460",
   "metadata": {},
   "outputs": [],
   "source": [
    "history3 = new_model.fit(X_train_seq_RA, y_train_seq_RA, epochs = 20, batch_size = 32, validation_split = 0.1, shuffle = True)\n",
    "\n",
    "new_model.summary()"
   ]
  },
  {
   "cell_type": "code",
   "execution_count": null,
   "id": "e22697f8-74a6-44f7-b847-f1eb1646ac84",
   "metadata": {},
   "outputs": [],
   "source": [
    "new_model.evaluate(X_test_seq_RA, y_test_seq_RA)"
   ]
  },
  {
   "cell_type": "markdown",
   "id": "4536c68f-588e-4cf1-879b-cc53254ae133",
   "metadata": {},
   "source": [
    "<font size=\"7\">Fine Tunning 미세 조정 </font>"
   ]
  },
  {
   "cell_type": "code",
   "execution_count": null,
   "id": "fb4d09df-57ff-4267-b526-4421a87744e8",
   "metadata": {},
   "outputs": [],
   "source": [
    "base_model.trainable = True\n",
    "new_model.compile(optimizer='adam', metrics=['accuracy'], loss='categorical_crossentropy')"
   ]
  },
  {
   "cell_type": "code",
   "execution_count": null,
   "id": "c3523316-4f59-437d-bb0b-c2138bcd9601",
   "metadata": {},
   "outputs": [],
   "source": [
    "import pandas as pd\n",
    "display_layers = [(layer, layer.name, layer.trainable) for layer in new_model.layers]\n",
    "pd.DataFrame(display_layers, columns=['Layer Type', 'Layer Name', 'Layer Trainable'])"
   ]
  },
  {
   "cell_type": "code",
   "execution_count": null,
   "id": "17cd8039-4e04-4374-8254-f8b86d3e17fa",
   "metadata": {},
   "outputs": [],
   "source": [
    "history3 = new_model.fit(X_train_seq_RA, y_train_seq_RA, epochs = 20, batch_size = 32, validation_split = 0.1, shuffle = True)\n",
    "\n",
    "new_model.summary()"
   ]
  },
  {
   "cell_type": "code",
   "execution_count": null,
   "id": "96056edd-da4a-4086-8990-64535bb851d9",
   "metadata": {},
   "outputs": [],
   "source": [
    "new_model.evaluate(X_test_seq_RA, y_test_seq_RA)"
   ]
  }
 ],
 "metadata": {
  "kernelspec": {
   "display_name": "Python 3 (ipykernel)",
   "language": "python",
   "name": "python3"
  },
  "language_info": {
   "codemirror_mode": {
    "name": "ipython",
    "version": 3
   },
   "file_extension": ".py",
   "mimetype": "text/x-python",
   "name": "python",
   "nbconvert_exporter": "python",
   "pygments_lexer": "ipython3",
   "version": "3.12.4"
  }
 },
 "nbformat": 4,
 "nbformat_minor": 5
}
