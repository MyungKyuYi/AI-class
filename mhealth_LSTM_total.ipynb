{
 "cells": [
  {
   "cell_type": "code",
   "execution_count": 1,
   "metadata": {
    "id": "ILpKcR7wEHJX"
   },
   "outputs": [],
   "source": [
    "#https://github.com/colebryant/mhealth-classification/blob/master/CNNModeling.ipynb"
   ]
  },
  {
   "cell_type": "code",
   "execution_count": 2,
   "metadata": {
    "executionInfo": {
     "elapsed": 9096,
     "status": "ok",
     "timestamp": 1695434426054,
     "user": {
      "displayName": "이명규/컴퓨터공학부(컴퓨터공학전공)",
      "userId": "09675343185158048118"
     },
     "user_tz": -540
    },
    "id": "P8IdMJRr4vr0"
   },
   "outputs": [],
   "source": [
    "# Imports\n",
    "import pandas as pd\n",
    "import numpy as np\n",
    "import matplotlib.pyplot as plt\n",
    "import seaborn as sns\n",
    "from sklearn.model_selection import train_test_split, cross_val_score\n",
    "from sklearn.metrics import classification_report, accuracy_score, recall_score, precision_score, f1_score, confusion_matrix\n",
    "from sklearn.preprocessing import StandardScaler\n",
    "from numpy import array\n",
    "from keras.models import Sequential\n",
    "from keras.layers import Dense, Flatten, Dropout, LSTM\n",
    "from tensorflow.keras.layers import Conv1D, MaxPooling1D\n",
    "from tensorflow.keras.utils import to_categorical\n",
    "from sklearn.model_selection import KFold"
   ]
  },
  {
   "cell_type": "code",
   "execution_count": 3,
   "metadata": {
    "executionInfo": {
     "elapsed": 310,
     "status": "ok",
     "timestamp": 1695434429185,
     "user": {
      "displayName": "이명규/컴퓨터공학부(컴퓨터공학전공)",
      "userId": "09675343185158048118"
     },
     "user_tz": -540
    },
    "id": "RfyGPSrwyixv"
   },
   "outputs": [],
   "source": [
    "import numpy as np\n",
    "import pandas as pd\n",
    "import seaborn as sns\n",
    "import matplotlib.pyplot as plt\n",
    "\n",
    "%matplotlib inline"
   ]
  },
  {
   "cell_type": "code",
   "execution_count": 4,
   "metadata": {
    "colab": {
     "base_uri": "https://localhost:8080/",
     "height": 443
    },
    "executionInfo": {
     "elapsed": 4831,
     "status": "ok",
     "timestamp": 1695434460494,
     "user": {
      "displayName": "이명규/컴퓨터공학부(컴퓨터공학전공)",
      "userId": "09675343185158048118"
     },
     "user_tz": -540
    },
    "id": "kg_HDghpyi-6",
    "outputId": "7e18c7b5-5099-439b-fbae-fc8bff01d130"
   },
   "outputs": [
    {
     "data": {
      "text/html": [
       "<div>\n",
       "<style scoped>\n",
       "    .dataframe tbody tr th:only-of-type {\n",
       "        vertical-align: middle;\n",
       "    }\n",
       "\n",
       "    .dataframe tbody tr th {\n",
       "        vertical-align: top;\n",
       "    }\n",
       "\n",
       "    .dataframe thead th {\n",
       "        text-align: right;\n",
       "    }\n",
       "</style>\n",
       "<table border=\"1\" class=\"dataframe\">\n",
       "  <thead>\n",
       "    <tr style=\"text-align: right;\">\n",
       "      <th></th>\n",
       "      <th>acc_ch_x</th>\n",
       "      <th>acc_ch_y</th>\n",
       "      <th>acc_ch_z</th>\n",
       "      <th>acc_la_x</th>\n",
       "      <th>acc_la_y</th>\n",
       "      <th>acc_la_z</th>\n",
       "      <th>gyr_la_x</th>\n",
       "      <th>gyr_la_y</th>\n",
       "      <th>gyr_la_z</th>\n",
       "      <th>mag_la_x</th>\n",
       "      <th>...</th>\n",
       "      <th>acc_rw_y</th>\n",
       "      <th>acc_rw_z</th>\n",
       "      <th>gyr_rw_x</th>\n",
       "      <th>gyr_rw_y</th>\n",
       "      <th>gyr_rw_z</th>\n",
       "      <th>mag_rw_x</th>\n",
       "      <th>mag_rw_y</th>\n",
       "      <th>mag_rw_z</th>\n",
       "      <th>activity</th>\n",
       "      <th>subject</th>\n",
       "    </tr>\n",
       "  </thead>\n",
       "  <tbody>\n",
       "    <tr>\n",
       "      <th>0</th>\n",
       "      <td>-9.8184</td>\n",
       "      <td>0.009971</td>\n",
       "      <td>0.29563</td>\n",
       "      <td>2.1849</td>\n",
       "      <td>-9.6967</td>\n",
       "      <td>0.63077</td>\n",
       "      <td>0.103900</td>\n",
       "      <td>-0.84053</td>\n",
       "      <td>-0.68762</td>\n",
       "      <td>-0.370000</td>\n",
       "      <td>...</td>\n",
       "      <td>-4.5781</td>\n",
       "      <td>0.187760</td>\n",
       "      <td>-0.449020</td>\n",
       "      <td>-1.01030</td>\n",
       "      <td>0.034483</td>\n",
       "      <td>-2.35000</td>\n",
       "      <td>-1.610200</td>\n",
       "      <td>-0.030899</td>\n",
       "      <td>0</td>\n",
       "      <td>subject1</td>\n",
       "    </tr>\n",
       "    <tr>\n",
       "      <th>1</th>\n",
       "      <td>-9.8489</td>\n",
       "      <td>0.524040</td>\n",
       "      <td>0.37348</td>\n",
       "      <td>2.3876</td>\n",
       "      <td>-9.5080</td>\n",
       "      <td>0.68389</td>\n",
       "      <td>0.085343</td>\n",
       "      <td>-0.83865</td>\n",
       "      <td>-0.68369</td>\n",
       "      <td>-0.197990</td>\n",
       "      <td>...</td>\n",
       "      <td>-4.3198</td>\n",
       "      <td>0.023595</td>\n",
       "      <td>-0.449020</td>\n",
       "      <td>-1.01030</td>\n",
       "      <td>0.034483</td>\n",
       "      <td>-2.16320</td>\n",
       "      <td>-0.882540</td>\n",
       "      <td>0.326570</td>\n",
       "      <td>0</td>\n",
       "      <td>subject1</td>\n",
       "    </tr>\n",
       "    <tr>\n",
       "      <th>2</th>\n",
       "      <td>-9.6602</td>\n",
       "      <td>0.181850</td>\n",
       "      <td>0.43742</td>\n",
       "      <td>2.4086</td>\n",
       "      <td>-9.5674</td>\n",
       "      <td>0.68113</td>\n",
       "      <td>0.085343</td>\n",
       "      <td>-0.83865</td>\n",
       "      <td>-0.68369</td>\n",
       "      <td>-0.374170</td>\n",
       "      <td>...</td>\n",
       "      <td>-4.2772</td>\n",
       "      <td>0.275720</td>\n",
       "      <td>-0.449020</td>\n",
       "      <td>-1.01030</td>\n",
       "      <td>0.034483</td>\n",
       "      <td>-1.61750</td>\n",
       "      <td>-0.165620</td>\n",
       "      <td>-0.030693</td>\n",
       "      <td>0</td>\n",
       "      <td>subject1</td>\n",
       "    </tr>\n",
       "    <tr>\n",
       "      <th>3</th>\n",
       "      <td>-9.6507</td>\n",
       "      <td>0.214220</td>\n",
       "      <td>0.24033</td>\n",
       "      <td>2.1814</td>\n",
       "      <td>-9.4301</td>\n",
       "      <td>0.55031</td>\n",
       "      <td>0.085343</td>\n",
       "      <td>-0.83865</td>\n",
       "      <td>-0.68369</td>\n",
       "      <td>-0.017271</td>\n",
       "      <td>...</td>\n",
       "      <td>-4.3163</td>\n",
       "      <td>0.367520</td>\n",
       "      <td>-0.456860</td>\n",
       "      <td>-1.00820</td>\n",
       "      <td>0.025862</td>\n",
       "      <td>-1.07710</td>\n",
       "      <td>0.006945</td>\n",
       "      <td>-0.382620</td>\n",
       "      <td>0</td>\n",
       "      <td>subject1</td>\n",
       "    </tr>\n",
       "    <tr>\n",
       "      <th>4</th>\n",
       "      <td>-9.7030</td>\n",
       "      <td>0.303890</td>\n",
       "      <td>0.31156</td>\n",
       "      <td>2.4173</td>\n",
       "      <td>-9.3889</td>\n",
       "      <td>0.71098</td>\n",
       "      <td>0.085343</td>\n",
       "      <td>-0.83865</td>\n",
       "      <td>-0.68369</td>\n",
       "      <td>-0.374390</td>\n",
       "      <td>...</td>\n",
       "      <td>-4.1459</td>\n",
       "      <td>0.407290</td>\n",
       "      <td>-0.456860</td>\n",
       "      <td>-1.00820</td>\n",
       "      <td>0.025862</td>\n",
       "      <td>-0.53684</td>\n",
       "      <td>0.175900</td>\n",
       "      <td>-1.095500</td>\n",
       "      <td>0</td>\n",
       "      <td>subject1</td>\n",
       "    </tr>\n",
       "    <tr>\n",
       "      <th>...</th>\n",
       "      <td>...</td>\n",
       "      <td>...</td>\n",
       "      <td>...</td>\n",
       "      <td>...</td>\n",
       "      <td>...</td>\n",
       "      <td>...</td>\n",
       "      <td>...</td>\n",
       "      <td>...</td>\n",
       "      <td>...</td>\n",
       "      <td>...</td>\n",
       "      <td>...</td>\n",
       "      <td>...</td>\n",
       "      <td>...</td>\n",
       "      <td>...</td>\n",
       "      <td>...</td>\n",
       "      <td>...</td>\n",
       "      <td>...</td>\n",
       "      <td>...</td>\n",
       "      <td>...</td>\n",
       "      <td>...</td>\n",
       "      <td>...</td>\n",
       "    </tr>\n",
       "    <tr>\n",
       "      <th>1215740</th>\n",
       "      <td>-9.2476</td>\n",
       "      <td>-0.248070</td>\n",
       "      <td>-2.62230</td>\n",
       "      <td>1.7849</td>\n",
       "      <td>-9.8287</td>\n",
       "      <td>0.29725</td>\n",
       "      <td>-0.341370</td>\n",
       "      <td>-0.90056</td>\n",
       "      <td>-0.61493</td>\n",
       "      <td>-0.687640</td>\n",
       "      <td>...</td>\n",
       "      <td>-8.9071</td>\n",
       "      <td>0.294230</td>\n",
       "      <td>0.041176</td>\n",
       "      <td>-0.99384</td>\n",
       "      <td>-0.480600</td>\n",
       "      <td>2.40890</td>\n",
       "      <td>7.496100</td>\n",
       "      <td>7.915500</td>\n",
       "      <td>0</td>\n",
       "      <td>subject10</td>\n",
       "    </tr>\n",
       "    <tr>\n",
       "      <th>1215741</th>\n",
       "      <td>-9.4632</td>\n",
       "      <td>-0.073513</td>\n",
       "      <td>-2.11190</td>\n",
       "      <td>1.8687</td>\n",
       "      <td>-9.8766</td>\n",
       "      <td>0.46236</td>\n",
       "      <td>-0.341370</td>\n",
       "      <td>-0.90056</td>\n",
       "      <td>-0.61493</td>\n",
       "      <td>-0.868190</td>\n",
       "      <td>...</td>\n",
       "      <td>-8.7455</td>\n",
       "      <td>0.448140</td>\n",
       "      <td>0.041176</td>\n",
       "      <td>-0.99384</td>\n",
       "      <td>-0.480600</td>\n",
       "      <td>1.69450</td>\n",
       "      <td>7.866000</td>\n",
       "      <td>7.897500</td>\n",
       "      <td>0</td>\n",
       "      <td>subject10</td>\n",
       "    </tr>\n",
       "    <tr>\n",
       "      <th>1215742</th>\n",
       "      <td>-9.4011</td>\n",
       "      <td>-0.144580</td>\n",
       "      <td>-3.02350</td>\n",
       "      <td>1.6928</td>\n",
       "      <td>-9.9290</td>\n",
       "      <td>0.16631</td>\n",
       "      <td>-0.341370</td>\n",
       "      <td>-0.90056</td>\n",
       "      <td>-0.61493</td>\n",
       "      <td>-0.868410</td>\n",
       "      <td>...</td>\n",
       "      <td>-9.1155</td>\n",
       "      <td>0.450480</td>\n",
       "      <td>0.041176</td>\n",
       "      <td>-0.99384</td>\n",
       "      <td>-0.480600</td>\n",
       "      <td>1.15770</td>\n",
       "      <td>8.052800</td>\n",
       "      <td>7.884900</td>\n",
       "      <td>0</td>\n",
       "      <td>subject10</td>\n",
       "    </tr>\n",
       "    <tr>\n",
       "      <th>1215743</th>\n",
       "      <td>-9.3732</td>\n",
       "      <td>-0.026252</td>\n",
       "      <td>-2.70760</td>\n",
       "      <td>1.5279</td>\n",
       "      <td>-9.6306</td>\n",
       "      <td>0.30458</td>\n",
       "      <td>-0.341370</td>\n",
       "      <td>-0.90056</td>\n",
       "      <td>-0.61493</td>\n",
       "      <td>-0.339790</td>\n",
       "      <td>...</td>\n",
       "      <td>-9.1441</td>\n",
       "      <td>0.594880</td>\n",
       "      <td>0.041176</td>\n",
       "      <td>-0.99384</td>\n",
       "      <td>-0.480600</td>\n",
       "      <td>0.27441</td>\n",
       "      <td>9.487900</td>\n",
       "      <td>5.325800</td>\n",
       "      <td>0</td>\n",
       "      <td>subject10</td>\n",
       "    </tr>\n",
       "    <tr>\n",
       "      <th>1215744</th>\n",
       "      <td>-9.3518</td>\n",
       "      <td>-0.592450</td>\n",
       "      <td>-2.63230</td>\n",
       "      <td>1.6614</td>\n",
       "      <td>-9.8398</td>\n",
       "      <td>0.18088</td>\n",
       "      <td>-0.332100</td>\n",
       "      <td>-0.90432</td>\n",
       "      <td>-0.61886</td>\n",
       "      <td>-0.159230</td>\n",
       "      <td>...</td>\n",
       "      <td>-8.9324</td>\n",
       "      <td>0.761710</td>\n",
       "      <td>0.035294</td>\n",
       "      <td>-1.02050</td>\n",
       "      <td>-0.471980</td>\n",
       "      <td>-0.98056</td>\n",
       "      <td>9.663600</td>\n",
       "      <td>3.493900</td>\n",
       "      <td>0</td>\n",
       "      <td>subject10</td>\n",
       "    </tr>\n",
       "  </tbody>\n",
       "</table>\n",
       "<p>1215745 rows × 23 columns</p>\n",
       "</div>"
      ],
      "text/plain": [
       "         acc_ch_x  acc_ch_y  acc_ch_z  acc_la_x  acc_la_y  acc_la_z  gyr_la_x  \\\n",
       "0         -9.8184  0.009971   0.29563    2.1849   -9.6967   0.63077  0.103900   \n",
       "1         -9.8489  0.524040   0.37348    2.3876   -9.5080   0.68389  0.085343   \n",
       "2         -9.6602  0.181850   0.43742    2.4086   -9.5674   0.68113  0.085343   \n",
       "3         -9.6507  0.214220   0.24033    2.1814   -9.4301   0.55031  0.085343   \n",
       "4         -9.7030  0.303890   0.31156    2.4173   -9.3889   0.71098  0.085343   \n",
       "...           ...       ...       ...       ...       ...       ...       ...   \n",
       "1215740   -9.2476 -0.248070  -2.62230    1.7849   -9.8287   0.29725 -0.341370   \n",
       "1215741   -9.4632 -0.073513  -2.11190    1.8687   -9.8766   0.46236 -0.341370   \n",
       "1215742   -9.4011 -0.144580  -3.02350    1.6928   -9.9290   0.16631 -0.341370   \n",
       "1215743   -9.3732 -0.026252  -2.70760    1.5279   -9.6306   0.30458 -0.341370   \n",
       "1215744   -9.3518 -0.592450  -2.63230    1.6614   -9.8398   0.18088 -0.332100   \n",
       "\n",
       "         gyr_la_y  gyr_la_z  mag_la_x  ...  acc_rw_y  acc_rw_z  gyr_rw_x  \\\n",
       "0        -0.84053  -0.68762 -0.370000  ...   -4.5781  0.187760 -0.449020   \n",
       "1        -0.83865  -0.68369 -0.197990  ...   -4.3198  0.023595 -0.449020   \n",
       "2        -0.83865  -0.68369 -0.374170  ...   -4.2772  0.275720 -0.449020   \n",
       "3        -0.83865  -0.68369 -0.017271  ...   -4.3163  0.367520 -0.456860   \n",
       "4        -0.83865  -0.68369 -0.374390  ...   -4.1459  0.407290 -0.456860   \n",
       "...           ...       ...       ...  ...       ...       ...       ...   \n",
       "1215740  -0.90056  -0.61493 -0.687640  ...   -8.9071  0.294230  0.041176   \n",
       "1215741  -0.90056  -0.61493 -0.868190  ...   -8.7455  0.448140  0.041176   \n",
       "1215742  -0.90056  -0.61493 -0.868410  ...   -9.1155  0.450480  0.041176   \n",
       "1215743  -0.90056  -0.61493 -0.339790  ...   -9.1441  0.594880  0.041176   \n",
       "1215744  -0.90432  -0.61886 -0.159230  ...   -8.9324  0.761710  0.035294   \n",
       "\n",
       "         gyr_rw_y  gyr_rw_z  mag_rw_x  mag_rw_y  mag_rw_z  activity    subject  \n",
       "0        -1.01030  0.034483  -2.35000 -1.610200 -0.030899         0   subject1  \n",
       "1        -1.01030  0.034483  -2.16320 -0.882540  0.326570         0   subject1  \n",
       "2        -1.01030  0.034483  -1.61750 -0.165620 -0.030693         0   subject1  \n",
       "3        -1.00820  0.025862  -1.07710  0.006945 -0.382620         0   subject1  \n",
       "4        -1.00820  0.025862  -0.53684  0.175900 -1.095500         0   subject1  \n",
       "...           ...       ...       ...       ...       ...       ...        ...  \n",
       "1215740  -0.99384 -0.480600   2.40890  7.496100  7.915500         0  subject10  \n",
       "1215741  -0.99384 -0.480600   1.69450  7.866000  7.897500         0  subject10  \n",
       "1215742  -0.99384 -0.480600   1.15770  8.052800  7.884900         0  subject10  \n",
       "1215743  -0.99384 -0.480600   0.27441  9.487900  5.325800         0  subject10  \n",
       "1215744  -1.02050 -0.471980  -0.98056  9.663600  3.493900         0  subject10  \n",
       "\n",
       "[1215745 rows x 23 columns]"
      ]
     },
     "execution_count": 4,
     "metadata": {},
     "output_type": "execute_result"
    }
   ],
   "source": [
    "#reading data\n",
    "df = pd.read_csv('D:/HAR/mhealth/mhealth_full.csv')\n",
    "df"
   ]
  },
  {
   "cell_type": "code",
   "execution_count": 5,
   "metadata": {
    "colab": {
     "base_uri": "https://localhost:8080/"
    },
    "executionInfo": {
     "elapsed": 10,
     "status": "ok",
     "timestamp": 1695434464092,
     "user": {
      "displayName": "이명규/컴퓨터공학부(컴퓨터공학전공)",
      "userId": "09675343185158048118"
     },
     "user_tz": -540
    },
    "id": "FLARZEzb22X_",
    "outputId": "ee7e3818-4dca-406d-fb35-b99dc438f211"
   },
   "outputs": [
    {
     "data": {
      "text/plain": [
       "Index(['acc_ch_x', 'acc_ch_y', 'acc_ch_z', 'acc_la_x', 'acc_la_y', 'acc_la_z',\n",
       "       'gyr_la_x', 'gyr_la_y', 'gyr_la_z', 'mag_la_x', 'mag_la_y', 'mag_la_z',\n",
       "       'acc_rw_x', 'acc_rw_y', 'acc_rw_z', 'gyr_rw_x', 'gyr_rw_y', 'gyr_rw_z',\n",
       "       'mag_rw_x', 'mag_rw_y', 'mag_rw_z', 'activity', 'subject'],\n",
       "      dtype='object')"
      ]
     },
     "execution_count": 5,
     "metadata": {},
     "output_type": "execute_result"
    }
   ],
   "source": [
    "df.columns"
   ]
  },
  {
   "cell_type": "markdown",
   "metadata": {},
   "source": [
    "    0: 'Null',\n",
    "    1: 'Standing still',\n",
    "    2: 'Sitting and relaxing',\n",
    "    3: 'Lying down',\n",
    "    4: 'Walking',\n",
    "    5: 'Climbing stairs',\n",
    "    6: 'Waist bends forward',\n",
    "    7: 'Frontal elevation of arms',\n",
    "    8: 'Knees bending (crouching)',\n",
    "    9: 'Cycling',\n",
    "    10: 'Jogging',\n",
    "    11: 'Running',\n",
    "    12: 'Jump front & back'"
   ]
  },
  {
   "cell_type": "code",
   "execution_count": 6,
   "metadata": {},
   "outputs": [],
   "source": [
    "df_activity_1 = df[df['activity'] == 1]\n",
    "df_activity_2 = df[df['activity'] == 2]\n",
    "df_activity_3 = df[df['activity'] == 3]\n",
    "df_activity_4 = df[df['activity'] == 4]\n",
    "df_activity_5 = df[df['activity'] == 5]\n",
    "df_activity_6 = df[df['activity'] == 6]\n",
    "df_activity_7 = df[df['activity'] == 7]\n",
    "df_activity_8 = df[df['activity'] == 8]\n",
    "df_activity_9 = df[df['activity'] == 9]\n",
    "df_activity_10 = df[df['activity'] == 10]\n",
    "df_activity_11 = df[df['activity'] == 11]\n",
    "df_activity_12 = df[df['activity'] == 12]"
   ]
  },
  {
   "cell_type": "code",
   "execution_count": 7,
   "metadata": {
    "executionInfo": {
     "elapsed": 617,
     "status": "ok",
     "timestamp": 1695434472281,
     "user": {
      "displayName": "이명규/컴퓨터공학부(컴퓨터공학전공)",
      "userId": "09675343185158048118"
     },
     "user_tz": -540
    },
    "id": "mpD_o6eU1fbE"
   },
   "outputs": [],
   "source": [
    "df = pd.concat([df_activity_1, df_activity_2, df_activity_3,            \n",
    "                df_activity_4, df_activity_5, df_activity_6, df_activity_7,\n",
    "                df_activity_8, df_activity_9, df_activity_10, df_activity_11,df_activity_12])"
   ]
  },
  {
   "cell_type": "code",
   "execution_count": 8,
   "metadata": {
    "colab": {
     "base_uri": "https://localhost:8080/"
    },
    "executionInfo": {
     "elapsed": 41,
     "status": "ok",
     "timestamp": 1695434472699,
     "user": {
      "displayName": "이명규/컴퓨터공학부(컴퓨터공학전공)",
      "userId": "09675343185158048118"
     },
     "user_tz": -540
    },
    "id": "UDI86GNYyjBf",
    "outputId": "8ad8523a-919c-46cb-92f2-5fce5f68ef80"
   },
   "outputs": [
    {
     "data": {
      "text/plain": [
       "1     30720\n",
       "2     30720\n",
       "3     30720\n",
       "4     30720\n",
       "5     30720\n",
       "9     30720\n",
       "10    30720\n",
       "11    30720\n",
       "7     29441\n",
       "8     29337\n",
       "6     28315\n",
       "12    10342\n",
       "Name: activity, dtype: int64"
      ]
     },
     "execution_count": 8,
     "metadata": {},
     "output_type": "execute_result"
    }
   ],
   "source": [
    "df.activity.value_counts()"
   ]
  },
  {
   "cell_type": "code",
   "execution_count": 9,
   "metadata": {},
   "outputs": [],
   "source": [
    "from sklearn.preprocessing import LabelEncoder\n",
    "\n",
    "le=LabelEncoder()\n",
    "df['activity']=le.fit_transform(df['activity'])"
   ]
  },
  {
   "cell_type": "code",
   "execution_count": 10,
   "metadata": {},
   "outputs": [
    {
     "data": {
      "text/plain": [
       "0     30720\n",
       "1     30720\n",
       "2     30720\n",
       "3     30720\n",
       "4     30720\n",
       "8     30720\n",
       "9     30720\n",
       "10    30720\n",
       "6     29441\n",
       "7     29337\n",
       "5     28315\n",
       "11    10342\n",
       "Name: activity, dtype: int64"
      ]
     },
     "execution_count": 10,
     "metadata": {},
     "output_type": "execute_result"
    }
   ],
   "source": [
    "df.activity.value_counts()"
   ]
  },
  {
   "cell_type": "code",
   "execution_count": 11,
   "metadata": {
    "executionInfo": {
     "elapsed": 37,
     "status": "ok",
     "timestamp": 1695434472702,
     "user": {
      "displayName": "이명규/컴퓨터공학부(컴퓨터공학전공)",
      "userId": "09675343185158048118"
     },
     "user_tz": -540
    },
    "id": "zLT6FRdn2R_f"
   },
   "outputs": [],
   "source": [
    "X = df.drop(['activity', 'subject'], axis=1)\n",
    "y = df['activity']"
   ]
  },
  {
   "cell_type": "code",
   "execution_count": 12,
   "metadata": {
    "colab": {
     "base_uri": "https://localhost:8080/"
    },
    "executionInfo": {
     "elapsed": 40,
     "status": "ok",
     "timestamp": 1695434472706,
     "user": {
      "displayName": "이명규/컴퓨터공학부(컴퓨터공학전공)",
      "userId": "09675343185158048118"
     },
     "user_tz": -540
    },
    "id": "nteH9sKW2vKf",
    "outputId": "f1d8b13b-edb1-4b4f-f4ff-5d0bff5c7c4d"
   },
   "outputs": [
    {
     "data": {
      "text/plain": [
       "Index(['acc_ch_x', 'acc_ch_y', 'acc_ch_z', 'acc_la_x', 'acc_la_y', 'acc_la_z',\n",
       "       'gyr_la_x', 'gyr_la_y', 'gyr_la_z', 'mag_la_x', 'mag_la_y', 'mag_la_z',\n",
       "       'acc_rw_x', 'acc_rw_y', 'acc_rw_z', 'gyr_rw_x', 'gyr_rw_y', 'gyr_rw_z',\n",
       "       'mag_rw_x', 'mag_rw_y', 'mag_rw_z'],\n",
       "      dtype='object')"
      ]
     },
     "execution_count": 12,
     "metadata": {},
     "output_type": "execute_result"
    }
   ],
   "source": [
    "X.columns"
   ]
  },
  {
   "cell_type": "code",
   "execution_count": 13,
   "metadata": {
    "executionInfo": {
     "elapsed": 30,
     "status": "ok",
     "timestamp": 1695434472707,
     "user": {
      "displayName": "이명규/컴퓨터공학부(컴퓨터공학전공)",
      "userId": "09675343185158048118"
     },
     "user_tz": -540
    },
    "id": "szzubbME4qDB"
   },
   "outputs": [],
   "source": [
    "# Scale full set of predictors\n",
    "X_scaled = StandardScaler().fit_transform(X)"
   ]
  },
  {
   "cell_type": "code",
   "execution_count": 14,
   "metadata": {
    "executionInfo": {
     "elapsed": 28,
     "status": "ok",
     "timestamp": 1695434472708,
     "user": {
      "displayName": "이명규/컴퓨터공학부(컴퓨터공학전공)",
      "userId": "09675343185158048118"
     },
     "user_tz": -540
    },
    "id": "YbRJm5sT4qGs"
   },
   "outputs": [],
   "source": [
    "# Create train and test sets\n",
    "X_train, X_test, y_train, y_test = train_test_split(X_scaled, y, test_size=0.25, random_state=1)"
   ]
  },
  {
   "cell_type": "code",
   "execution_count": 15,
   "metadata": {},
   "outputs": [
    {
     "data": {
      "text/plain": [
       "((257396, 21), (85799, 21), (257396,), (85799,))"
      ]
     },
     "execution_count": 15,
     "metadata": {},
     "output_type": "execute_result"
    }
   ],
   "source": [
    "X_train.shape, X_test.shape, y_train.shape, y_test.shape "
   ]
  },
  {
   "cell_type": "code",
   "execution_count": 16,
   "metadata": {
    "executionInfo": {
     "elapsed": 517,
     "status": "ok",
     "timestamp": 1695434473200,
     "user": {
      "displayName": "이명규/컴퓨터공학부(컴퓨터공학전공)",
      "userId": "09675343185158048118"
     },
     "user_tz": -540
    },
    "id": "vD2bLPoh4qKS"
   },
   "outputs": [],
   "source": [
    "# Scale train/ test predictors based on training data\n",
    "scaler = StandardScaler().fit(X_train)\n",
    "X_train_scaled = scaler.transform(X_train)\n",
    "X_test_scaled = scaler.transform(X_test)"
   ]
  },
  {
   "cell_type": "code",
   "execution_count": 17,
   "metadata": {
    "executionInfo": {
     "elapsed": 20,
     "status": "ok",
     "timestamp": 1695434473204,
     "user": {
      "displayName": "이명규/컴퓨터공학부(컴퓨터공학전공)",
      "userId": "09675343185158048118"
     },
     "user_tz": -540
    },
    "id": "J5YW5-sN4qQ5"
   },
   "outputs": [],
   "source": [
    "# Reformat the training data into sequence samples\n",
    "# Source: https://machinelearningmastery.com/how-to-develop-convolutional-neural-network-models-for-time-series-forecasting/\n",
    "\n",
    "def split_sequences(sequences, n_steps):\n",
    "\tX, y = list(), list()\n",
    "\tfor i in range(len(sequences)):\n",
    "\t\t# find the end of this pattern\n",
    "\t\tend_ix = i + n_steps\n",
    "\t\t# check if we are beyond the dataset\n",
    "\t\tif end_ix > len(sequences):\n",
    "\t\t\tbreak\n",
    "\t\t# gather input and output parts of the pattern\n",
    "\t\tseq_x, seq_y = sequences[i:end_ix, :-1], sequences[end_ix-1, -1]\n",
    "\t\tX.append(seq_x)\n",
    "\t\ty.append(seq_y)\n",
    "\treturn array(X), array(y)"
   ]
  },
  {
   "cell_type": "code",
   "execution_count": 18,
   "metadata": {
    "executionInfo": {
     "elapsed": 20,
     "status": "ok",
     "timestamp": 1695434473206,
     "user": {
      "displayName": "이명규/컴퓨터공학부(컴퓨터공학전공)",
      "userId": "09675343185158048118"
     },
     "user_tz": -540
    },
    "id": "8MlUte8K5Ci6"
   },
   "outputs": [],
   "source": [
    "# Merge train and test X/y data to apply sequence transformation function\n",
    "y_train_array = np.array(y_train)\n",
    "train_set = np.c_[X_train_scaled, y_train_array]\n",
    "\n",
    "y_test_array = np.array(y_test)\n",
    "test_set = np.c_[X_test_scaled, y_test_array]"
   ]
  },
  {
   "cell_type": "code",
   "execution_count": 19,
   "metadata": {
    "colab": {
     "base_uri": "https://localhost:8080/"
    },
    "executionInfo": {
     "elapsed": 918,
     "status": "ok",
     "timestamp": 1695434474106,
     "user": {
      "displayName": "이명규/컴퓨터공학부(컴퓨터공학전공)",
      "userId": "09675343185158048118"
     },
     "user_tz": -540
    },
    "id": "z7FxLarO5CmV",
    "outputId": "bfb58351-1db6-4e1b-cfb6-81966d9c7203"
   },
   "outputs": [
    {
     "name": "stdout",
     "output_type": "stream",
     "text": [
      "(257372, 25, 21) (257372,)\n",
      "(85775, 25, 21) (85775,)\n"
     ]
    }
   ],
   "source": [
    "# Apply sequence transformation using time step of 25 for both train and test data\n",
    "# All sensing modalities are recorded at a sampling rate of 50 Hz, which is considered sufficient for capturing human activity. \n",
    "\n",
    "X_train_seq, y_train_seq = split_sequences(train_set, 25)\n",
    "print(X_train_seq.shape, y_train_seq.shape)\n",
    "\n",
    "X_test_seq, y_test_seq = split_sequences(test_set, 25)\n",
    "print(X_test_seq.shape, y_test_seq.shape)"
   ]
  },
  {
   "cell_type": "code",
   "execution_count": 20,
   "metadata": {
    "colab": {
     "base_uri": "https://localhost:8080/"
    },
    "executionInfo": {
     "elapsed": 17,
     "status": "ok",
     "timestamp": 1695434474106,
     "user": {
      "displayName": "이명규/컴퓨터공학부(컴퓨터공학전공)",
      "userId": "09675343185158048118"
     },
     "user_tz": -540
    },
    "id": "K8fP1PNn5CtA",
    "outputId": "fbaf9a03-7a2b-44f5-fada-665d6e43b034"
   },
   "outputs": [
    {
     "name": "stdout",
     "output_type": "stream",
     "text": [
      "(257372, 12)\n",
      "(85775, 12)\n"
     ]
    }
   ],
   "source": [
    "# Convert output variables to categorical for CNN\n",
    "y_train_seq = to_categorical(y_train_seq)\n",
    "print(y_train_seq.shape)\n",
    "\n",
    "y_test_seq = to_categorical(y_test_seq)\n",
    "print(y_test_seq.shape)\n"
   ]
  },
  {
   "cell_type": "code",
   "execution_count": 21,
   "metadata": {
    "colab": {
     "base_uri": "https://localhost:8080/"
    },
    "executionInfo": {
     "elapsed": 11,
     "status": "ok",
     "timestamp": 1695434474107,
     "user": {
      "displayName": "이명규/컴퓨터공학부(컴퓨터공학전공)",
      "userId": "09675343185158048118"
     },
     "user_tz": -540
    },
    "id": "tC4BZxcS5Cv-",
    "outputId": "ee53d7ac-edf4-40e7-fa8c-ddae2d9334df"
   },
   "outputs": [
    {
     "name": "stdout",
     "output_type": "stream",
     "text": [
      "25 21 12\n"
     ]
    }
   ],
   "source": [
    "# Produce variables for CNN input/output shape\n",
    "n_timesteps, n_features, n_outputs = X_train_seq.shape[1], X_train_seq.shape[2], y_train_seq.shape[1]\n",
    "print(n_timesteps, n_features, n_outputs)"
   ]
  },
  {
   "cell_type": "code",
   "execution_count": 22,
   "metadata": {
    "executionInfo": {
     "elapsed": 2678,
     "status": "ok",
     "timestamp": 1695434477805,
     "user": {
      "displayName": "이명규/컴퓨터공학부(컴퓨터공학전공)",
      "userId": "09675343185158048118"
     },
     "user_tz": -540
    },
    "id": "TmiBphTk5CzK"
   },
   "outputs": [],
   "source": [
    "# Build CNN model using keras. For model building suggestions, referenced:\n",
    "# https://machinelearningmastery.com/deep-learning-models-for-human-activity-recognition/\n",
    "# https://machinelearningmastery.com/how-to-choose-loss-functions-when-training-deep-learning-neural-networks/\n",
    "# https://machinelearningmastery.com/how-to-develop-convolutional-neural-network-models-for-time-series-forecasting/\n",
    "\n",
    "# Sequential model type\n",
    "model = Sequential()\n",
    "model.add(LSTM(units=128, input_shape = (n_timesteps,n_features)))\n",
    "model.add(Dropout(0.5))\n",
    "model.add(Dense(128, activation='relu'))\n",
    "model.add(Dense(n_outputs, activation='softmax'))\n",
    "model.compile(optimizer='adam', metrics=['accuracy'], loss='categorical_crossentropy')"
   ]
  },
  {
   "cell_type": "code",
   "execution_count": 23,
   "metadata": {},
   "outputs": [
    {
     "name": "stdout",
     "output_type": "stream",
     "text": [
      "Model: \"sequential\"\n",
      "_________________________________________________________________\n",
      " Layer (type)                Output Shape              Param #   \n",
      "=================================================================\n",
      " lstm (LSTM)                 (None, 128)               76800     \n",
      "                                                                 \n",
      " dropout (Dropout)           (None, 128)               0         \n",
      "                                                                 \n",
      " dense (Dense)               (None, 128)               16512     \n",
      "                                                                 \n",
      " dense_1 (Dense)             (None, 12)                1548      \n",
      "                                                                 \n",
      "=================================================================\n",
      "Total params: 94,860\n",
      "Trainable params: 94,860\n",
      "Non-trainable params: 0\n",
      "_________________________________________________________________\n"
     ]
    }
   ],
   "source": [
    "model.summary()"
   ]
  },
  {
   "cell_type": "code",
   "execution_count": 24,
   "metadata": {
    "colab": {
     "base_uri": "https://localhost:8080/"
    },
    "executionInfo": {
     "elapsed": 386289,
     "status": "ok",
     "timestamp": 1695434864076,
     "user": {
      "displayName": "이명규/컴퓨터공학부(컴퓨터공학전공)",
      "userId": "09675343185158048118"
     },
     "user_tz": -540
    },
    "id": "GsT9DYkB5C10",
    "outputId": "312c9fa4-35f1-4ae2-b212-917a969c6e5b"
   },
   "outputs": [
    {
     "name": "stdout",
     "output_type": "stream",
     "text": [
      "Epoch 1/10\n",
      "8043/8043 [==============================] - 151s 18ms/step - loss: 0.4240 - accuracy: 0.8512\n",
      "Epoch 2/10\n",
      "8043/8043 [==============================] - 137s 17ms/step - loss: 0.1763 - accuracy: 0.9352\n",
      "Epoch 3/10\n",
      "8043/8043 [==============================] - 136s 17ms/step - loss: 0.1319 - accuracy: 0.9519\n",
      "Epoch 4/10\n",
      "8043/8043 [==============================] - 138s 17ms/step - loss: 0.1115 - accuracy: 0.9595\n",
      "Epoch 5/10\n",
      "8043/8043 [==============================] - 139s 17ms/step - loss: 0.0959 - accuracy: 0.9647\n",
      "Epoch 6/10\n",
      "8043/8043 [==============================] - 139s 17ms/step - loss: 0.0871 - accuracy: 0.9684\n",
      "Epoch 7/10\n",
      "8043/8043 [==============================] - 139s 17ms/step - loss: 0.0806 - accuracy: 0.9708\n",
      "Epoch 8/10\n",
      "8043/8043 [==============================] - 139s 17ms/step - loss: 0.0746 - accuracy: 0.9728\n",
      "Epoch 9/10\n",
      "8043/8043 [==============================] - 141s 18ms/step - loss: 0.0711 - accuracy: 0.9740\n",
      "Epoch 10/10\n",
      "8043/8043 [==============================] - 143s 18ms/step - loss: 0.0684 - accuracy: 0.9755\n"
     ]
    },
    {
     "data": {
      "text/plain": [
       "<keras.callbacks.History at 0x178b143cac0>"
      ]
     },
     "execution_count": 24,
     "metadata": {},
     "output_type": "execute_result"
    }
   ],
   "source": [
    "# Fit model on training data with 10 epochs\n",
    "model.fit(X_train_seq, y_train_seq, epochs=10)"
   ]
  },
  {
   "cell_type": "code",
   "execution_count": 25,
   "metadata": {
    "colab": {
     "base_uri": "https://localhost:8080/"
    },
    "executionInfo": {
     "elapsed": 10770,
     "status": "ok",
     "timestamp": 1695434874818,
     "user": {
      "displayName": "이명규/컴퓨터공학부(컴퓨터공학전공)",
      "userId": "09675343185158048118"
     },
     "user_tz": -540
    },
    "id": "LYDB1NRG4qT0",
    "outputId": "892498a0-5a8c-4c96-bdca-1b66d39db676"
   },
   "outputs": [
    {
     "name": "stdout",
     "output_type": "stream",
     "text": [
      "2681/2681 [==============================] - 29s 10ms/step - loss: 0.0315 - accuracy: 0.9887\n",
      "0.9886680245399475\n"
     ]
    }
   ],
   "source": [
    "# Evaluate model against test data\n",
    "_, accuracy = model.evaluate(X_test_seq, y_test_seq)\n",
    "print(accuracy)"
   ]
  },
  {
   "cell_type": "code",
   "execution_count": 28,
   "metadata": {
    "executionInfo": {
     "elapsed": 20,
     "status": "ok",
     "timestamp": 1695434473202,
     "user": {
      "displayName": "이명규/컴퓨터공학부(컴퓨터공학전공)",
      "userId": "09675343185158048118"
     },
     "user_tz": -540
    },
    "id": "Mf1BzjP24qON"
   },
   "outputs": [],
   "source": [
    "# Results summarizer function (scores, confusion matrix) for classification results\n",
    "def results_summarizer(y_true, y_pred):\n",
    "    cm = confusion_matrix(y_true, y_pred)\n",
    "    acc = accuracy_score(y_true, y_pred)\n",
    "    prec = precision_score(y_true, y_pred, average='macro')\n",
    "    rec = recall_score(y_true, y_pred, average='macro')\n",
    "    f1 = f1_score(y_true, y_pred, average='macro')\n",
    "\n",
    "    activity_map = {        \n",
    "        0: 'Standing still',\n",
    "        1: 'Sitting and relaxing',\n",
    "        2: 'Lying down',\n",
    "        3: 'Walking',\n",
    "        4: 'Climbing stairs',\n",
    "        5: 'Waist bends forward',\n",
    "        6: 'Frontal elevation of arms',\n",
    "        7: 'Knees bending (crouching)',\n",
    "        8: 'Cycling',\n",
    "        9: 'Jogging',\n",
    "        10: 'Running',\n",
    "        11: 'Jump front & back'\n",
    "    }\n",
    "    plt.figure(figsize=(14, 12))\n",
    "\n",
    "    sns.heatmap(cm,\n",
    "                annot=True,\n",
    "                cmap='Blues',\n",
    "                xticklabels=activity_map.values(),\n",
    "                yticklabels=activity_map.values()\n",
    "               )\n",
    "\n",
    "    plt.title('Confusion Matrix')\n",
    "    plt.xlabel('Predicted Activity')\n",
    "    plt.ylabel('Actual Activity')\n",
    "    plt.show()\n",
    "\n",
    "    print(f'Accuracy Score: ' + '{:.4%}'.format(acc))\n",
    "    print(f'Precision Score: ' + '{:.4%}'.format(prec))\n",
    "    print(f'Recall Score: ' + '{:.4%}'.format(rec))\n",
    "    print(f'F_1 Score: ' + '{:.4%}'.format(f1))"
   ]
  },
  {
   "cell_type": "code",
   "execution_count": 32,
   "metadata": {
    "colab": {
     "base_uri": "https://localhost:8080/",
     "height": 1000
    },
    "executionInfo": {
     "elapsed": 1344,
     "status": "ok",
     "timestamp": 1695434887110,
     "user": {
      "displayName": "이명규/컴퓨터공학부(컴퓨터공학전공)",
      "userId": "09675343185158048118"
     },
     "user_tz": -540
    },
    "id": "yETNR8kR7L-U",
    "outputId": "78086071-b613-4a6c-fa76-a6dc9fc3b3c4"
   },
   "outputs": [
    {
     "data": {
      "image/png": "[encoded data removed]",
      "text/plain": [
       "<Figure size 1008x864 with 2 Axes>"
      ]
     },
     "metadata": {
      "needs_background": "light"
     },
     "output_type": "display_data"
    },
    {
     "name": "stdout",
     "output_type": "stream",
     "text": [
      "Accuracy Score: 98.8668%\n",
      "Precision Score: 98.8882%\n",
      "Recall Score: 98.6573%\n",
      "F_1 Score: 98.7639%\n"
     ]
    }
   ],
   "source": [
    "# Show results\n",
    "# Note: Needed slice test data to 25 and onwards to match predictions due to time step in model\n",
    "\n",
    "results_summarizer(y_test[24:], y_pred)"
   ]
  },
  {
   "cell_type": "code",
   "execution_count": 33,
   "metadata": {},
   "outputs": [
    {
     "name": "stdout",
     "output_type": "stream",
     "text": [
      "              precision    recall  f1-score   support\n",
      "\n",
      "           0       1.00      1.00      1.00      7753\n",
      "           1       1.00      1.00      1.00      7696\n",
      "           2       1.00      1.00      1.00      7674\n",
      "           3       0.99      1.00      1.00      7696\n",
      "           4       1.00      0.98      0.99      7599\n",
      "           5       0.99      0.99      0.99      7144\n",
      "           6       0.98      0.99      0.99      7453\n",
      "           7       0.99      0.99      0.99      7294\n",
      "           8       1.00      1.00      1.00      7694\n",
      "           9       0.95      0.99      0.97      7612\n",
      "          10       0.98      0.95      0.97      7636\n",
      "          11       0.99      0.95      0.97      2524\n",
      "\n",
      "    accuracy                           0.99     85775\n",
      "   macro avg       0.99      0.99      0.99     85775\n",
      "weighted avg       0.99      0.99      0.99     85775\n",
      "\n",
      "**************************************************\n",
      "[[7753    0    0    0    0    0    0    0    0    0    0    0]\n",
      " [   0 7696    0    0    0    0    0    0    0    0    0    0]\n",
      " [   0    0 7674    0    0    0    0    0    0    0    0    0]\n",
      " [   0    0    0 7687    6    0    0    2    0    0    1    0]\n",
      " [   0    7    0   54 7464   11    1   49    0    4    1    8]\n",
      " [   5    0    0    0    2 7050   75   11    1    0    0    0]\n",
      " [   2    0    0    0    0   32 7390   29    0    0    0    0]\n",
      " [   9    0    0    1    9   30   40 7201    1    0    0    3]\n",
      " [   0    0    0    0    0    1    0    7 7686    0    0    0]\n",
      " [   0    0    0    1    0    0    0    0    1 7509   96    5]\n",
      " [   0    1    0    0    1    0    3    0    0  335 7290    6]\n",
      " [   0    0    0    4    2    0    1    1    0   79   34 2403]]\n"
     ]
    }
   ],
   "source": [
    "from sklearn.metrics import confusion_matrix, classification_report\n",
    " \n",
    "print(classification_report(y_test[24:], y_pred))\n",
    "print('*'*50)\n",
    "print(confusion_matrix(y_test[24:], y_pred))"
   ]
  },
  {
   "cell_type": "code",
   "execution_count": null,
   "metadata": {},
   "outputs": [],
   "source": []
  }
 ],
 "metadata": {
  "accelerator": "GPU",
  "colab": {
   "authorship_tag": "ABX9TyNvkjBJr2dhIPXk/ymhvy1l",
   "gpuType": "T4",
   "mount_file_id": "19mRvAawDlr8w06SXGmBSaIWxcusCv-SA",
   "provenance": []
  },
  "kernelspec": {
   "display_name": "Python 3",
   "language": "python",
   "name": "python3"
  },
  "language_info": {
   "codemirror_mode": {
    "name": "ipython",
    "version": 3
   },
   "file_extension": ".py",
   "mimetype": "text/x-python",
   "name": "python",
   "nbconvert_exporter": "python",
   "pygments_lexer": "ipython3",
   "version": "3.8.8"
  }
 },
 "nbformat": 4,
 "nbformat_minor": 1
}
