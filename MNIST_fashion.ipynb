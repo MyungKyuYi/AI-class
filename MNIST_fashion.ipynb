{
  "nbformat": 4,
  "nbformat_minor": 0,
  "metadata": {
    "colab": {
      "provenance": [],
      "gpuType": "T4"
    },
    "kernelspec": {
      "name": "python3",
      "display_name": "Python 3"
    },
    "language_info": {
      "name": "python"
    },
    "accelerator": "GPU"
  },
  "cells": [
    {
      "cell_type": "code",
      "execution_count": 1,
      "metadata": {
        "colab": {
          "base_uri": "https://localhost:8080/"
        },
        "id": "b0YgqGydWVdq",
        "outputId": "1e8294db-0e98-43b0-81a2-0967678e437c"
      },
      "outputs": [
        {
          "output_type": "stream",
          "name": "stdout",
          "text": [
            "Downloading data from https://storage.googleapis.com/tensorflow/tf-keras-datasets/train-labels-idx1-ubyte.gz\n",
            "\u001b[1m29515/29515\u001b[0m \u001b[32m━━━━━━━━━━━━━━━━━━━━\u001b[0m\u001b[37m\u001b[0m \u001b[1m0s\u001b[0m 0us/step\n",
            "Downloading data from https://storage.googleapis.com/tensorflow/tf-keras-datasets/train-images-idx3-ubyte.gz\n",
            "\u001b[1m26421880/26421880\u001b[0m \u001b[32m━━━━━━━━━━━━━━━━━━━━\u001b[0m\u001b[37m\u001b[0m \u001b[1m0s\u001b[0m 0us/step\n",
            "Downloading data from https://storage.googleapis.com/tensorflow/tf-keras-datasets/t10k-labels-idx1-ubyte.gz\n",
            "\u001b[1m5148/5148\u001b[0m \u001b[32m━━━━━━━━━━━━━━━━━━━━\u001b[0m\u001b[37m\u001b[0m \u001b[1m0s\u001b[0m 0us/step\n",
            "Downloading data from https://storage.googleapis.com/tensorflow/tf-keras-datasets/t10k-images-idx3-ubyte.gz\n",
            "\u001b[1m4422102/4422102\u001b[0m \u001b[32m━━━━━━━━━━━━━━━━━━━━\u001b[0m\u001b[37m\u001b[0m \u001b[1m0s\u001b[0m 0us/step\n"
          ]
        },
        {
          "output_type": "stream",
          "name": "stderr",
          "text": [
            "/usr/local/lib/python3.12/dist-packages/keras/src/layers/reshaping/flatten.py:37: UserWarning: Do not pass an `input_shape`/`input_dim` argument to a layer. When using Sequential models, prefer using an `Input(shape)` object as the first layer in the model instead.\n",
            "  super().__init__(**kwargs)\n"
          ]
        },
        {
          "output_type": "stream",
          "name": "stdout",
          "text": [
            "Epoch 1/10\n",
            "422/422 - 4s - 10ms/step - accuracy: 0.7797 - loss: 0.6230 - val_accuracy: 0.8477 - val_loss: 0.4270\n",
            "Epoch 2/10\n",
            "422/422 - 3s - 7ms/step - accuracy: 0.8437 - loss: 0.4361 - val_accuracy: 0.8600 - val_loss: 0.3869\n",
            "Epoch 3/10\n",
            "422/422 - 3s - 8ms/step - accuracy: 0.8563 - loss: 0.3962 - val_accuracy: 0.8630 - val_loss: 0.3653\n",
            "Epoch 4/10\n",
            "422/422 - 5s - 11ms/step - accuracy: 0.8635 - loss: 0.3724 - val_accuracy: 0.8782 - val_loss: 0.3458\n",
            "Epoch 5/10\n",
            "422/422 - 3s - 7ms/step - accuracy: 0.8708 - loss: 0.3541 - val_accuracy: 0.8798 - val_loss: 0.3328\n",
            "Epoch 6/10\n",
            "422/422 - 3s - 7ms/step - accuracy: 0.8746 - loss: 0.3430 - val_accuracy: 0.8820 - val_loss: 0.3196\n",
            "Epoch 7/10\n",
            "422/422 - 3s - 7ms/step - accuracy: 0.8782 - loss: 0.3304 - val_accuracy: 0.8827 - val_loss: 0.3353\n",
            "Epoch 8/10\n",
            "422/422 - 4s - 9ms/step - accuracy: 0.8816 - loss: 0.3217 - val_accuracy: 0.8802 - val_loss: 0.3171\n",
            "Epoch 9/10\n",
            "422/422 - 3s - 7ms/step - accuracy: 0.8841 - loss: 0.3123 - val_accuracy: 0.8862 - val_loss: 0.3194\n",
            "Epoch 10/10\n",
            "422/422 - 3s - 7ms/step - accuracy: 0.8877 - loss: 0.3050 - val_accuracy: 0.8848 - val_loss: 0.3168\n",
            "313/313 - 1s - 2ms/step - accuracy: 0.8784 - loss: 0.3429\n",
            "DNN Test Accuracy: 0.8784\n"
          ]
        }
      ],
      "source": [
        "import tensorflow as tf\n",
        "from tensorflow.keras import layers, models\n",
        "\n",
        "# 데이터 로드\n",
        "fashion_mnist = tf.keras.datasets.fashion_mnist\n",
        "(x_train, y_train), (x_test, y_test) = fashion_mnist.load_data()\n",
        "\n",
        "# 정규화 (0~1)\n",
        "x_train = x_train / 255.0\n",
        "x_test = x_test / 255.0\n",
        "\n",
        "# DNN 모델 구성\n",
        "model_dnn = models.Sequential([\n",
        "    layers.Flatten(input_shape=(28, 28)),\n",
        "    layers.Dense(256, activation='relu'),\n",
        "    layers.Dropout(0.3),\n",
        "    layers.Dense(128, activation='relu'),\n",
        "    layers.Dropout(0.3),\n",
        "    layers.Dense(10, activation='softmax')\n",
        "])\n",
        "\n",
        "# 컴파일\n",
        "model_dnn.compile(optimizer='adam',\n",
        "                  loss='sparse_categorical_crossentropy',\n",
        "                  metrics=['accuracy'])\n",
        "\n",
        "# 학습\n",
        "history_dnn = model_dnn.fit(x_train, y_train, epochs=10,\n",
        "                            validation_split=0.1, batch_size=128, verbose=2)\n",
        "\n",
        "# 평가\n",
        "test_loss, test_acc = model_dnn.evaluate(x_test, y_test, verbose=2)\n",
        "print(f\"DNN Test Accuracy: {test_acc:.4f}\")\n"
      ]
    },
    {
      "cell_type": "code",
      "source": [
        "import tensorflow as tf\n",
        "import numpy as np\n",
        "from tensorflow.keras import layers, models\n",
        "\n",
        "# 1️⃣ 데이터 로드\n",
        "fashion_mnist = tf.keras.datasets.fashion_mnist\n",
        "(x_train, y_train), (x_test, y_test) = fashion_mnist.load_data()\n",
        "\n",
        "# 2️⃣ 정규화\n",
        "x_train = x_train / 255.0\n",
        "x_test = x_test / 255.0\n",
        "\n",
        "# 3️⃣ 채널 차원 추가 (np.expand_dims 이용)\n",
        "x_train = np.expand_dims(x_train, -1)\n",
        "x_test = np.expand_dims(x_test, -1)\n",
        "\n",
        "print(\"x_train shape:\", x_train.shape)  # (60000, 28, 28, 1)\n",
        "print(\"x_test shape:\", x_test.shape)    # (10000, 28, 28, 1)\n",
        "\n",
        "# 4️⃣ CNN 모델 구성\n",
        "model = models.Sequential([\n",
        "    layers.Conv2D(32, (3, 3), activation='relu', input_shape=(28, 28, 1)),\n",
        "    layers.MaxPooling2D((2, 2)),\n",
        "    layers.Conv2D(64, (3, 3), activation='relu'),\n",
        "    layers.MaxPooling2D((2, 2)),\n",
        "    layers.Conv2D(128, (3, 3), activation='relu'),\n",
        "    layers.Flatten(),\n",
        "    layers.Dropout(0.4),\n",
        "    layers.Dense(128, activation='relu'),\n",
        "    layers.Dense(10, activation='softmax')\n",
        "])\n",
        "\n",
        "# 5️⃣ 컴파일\n",
        "model.compile(optimizer='adam',\n",
        "              loss='sparse_categorical_crossentropy',\n",
        "              metrics=['accuracy'])\n",
        "\n",
        "# 6️⃣ 학습\n",
        "history = model.fit(\n",
        "    x_train, y_train,\n",
        "    epochs=10,\n",
        "    batch_size=128,\n",
        "    validation_split=0.1,\n",
        "    verbose=2\n",
        ")\n",
        "\n",
        "# 7️⃣ 평가\n",
        "test_loss, test_acc = model.evaluate(x_test, y_test, verbose=2)\n",
        "print(f\"\\n✅ Test Accuracy: {test_acc:.4f}\")\n",
        "\n",
        "# 8️⃣ 예측 예시\n",
        "predictions = model.predict(x_test[:5])\n",
        "print(\"예측 결과:\", np.argmax(predictions, axis=1))\n",
        "print(\"실제 레이블:\", y_test[:5])\n"
      ],
      "metadata": {
        "colab": {
          "base_uri": "https://localhost:8080/"
        },
        "id": "UV-2Y7WeWW56",
        "outputId": "ca96574e-8dca-42e1-bc38-1f410b2440f2"
      },
      "execution_count": 1,
      "outputs": [
        {
          "output_type": "stream",
          "name": "stdout",
          "text": [
            "Downloading data from https://storage.googleapis.com/tensorflow/tf-keras-datasets/train-labels-idx1-ubyte.gz\n",
            "\u001b[1m29515/29515\u001b[0m \u001b[32m━━━━━━━━━━━━━━━━━━━━\u001b[0m\u001b[37m\u001b[0m \u001b[1m0s\u001b[0m 0us/step\n",
            "Downloading data from https://storage.googleapis.com/tensorflow/tf-keras-datasets/train-images-idx3-ubyte.gz\n",
            "\u001b[1m26421880/26421880\u001b[0m \u001b[32m━━━━━━━━━━━━━━━━━━━━\u001b[0m\u001b[37m\u001b[0m \u001b[1m0s\u001b[0m 0us/step\n",
            "Downloading data from https://storage.googleapis.com/tensorflow/tf-keras-datasets/t10k-labels-idx1-ubyte.gz\n",
            "\u001b[1m5148/5148\u001b[0m \u001b[32m━━━━━━━━━━━━━━━━━━━━\u001b[0m\u001b[37m\u001b[0m \u001b[1m0s\u001b[0m 0us/step\n",
            "Downloading data from https://storage.googleapis.com/tensorflow/tf-keras-datasets/t10k-images-idx3-ubyte.gz\n",
            "\u001b[1m4422102/4422102\u001b[0m \u001b[32m━━━━━━━━━━━━━━━━━━━━\u001b[0m\u001b[37m\u001b[0m \u001b[1m0s\u001b[0m 0us/step\n",
            "x_train shape: (60000, 28, 28, 1)\n",
            "x_test shape: (10000, 28, 28, 1)\n"
          ]
        },
        {
          "output_type": "stream",
          "name": "stderr",
          "text": [
            "/usr/local/lib/python3.12/dist-packages/keras/src/layers/convolutional/base_conv.py:113: UserWarning: Do not pass an `input_shape`/`input_dim` argument to a layer. When using Sequential models, prefer using an `Input(shape)` object as the first layer in the model instead.\n",
            "  super().__init__(activity_regularizer=activity_regularizer, **kwargs)\n"
          ]
        },
        {
          "output_type": "stream",
          "name": "stdout",
          "text": [
            "Epoch 1/10\n",
            "422/422 - 10s - 24ms/step - accuracy: 0.7681 - loss: 0.6207 - val_accuracy: 0.8422 - val_loss: 0.4200\n",
            "Epoch 2/10\n",
            "422/422 - 2s - 5ms/step - accuracy: 0.8543 - loss: 0.3955 - val_accuracy: 0.8732 - val_loss: 0.3456\n",
            "Epoch 3/10\n",
            "422/422 - 2s - 4ms/step - accuracy: 0.8740 - loss: 0.3417 - val_accuracy: 0.8868 - val_loss: 0.2980\n",
            "Epoch 4/10\n",
            "422/422 - 2s - 4ms/step - accuracy: 0.8854 - loss: 0.3084 - val_accuracy: 0.9020 - val_loss: 0.2789\n",
            "Epoch 5/10\n",
            "422/422 - 2s - 4ms/step - accuracy: 0.8956 - loss: 0.2842 - val_accuracy: 0.8960 - val_loss: 0.2811\n",
            "Epoch 6/10\n",
            "422/422 - 2s - 4ms/step - accuracy: 0.9019 - loss: 0.2653 - val_accuracy: 0.9050 - val_loss: 0.2555\n",
            "Epoch 7/10\n",
            "422/422 - 2s - 4ms/step - accuracy: 0.9083 - loss: 0.2469 - val_accuracy: 0.9077 - val_loss: 0.2484\n",
            "Epoch 8/10\n",
            "422/422 - 2s - 5ms/step - accuracy: 0.9115 - loss: 0.2324 - val_accuracy: 0.9112 - val_loss: 0.2441\n",
            "Epoch 9/10\n",
            "422/422 - 2s - 5ms/step - accuracy: 0.9175 - loss: 0.2214 - val_accuracy: 0.9077 - val_loss: 0.2436\n",
            "Epoch 10/10\n",
            "422/422 - 2s - 4ms/step - accuracy: 0.9212 - loss: 0.2084 - val_accuracy: 0.9173 - val_loss: 0.2366\n",
            "313/313 - 2s - 6ms/step - accuracy: 0.9082 - loss: 0.2595\n",
            "\n",
            "✅ Test Accuracy: 0.9082\n",
            "\u001b[1m1/1\u001b[0m \u001b[32m━━━━━━━━━━━━━━━━━━━━\u001b[0m\u001b[37m\u001b[0m \u001b[1m0s\u001b[0m 433ms/step\n",
            "예측 결과: [9 2 1 1 6]\n",
            "실제 레이블: [9 2 1 1 6]\n"
          ]
        }
      ]
    }
  ]
}